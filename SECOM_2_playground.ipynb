{
  "nbformat": 4,
  "nbformat_minor": 0,
  "metadata": {
    "colab": {
      "name": "SECOM_2 playground.ipynb",
      "provenance": [],
      "collapsed_sections": [
        "JMjdWQnIxh5m",
        "Mzi1UPkjikWO",
        "gzccc9RHiZ3B",
        "wQeOPQlyirUq",
        "quKwjXG7nRvI"
      ],
      "include_colab_link": true
    },
    "kernelspec": {
      "name": "python3",
      "display_name": "Python 3"
    },
    "language_info": {
      "name": "python"
    }
  },
  "cells": [
    {
      "cell_type": "markdown",
      "metadata": {
        "id": "view-in-github",
        "colab_type": "text"
      },
      "source": [
        "<a href=\"https://colab.research.google.com/github/mrreyesm/SECOM/blob/main/SECOM_2_playground.ipynb\" target=\"_parent\"><img src=\"https://colab.research.google.com/assets/colab-badge.svg\" alt=\"Open In Colab\"/></a>"
      ]
    },
    {
      "cell_type": "markdown",
      "source": [
        "# SECOM: Data Preparation & Modelling"
      ],
      "metadata": {
        "id": "AeHoeDIRwiyB"
      }
    },
    {
      "cell_type": "markdown",
      "source": [
        "#GLOBAL VARIABLES"
      ],
      "metadata": {
        "id": "OpftoeYRsOT0"
      }
    },
    {
      "cell_type": "code",
      "source": [
        "test_size = .2\n",
        "perc_missing_values = .55\n",
        "variance_threshold = 0.995\n",
        "corr_threshold = 0.99\n",
        "n_features_rfe = 25"
      ],
      "metadata": {
        "id": "2CnxQdupsOB9"
      },
      "execution_count": null,
      "outputs": []
    },
    {
      "cell_type": "markdown",
      "source": [
        "# Setting Environment"
      ],
      "metadata": {
        "id": "JMjdWQnIxh5m"
      }
    },
    {
      "cell_type": "markdown",
      "source": [
        "## Libraries"
      ],
      "metadata": {
        "id": "Mzi1UPkjikWO"
      }
    },
    {
      "cell_type": "code",
      "source": [
        "#Importing Librarys \n",
        "# For system related operations\n",
        "import sys\n",
        "#For the creation of dataframes and manipulating data\n",
        "import pandas as pd\n",
        "from pandas.api.types import is_numeric_dtype\n",
        "# For numerical processing\n",
        "import numpy as np\n",
        "# For statistical analysis\n",
        "import statistics\n",
        "# For data visualization\n",
        "import matplotlib.pyplot as plt\n",
        "import seaborn as sns\n",
        "\n",
        "# Stats\n",
        "from scipy.stats import shapiro\n",
        "# Iterable tools\n",
        "from itertools import combinations\n",
        "import warnings\n",
        "warnings.filterwarnings(\"ignore\")\n",
        "# For creating models\n",
        "from sklearn.model_selection import train_test_split\n",
        "from sklearn.preprocessing import MinMaxScaler\n",
        "from sklearn.experimental import enable_iterative_imputer\n",
        "from sklearn.impute import KNNImputer, IterativeImputer\n",
        "from sklearn.ensemble import RandomForestClassifier\n",
        "from sklearn.feature_selection import VarianceThreshold\n",
        "!{sys.executable} -m pip install boruta\n",
        "from boruta import BorutaPy\n",
        "from imblearn.over_sampling import SMOTE, RandomOverSampler\n",
        "from sklearn.feature_selection import RFE\n",
        "from sklearn.linear_model import LogisticRegression\n",
        "from sklearn.linear_model import LinearRegression\n",
        "from sklearn.metrics import roc_auc_score\n",
        "from sklearn.metrics import roc_curve\n",
        "from sklearn.metrics import classification_report\n",
        "from sklearn.metrics import confusion_matrix, accuracy_score"
      ],
      "metadata": {
        "id": "lELVqomIwy_0",
        "colab": {
          "base_uri": "https://localhost:8080/"
        },
        "outputId": "eaf57747-5aa4-4d38-a73d-06e2425b205b"
      },
      "execution_count": null,
      "outputs": [
        {
          "output_type": "stream",
          "name": "stdout",
          "text": [
            "Looking in indexes: https://pypi.org/simple, https://us-python.pkg.dev/colab-wheels/public/simple/\n",
            "Requirement already satisfied: boruta in /usr/local/lib/python3.7/dist-packages (0.3)\n",
            "Requirement already satisfied: scipy>=0.17.0 in /usr/local/lib/python3.7/dist-packages (from boruta) (1.4.1)\n",
            "Requirement already satisfied: scikit-learn>=0.17.1 in /usr/local/lib/python3.7/dist-packages (from boruta) (1.0.2)\n",
            "Requirement already satisfied: numpy>=1.10.4 in /usr/local/lib/python3.7/dist-packages (from boruta) (1.21.6)\n",
            "Requirement already satisfied: threadpoolctl>=2.0.0 in /usr/local/lib/python3.7/dist-packages (from scikit-learn>=0.17.1->boruta) (3.1.0)\n",
            "Requirement already satisfied: joblib>=0.11 in /usr/local/lib/python3.7/dist-packages (from scikit-learn>=0.17.1->boruta) (1.1.0)\n"
          ]
        }
      ]
    },
    {
      "cell_type": "markdown",
      "source": [
        "## Master functions"
      ],
      "metadata": {
        "id": "gzccc9RHiZ3B"
      }
    },
    {
      "cell_type": "code",
      "source": [
        "# Create function that describes each column\n",
        "def descriptive_statistics(df):\n",
        "  #Creates empty target dataframe\n",
        "  col_names = [\"FEATURE\", \"COUNT\", \"SUM\",  \"MEAN\", \"MIN\", \"Q1\", \"MEDIAN\",\n",
        "             \"Q3\", \"MAX\", \"VARIANCE\", \"STANDARD_DEV\", \"UNIQUE_VALUES\",\n",
        "             \"MISSING_VALUES\", \"PERCENTAGE_NA\", \"OUTLIERS_3S\", \"PERCENTAGE_O3S\",\n",
        "             \"NORM_STD\"]\n",
        "  descriptive_df = pd.DataFrame(columns=col_names)\n",
        "  # Only for numeric values\n",
        "  df = df.select_dtypes(include=['int64','float64'])\n",
        "  # Iterates through each column\n",
        "  for col, col_name in enumerate(df.columns):\n",
        "    num_values = df[col_name].count()\n",
        "    sum = df[col_name].sum()\n",
        "    # Central tendency\n",
        "    mean = df[col_name].mean()\n",
        "    min = df[col_name].min()\n",
        "    q1 = df[col_name].quantile(0.25)\n",
        "    median = df[col_name].quantile(0.50)\n",
        "    q3 = df[col_name].quantile(0.75)\n",
        "    max = df[col_name].max()\n",
        "    # Volatility\n",
        "    var = df[col_name].var()\n",
        "    std = df[col_name].std()\n",
        "    unique = df[col_name].nunique()\n",
        "    missing = df[col_name].isnull().sum()\n",
        "    percentage_na = df[col_name].isnull().sum() * 100 / len(df[col_name])\n",
        "    # Outlier identification with zscore\n",
        "    zscores = (df[col_name]-mean)/std\n",
        "    zscores = zscores.to_frame()\n",
        "    zoutliers = zscores.query(f\"{col_name} > 3 or {col_name} < -3\")\n",
        "    outliers = zoutliers[col_name].count()\n",
        "    perc_out = (outliers/num_values)*100\n",
        "    # Min - Max normalization\n",
        "    temp = (df[col_name] - min)/ (max - min)\n",
        "    std_norm_values = temp.std()\n",
        "    # Creates a list wirh all the values and concatenates it to target df\n",
        "    desc = [col_name, num_values, sum,  mean, min, q1, median, q3,\n",
        "           max, var, std, unique, missing, percentage_na, outliers,\n",
        "           perc_out, std_norm_values]\n",
        "    df_length = len(descriptive_df)\n",
        "    descriptive_df.loc[df_length] = desc\n",
        "  return descriptive_df"
      ],
      "metadata": {
        "id": "Ir9djJBUaKJi"
      },
      "execution_count": null,
      "outputs": []
    },
    {
      "cell_type": "code",
      "source": [
        "# Create function that counts columns with above certain % of NAs\n",
        "def show_features_many_nulls(df, percentage):\n",
        "    features_nulls = []\n",
        "    for col in df.columns:\n",
        "        percentage_nulls = 100 * (df[col].isna().sum() / len(df[col]))\n",
        "        if (percentage_nulls > percentage) and (col != 'TIMESTAMP' or col != 'STATUS'):\n",
        "          features_nulls.append(col)\n",
        "    print(f\"Features with more than {percentage}% of missing values, {len(features_nulls)}\")"
      ],
      "metadata": {
        "id": "8SSXQgtcjdeD"
      },
      "execution_count": null,
      "outputs": []
    },
    {
      "cell_type": "code",
      "source": [
        "#functions to treat outliers\n",
        "def outlier_replacement(data):\n",
        "  copy_train_df = data.copy()\n",
        "  df = data.copy()\n",
        "  for col in df.columns:\n",
        "      mean = df[col].mean()\n",
        "      std_dev = df[col].std(axis=0)\n",
        "      copy_train_df[col] = np.where(df[col] > (mean + 3*std_dev), 1, np.where(df[col] < (mean - 3*std_dev), 1, 0))                            \n",
        "      df[col] = np.where(df[col] > (mean + 3*std_dev) , (mean + 3*std_dev), np.where(df[col] < (mean - 3*std_dev) , (mean - 3*std_dev), df[col]))  \n",
        "  print(\"TOTAL OF VALUES: \", (copy_train_df.isnull().sum().sum() + copy_train_df.notnull().sum().sum()),\n",
        "        \"\\nTOTAL OF OUTLIERS: \", copy_train_df.sum().sum(),\n",
        "        \"\\nPERCENTAGE OF OUTLIERS REPLACED: \", (copy_train_df.sum().sum()/(copy_train_df.isnull().sum().sum() + copy_train_df.notnull().sum().sum()))*100, \"%\"  )\n",
        "  return df"
      ],
      "metadata": {
        "id": "Ckt3CiyZRQFy"
      },
      "execution_count": null,
      "outputs": []
    },
    {
      "cell_type": "code",
      "source": [
        "#function to apply kNN imputation\n",
        "def knn_imputation(data):\n",
        "  scaler = MinMaxScaler(feature_range=(-1,1))\n",
        "  df = pd.DataFrame(scaler.fit_transform(data), columns = data.columns)\n",
        "  print(\"PERCENTAGE OF MISSING VALUES:\",\n",
        "        round((df.isnull().sum().sum()/(df.isnull().sum().sum() \n",
        "        + df.notnull().sum().sum()))*100, 2) , \" %\\n\")\n",
        "  imputer = KNNImputer(n_neighbors=5)\n",
        "  df = pd.DataFrame(imputer.fit_transform(df),columns = df.columns)\n",
        "  print(\"PERCENTAGE OF MISSING VALUES AFTER IMPUTATION:\",\n",
        "        round((df.isnull().sum().sum()/(df.isnull().sum().sum() \n",
        "        + df.notnull().sum().sum()))*100, 2) , \" %\")\n",
        "  return df"
      ],
      "metadata": {
        "id": "C2tftuYPY0tD"
      },
      "execution_count": null,
      "outputs": []
    },
    {
      "cell_type": "code",
      "source": [
        "#function to apply MICE imputation\n",
        "def mice_imputation(data):\n",
        "  print(\"PERCENTAGE OF MISSING VALUES:\",\n",
        "        round((data.isnull().sum().sum()/(data.isnull().sum().sum() \n",
        "        + data.notnull().sum().sum()))*100, 2) , \" %\")\n",
        "  df = data.copy()\n",
        "  lr = LinearRegression()\n",
        "  mice_imputer = IterativeImputer(estimator=lr,missing_values=np.nan, max_iter=10, imputation_order='roman',random_state=42)\n",
        "  df.iloc[:, :] = mice_imputer.fit_transform(data)\n",
        "  print(\"PERCENTAGE OF MISSING VALUES AFTER MICE:\",round((df.isnull().sum().sum()/(df.isnull().sum().sum() \n",
        "        + df.notnull().sum().sum()))*100, 2) , \" %\\n\")\n",
        "  return df"
      ],
      "metadata": {
        "id": "gfu2OwnybfBj"
      },
      "execution_count": null,
      "outputs": []
    },
    {
      "cell_type": "code",
      "source": [
        "#funciton to apply boruta feature selection\n",
        "def boruta_feature_selection(data, target_var):\n",
        "  data[target_var] = np.where(data[target_var] < 0, -1, 1)\n",
        "  # define random forest classifier\n",
        "  forest = RandomForestClassifier(n_jobs=-1, class_weight='balanced', max_depth=5)\n",
        "  df = data.iloc[: , :-1]\n",
        "  forest.fit(np.array(df), np.array(data[target_var]))\n",
        "  # define Boruta feature selection method\n",
        "  feat_selector = BorutaPy(forest, n_estimators='auto', random_state=42)\n",
        "  # find all relevant features\n",
        "  feat_selector.fit(np.array(df), np.array(data[target_var]))\n",
        "  # zip my names, ranks, and decisions in a single iterable\n",
        "  feature_ranks = list(zip(df.columns, \n",
        "                          feat_selector.ranking_, \n",
        "                          feat_selector.support_))\n",
        "  feature_ranks = pd.DataFrame (feature_ranks, columns = ['FEATURE', 'RANK', 'KEEP'])\n",
        "  boruta_features = feature_ranks.query(\"KEEP == True\")\n",
        "  boruta_features = boruta_features[\"FEATURE\"].unique()\n",
        "  boruta_features = np.append(boruta_features, target_var)\n",
        "  df = data[boruta_features]\n",
        "  print(\"FEATURES LEFT WITH BORUTA: \",df.shape[1], \"\\n\")\n",
        "  return df"
      ],
      "metadata": {
        "id": "oQf10oId1UJG"
      },
      "execution_count": null,
      "outputs": []
    },
    {
      "cell_type": "code",
      "source": [
        "#funciton to apply RFE feature selection\n",
        "def rfe_feature_selection(data, target_var, n_features):\n",
        "  data[target_var] = np.where(data[target_var] < 0, -1, 1)\n",
        "  # define random forest classifier\n",
        "  forest = RandomForestClassifier(n_jobs=-1, class_weight='balanced', max_depth=5)\n",
        "  df = data.iloc[: , :-1]\n",
        "  forest.fit(np.array(df), np.array(data[target_var]))\n",
        "  # define Boruta feature selection method\n",
        "  feat_selector =RFE(forest, n_features_to_select = n_features)\n",
        "  # find all relevant features\n",
        "  feat_selector.fit(np.array(df), np.array(data[target_var]))\n",
        "  # zip my names, ranks, and decisions in a single iterable\n",
        "  feature_ranks = list(zip(df.columns, \n",
        "                          feat_selector.ranking_, \n",
        "                          feat_selector.support_))\n",
        "  feature_ranks = pd.DataFrame (feature_ranks, columns = ['FEATURE', 'RANK', 'KEEP'])\n",
        "  rfe_features = feature_ranks.query(\"KEEP == True\")\n",
        "  rfe_features = rfe_features[\"FEATURE\"].unique()\n",
        "  rfe_features = np.append(rfe_features, target_var)\n",
        "  df = data[rfe_features]\n",
        "  print(\"FEATURES LEFT WITH RFE: \",df.shape[1], \"\\n\")\n",
        "  return df"
      ],
      "metadata": {
        "id": "IhGRMbgV1USl"
      },
      "execution_count": null,
      "outputs": []
    },
    {
      "cell_type": "code",
      "source": [
        "#function to apply SMOTE balancing\n",
        "def smote_balancing(data, target_var):\n",
        "  print(\"BEFORE BALANCING\")\n",
        "  print(data.groupby([target_var]).size().reset_index().rename(columns={0:'count'}))\n",
        "  smote = SMOTE(random_state=42)\n",
        "  df = data.iloc[: , :-1]\n",
        "  df_data_sm, df_target_sm = smote.fit_resample(df, data[target_var])\n",
        "  print(\"AFTER SMOTE BALANCING\")\n",
        "  df = pd.concat([df_data_sm, df_target_sm], axis=1)\n",
        "  print(df.groupby([target_var]).size().reset_index().rename(columns={0:'count'}))\n",
        "  return df "
      ],
      "metadata": {
        "id": "rUlmgnsAjpT2"
      },
      "execution_count": null,
      "outputs": []
    },
    {
      "cell_type": "code",
      "source": [
        "#function to apply ROSE balancing\n",
        "def rose_balancing(data, target_var):\n",
        "  print(\"BEFORE BALANCING\")\n",
        "  print(data.groupby([target_var]).size().reset_index().rename(columns={0:'count'}))\n",
        "  ros = RandomOverSampler(random_state=42)\n",
        "  df = data.iloc[: , :-1]\n",
        "  print(\"AFTER ROSE BALANCING\")\n",
        "  df_data_ros, df_target_ros = ros.fit_resample(df, data[target_var])\n",
        "  df = pd.concat([df_data_ros, df_target_ros], axis=1)\n",
        "  print(df.groupby([target_var]).size().reset_index().rename(columns={0:'count'}))\n",
        "  return df"
      ],
      "metadata": {
        "id": "lDj2uBgrjpn9"
      },
      "execution_count": null,
      "outputs": []
    },
    {
      "cell_type": "code",
      "source": [
        "def logistic_regression(X_train, X_test, target_var):\n",
        "  Y_train = np.where(X_train[target_var] < 0, -1, 1)\n",
        "  X_train = X_train.iloc[: , :-1]\n",
        "  Y_test = np.where(X_test[target_var] < 0, -1, 1)\n",
        "  X_test = X_test.iloc[: , :-1]\n",
        "  logreg = LogisticRegression()\n",
        "  logreg.fit(X_train, Y_train)\n",
        "  Y_pred = logreg.predict(X_test)\n",
        "  print('Accuracy of logistic regression classifier on test set: {:.2f}'.format(logreg.score(X_test, y_test)))\n",
        "  print(classification_report(Y_test, Y_pred))\n",
        "  print('Average Accuracy:', accuracy_score(Y_test, Y_pred))\n",
        "  logit_roc_auc = roc_auc_score(Y_test, logreg.predict(X_test))\n",
        "  fpr, tpr, thresholds = roc_curve(Y_test, logreg.predict_proba(X_test)[:,1])\n",
        "  plt.figure()\n",
        "  plt.plot(fpr, tpr, label='Logistic Regression (area = %0.2f)' % logit_roc_auc)\n",
        "  plt.plot([0, 1], [0, 1],'r--')\n",
        "  plt.xlim([0.0, 1.0])\n",
        "  plt.ylim([0.0, 1.05])\n",
        "  plt.xlabel('False Positive Rate')\n",
        "  plt.ylabel('True Positive Rate')\n",
        "  plt.title('Receiver operating characteristic')\n",
        "  plt.legend(loc=\"lower right\")\n",
        "  plt.savefig('Log_ROC')\n",
        "  plt.show()"
      ],
      "metadata": {
        "id": "Nj3U3rVx_1Jb"
      },
      "execution_count": null,
      "outputs": []
    },
    {
      "cell_type": "code",
      "source": [
        "def logistic_regression_with_scaler(X_train, X_test, target_var):\n",
        "  scaler = MinMaxScaler(feature_range=(-1,1))\n",
        "  Y_train = np.where(X_train[target_var] < 0, -1, 1)\n",
        "  X_train = X_train.iloc[: , :-1]\n",
        "  X_train = pd.DataFrame(scaler.fit_transform(X_train), columns = X_train.columns)\n",
        "  Y_test = np.where(X_test[target_var] < 0, -1, 1)\n",
        "  X_test = X_test.iloc[: , :-1]\n",
        "  X_test = pd.DataFrame(scaler.fit_transform(X_test), columns = X_test.columns)\n",
        "  logreg = LogisticRegression()\n",
        "  logreg.fit(X_train, Y_train)\n",
        "  Y_pred = logreg.predict(X_test)\n",
        "  print('Accuracy of logistic regression classifier on test set: {:.2f}'.format(logreg.score(X_test, y_test)))\n",
        "  print(classification_report(Y_test, Y_pred))\n",
        "  print('Average Accuracy:', accuracy_score(Y_test, Y_pred))\n",
        "  logit_roc_auc = roc_auc_score(Y_test, logreg.predict(X_test))\n",
        "  fpr, tpr, thresholds = roc_curve(Y_test, logreg.predict_proba(X_test)[:,1])\n",
        "  plt.figure()\n",
        "  plt.plot(fpr, tpr, label='Logistic Regression (area = %0.2f)' % logit_roc_auc)\n",
        "  plt.plot([0, 1], [0, 1],'r--')\n",
        "  plt.xlim([0.0, 1.0])\n",
        "  plt.ylim([0.0, 1.05])\n",
        "  plt.xlabel('False Positive Rate')\n",
        "  plt.ylabel('True Positive Rate')\n",
        "  plt.title('Receiver operating characteristic')\n",
        "  plt.legend(loc=\"lower right\")\n",
        "  plt.savefig('Log_ROC')\n",
        "  plt.show()"
      ],
      "metadata": {
        "id": "8IFx_MH2wVLI"
      },
      "execution_count": null,
      "outputs": []
    },
    {
      "cell_type": "markdown",
      "source": [
        "## Loading data"
      ],
      "metadata": {
        "id": "wQeOPQlyirUq"
      }
    },
    {
      "cell_type": "code",
      "source": [
        "# Creates a dataframe with the features of the SECOM dataset\n",
        "url = \"https://archive.ics.uci.edu/ml/machine-learning-databases/secom/secom.data\"\n",
        "secom_features = pd.read_csv(url, sep = ' ', header = None)\n",
        "# Gives names to the columns according to their position in the dataset\n",
        "secom_features.columns = [\"FEATURE_\"+str(col+1) for col in\n",
        "                          range(0,len(secom_features.columns))]\n",
        "# Creates a dataframe with the labels of the SECOM dataset and gives a col name\n",
        "url=\"https://archive.ics.uci.edu/ml/machine-learning-databases/secom/secom_labels.data\"\n",
        "secom_labels = pd.read_csv(url, sep = \" \", header = None)\n",
        "secom_labels.columns = (\"STATUS\", \"TIMESTAMP\")\n",
        "# Changes timestamp column to datetime format\n",
        "secom_labels['TIMESTAMP'] =  pd.to_datetime(secom_labels['TIMESTAMP'])\n",
        "# Merges both datasets through the index\n",
        "secom_data = pd.merge(secom_labels, secom_features, left_index=True,\n",
        "                      right_index=True)\n",
        "secom_data.shape"
      ],
      "metadata": {
        "id": "qIttGQeAwltk",
        "colab": {
          "base_uri": "https://localhost:8080/"
        },
        "outputId": "aaae5bda-8a85-425c-e46e-f3725da6118a"
      },
      "execution_count": null,
      "outputs": [
        {
          "output_type": "execute_result",
          "data": {
            "text/plain": [
              "(1567, 592)"
            ]
          },
          "metadata": {},
          "execution_count": 28
        }
      ]
    },
    {
      "cell_type": "markdown",
      "source": [
        "# Splitting data"
      ],
      "metadata": {
        "id": "quKwjXG7nRvI"
      }
    },
    {
      "cell_type": "code",
      "source": [
        "# Subset dataset between fail and pass, split and then concatenate to keep proportion\n",
        "subset = secom_data.drop(columns = \"TIMESTAMP\")\n",
        "# select pass cases\n",
        "pass_df = subset[subset[\"STATUS\"] == 1]\n",
        "X_p = pass_df.iloc[:,1:]\n",
        "y_p = pass_df.loc[:,\"STATUS\"]\n",
        "# select fail cases\n",
        "fail_df = subset[subset[\"STATUS\"] == -1]\n",
        "X_f = fail_df.iloc[:,1:]\n",
        "y_f = fail_df.loc[:,\"STATUS\"]\n",
        "#Split into test and train dataset 80% 20%\n",
        "X_train_p,X_test_p,y_train_p,y_test_p = train_test_split(X_p, y_p, test_size=test_size,\n",
        "                                                         random_state=42)\n",
        "X_train_f,X_test_f,y_train_f,y_test_f = train_test_split(X_f, y_f, test_size=test_size,\n",
        "                                                         random_state=42)\n",
        "#Concatenate results\n",
        "X_train = pd.concat([X_train_p, X_train_f], axis=0)\n",
        "X_test = pd.concat([X_test_p, X_test_f], axis=0)\n",
        "y_train = pd.concat([y_train_p, y_train_f], axis=0)\n",
        "y_test = pd.concat([y_test_p, y_test_f], axis=0)\n",
        "#Examine proportions of train dataset\n",
        "print(\"----TRAIN DATASET----\\n\")\n",
        "X_train = pd.concat([X_train, y_train], axis=1)\n",
        "print(X_train.shape)\n",
        "Fail = X_train[X_train[\"STATUS\"] == 1]\n",
        "Pass = X_train[X_train[\"STATUS\"] == -1]\n",
        "print( \"Fail cases: \", Fail[\"STATUS\"].count(), \"Pass cases: \", Pass[\"STATUS\"].count())\n",
        "# Overall number of missing values in the dataset\n",
        "print(\"PERCENTAGE OF MISSING VALUES :\",\n",
        "      round((X_train.isnull().sum().sum()/(X_train.isnull().sum().sum() \n",
        "      + X_train.notnull().sum().sum()))*100, 2) , \" %\")\n",
        "#Examine proportions of test dataset\n",
        "print(\"\\n----TEST DATASET----\\n\")\n",
        "X_test = pd.concat([X_test, y_test], axis=1)\n",
        "print(X_test.shape)\n",
        "Fail = X_test[X_test[\"STATUS\"] == 1]\n",
        "Pass = X_test[X_test[\"STATUS\"] == -1]\n",
        "print( \"Fail cases: \", Fail[\"STATUS\"].count(), \"Pass cases: \", Pass[\"STATUS\"].count())\n",
        "# Overall number of missing values in the dataset\n",
        "print(\"PERCENTAGE OF MISSING VALUES :\",\n",
        "      round((X_test.isnull().sum().sum()/(X_test.isnull().sum().sum() \n",
        "      + X_test.notnull().sum().sum()))*100, 2) , \" %\")\n",
        "show_features_many_nulls(X_test, 55)"
      ],
      "metadata": {
        "colab": {
          "base_uri": "https://localhost:8080/"
        },
        "id": "2rgSKPhTEdM1",
        "outputId": "a21adfd8-7867-49b4-c5fb-af22035804c4"
      },
      "execution_count": null,
      "outputs": [
        {
          "output_type": "stream",
          "name": "stdout",
          "text": [
            "----TRAIN DATASET----\n",
            "\n",
            "(1253, 591)\n",
            "Fail cases:  83 Pass cases:  1170\n",
            "PERCENTAGE OF MISSING VALUES : 4.54  %\n",
            "\n",
            "----TEST DATASET----\n",
            "\n",
            "(314, 591)\n",
            "Fail cases:  21 Pass cases:  293\n",
            "PERCENTAGE OF MISSING VALUES : 4.49  %\n",
            "Features with more than 55% of missing values, 24\n"
          ]
        }
      ]
    },
    {
      "cell_type": "markdown",
      "source": [
        "#Reducing Dimensionality"
      ],
      "metadata": {
        "id": "mdd0NSY97G4Y"
      }
    },
    {
      "cell_type": "markdown",
      "source": [
        "## High Percentage of missing values"
      ],
      "metadata": {
        "id": "_CuTQFEnNmsV"
      }
    },
    {
      "cell_type": "code",
      "source": [
        "#Copy the Dataset to easily go back if mistakes are made\n",
        "X_train_df = X_train.copy()\n",
        "#This code will remove the features with a High Percentage of missing values (more than 55%)\n",
        "X_train_df_ = X_train_df\n",
        "print(\"TOTAL FEATURES: \", len(X_train_df_.columns))\n",
        "X_train_df = X_train_df.loc[:, X_train_df.isnull().mean() < perc_missing_values]\n",
        "print(\"FEATURES REMOVED: \", len(X_train_df_.columns)-len(X_train_df.columns),f\" cols with >{perc_missing_values*100}% Nulls\"\n",
        "      \"\\nFEATURES LEFT: \", len(X_train_df.columns))"
      ],
      "metadata": {
        "id": "VZgo8EMI7ve9",
        "colab": {
          "base_uri": "https://localhost:8080/"
        },
        "outputId": "78202166-b65c-435e-dcd0-a6b66c5c10e4"
      },
      "execution_count": null,
      "outputs": [
        {
          "output_type": "stream",
          "name": "stdout",
          "text": [
            "TOTAL FEATURES:  591\n",
            "FEATURES REMOVED:  24  cols with >55.00000000000001% Nulls\n",
            "FEATURES LEFT:  567\n"
          ]
        }
      ]
    },
    {
      "cell_type": "markdown",
      "source": [
        "## Low Variance"
      ],
      "metadata": {
        "id": "-1SZiMcqNV85"
      }
    },
    {
      "cell_type": "code",
      "source": [
        "X_train_dftemp = X_train_df\n",
        "scaler = MinMaxScaler(feature_range=(-1,1))\n",
        "X_train_df = pd.DataFrame(scaler.fit_transform(X_train_df), columns = X_train_df.columns)\n",
        "threshold = variance_threshold\n",
        "var_threshold = threshold * (1 - threshold)\n",
        "varThreshold = VarianceThreshold(var_threshold)\n",
        "varThreshold.fit(X_train_df)\n",
        "mask = varThreshold.get_support()\n",
        "low_var_features = X_train_df.loc[:, ~mask].columns\n",
        "X_train_df.drop(low_var_features, axis=1, inplace=True)\n",
        "print(\"TOTAL FEATURES: \", len(X_train_dftemp.columns),\n",
        "      \"\\nFEATURES REMOVED: \", len(X_train_dftemp.columns)-len(X_train_df.columns), f\" featueres with stdev = 0 or whose values are equal in more than {threshold*100}% of the feature\",\n",
        "      \"\\nFEATURES LEFT: \", len(X_train_df.columns), \"\\n\")\n",
        "features_descriptives = descriptive_statistics(X_train_df)\n",
        "volatility = features_descriptives[\"NORM_STD\"].where(features_descriptives[\"FEATURE\"] != \"STATUS\")"
      ],
      "metadata": {
        "id": "cok0KFzk7O78",
        "colab": {
          "base_uri": "https://localhost:8080/"
        },
        "outputId": "47dc0f1c-c8c7-476e-e00a-79cf1d40fd05"
      },
      "execution_count": null,
      "outputs": [
        {
          "output_type": "stream",
          "name": "stdout",
          "text": [
            "TOTAL FEATURES:  567 \n",
            "FEATURES REMOVED:  140  featueres with stdev = 0 or whose values are equal in more than 99.5% of the feature \n",
            "FEATURES LEFT:  427 \n",
            "\n"
          ]
        }
      ]
    },
    {
      "cell_type": "markdown",
      "source": [
        "## High Correlation\n",
        "Remove highly correlated features that have low correlation with target."
      ],
      "metadata": {
        "id": "zIBJ2ZqZN3_0"
      }
    },
    {
      "cell_type": "code",
      "source": [
        "corr_df = pd.DataFrame(columns=[\"FEATURE_A\", \"FEATURE_B\", \"CORRELATION\"]) \n",
        "X_train_df2 =  X_train_df.loc[:, X_train_df.columns != \"STATUS\"]\n",
        "for col_name, col_name2 in combinations(X_train_df2 , 2):\n",
        "    correlation = X_train_df2[col_name].corr(X_train_df2[col_name2])\n",
        "    corrlist = [col_name, col_name2, correlation]\n",
        "    corr_length = len(corr_df)\n",
        "    corr_df.loc[corr_length] = corrlist\n",
        "highly_corr_features = corr_df.query(f\"CORRELATION > {corr_threshold} | CORRELATION < -{corr_threshold}\")\n",
        "highly_corr_features = highly_corr_features.reset_index()\n",
        "highly_corr_features = highly_corr_features.drop(columns = \"index\")\n",
        "#Create list of features that were in the most correlated pairs\n",
        "features_a = highly_corr_features[\"FEATURE_A\"].unique()\n",
        "features_b = highly_corr_features[\"FEATURE_B\"].unique()\n",
        "features = np.concatenate([features_a , features_b])\n",
        "features = np.append(features, 'STATUS')\n",
        "high_corr = X_train_df[features]\n",
        "#remove the one that has less correlation to the target variable\n",
        "corr_target = pd.DataFrame(columns=[\"FEATURE\", \"CORRELATION_WITH_TARGET_x\"])\n",
        "for col_name in high_corr:\n",
        "    correlation = high_corr[\"STATUS\"].corr(X_train_df[col_name])\n",
        "    corrlist = [col_name, correlation]\n",
        "    corr_length = len(corr_target)\n",
        "    corr_target.loc[corr_length] = corrlist\n",
        "corr_target = corr_target.where(corr_target[\"FEATURE\"] != \"STATUS\")\n",
        "corrs_target = pd.merge(corr_df, corr_target, how=\"inner\", left_on=\"FEATURE_A\", right_on=\"FEATURE\")\n",
        "corrs_target.rename(columns = {'CORRELATION_WITH_TARGET_x':'CORRELATION_WITH_TARGET_A'}, inplace = True)\n",
        "corrs_target = pd.merge(corrs_target, corr_target, how=\"inner\", left_on=\"FEATURE_B\", right_on=\"FEATURE\")\n",
        "corrs_target.rename(columns = {'CORRELATION_WITH_TARGET_x':'CORRELATION_WITH_TARGET_B'}, inplace = True)\n",
        "corrs_target.drop(columns=[\"FEATURE_x\", \"FEATURE_y\"])\n",
        "corrs_target = corrs_target[[\"CORRELATION\",'FEATURE_A', 'CORRELATION_WITH_TARGET_A', 'FEATURE_B', 'CORRELATION_WITH_TARGET_B']]\n",
        "corrs_target[\"lowest_corr_w_target\"] = np.where( abs(corrs_target.CORRELATION_WITH_TARGET_A) < abs(corrs_target.CORRELATION_WITH_TARGET_B), corrs_target.FEATURE_A, corrs_target.FEATURE_B)\n",
        "corrs_target = corrs_target .query(f\"CORRELATION > {corr_threshold} | CORRELATION < -{corr_threshold}\")\n",
        "highly_corr_features_lowest_to_target = corrs_target[\"lowest_corr_w_target\"].unique()\n",
        "highly_corr_features_lowest_to_target = np.unique(highly_corr_features_lowest_to_target)\n",
        "print(\"TOTAL FEATURES: \", len(X_train_df.columns))\n",
        "X_train_dfcopy = X_train_df\n",
        "X_train_df.drop(highly_corr_features_lowest_to_target, axis=1, inplace=True)\n",
        "print(\"FEATURES REMOVED: \", len(highly_corr_features_lowest_to_target),f\" cols with above +-{corr_threshold} correlation with another feature and low correlation with target\"\n",
        "      \"\\nFEATURES LEFT: \", len(X_train_df.columns))"
      ],
      "metadata": {
        "colab": {
          "base_uri": "https://localhost:8080/"
        },
        "id": "v40o4DGML3cQ",
        "outputId": "47e4dbd0-5a95-4e4c-87b3-4f6d9fa3b895"
      },
      "execution_count": null,
      "outputs": [
        {
          "output_type": "stream",
          "name": "stdout",
          "text": [
            "TOTAL FEATURES:  427\n",
            "FEATURES REMOVED:  80  cols with above +-0.99 correlation with another feature and low correlation with target\n",
            "FEATURES LEFT:  347\n"
          ]
        }
      ]
    },
    {
      "cell_type": "markdown",
      "source": [
        "#Evaluate\n",
        "In the following steps we will evaluate the different combinations of data preparation to get to the best combination for a simple model.\n",
        "\n",
        "Simple feature romoval will already be done:\n",
        "\n",
        "* Removing features with high percentage of missing values\n",
        "* Removing features with near 0 variance\n",
        "* Removing from the most correlated features the one that has the lowest correlation with the target variable\n",
        "\n",
        "We will try different combinations imputations methods, feature selection and balancing and examine the performance of a simple Logistic Regression."
      ],
      "metadata": {
        "id": "TGcaFM6T3Y2M"
      }
    },
    {
      "cell_type": "markdown",
      "source": [
        "##Starting point"
      ],
      "metadata": {
        "id": "YCWvGq5T4noT"
      }
    },
    {
      "cell_type": "code",
      "source": [
        "print(\"TRAIN SET SHAPE: \", X_train.shape)\n",
        "print(\"TEST SET SHAPE: \", X_test.shape)\n",
        "print(\"NUMBER OF COLUMNS AFTER ROUGHT FEATURE REMOVAL\", len(X_train_df.columns))\n",
        "X__train = X_train[X_train_df.columns]\n",
        "X__test = X_test[X_train_df.columns]\n",
        "print(\"TRAIN SET SHAPE: \", X__train.shape)\n",
        "print(\"TEST SET SHAPE: \", X__test.shape)\n",
        "print(\"\\nTRAIN SET:\")\n",
        "X__train = outlier_replacement(X__train)\n",
        "print(\"\\nTEST SET:\")\n",
        "X__test = outlier_replacement(X__test)"
      ],
      "metadata": {
        "colab": {
          "base_uri": "https://localhost:8080/"
        },
        "id": "-92cI7_a6OMk",
        "outputId": "cbacf685-fb1b-4d69-f19d-2c142020becf"
      },
      "execution_count": null,
      "outputs": [
        {
          "output_type": "stream",
          "name": "stdout",
          "text": [
            "TRAIN SET SHAPE:  (1253, 591)\n",
            "TEST SET SHAPE:  (314, 591)\n",
            "NUMBER OF COLUMNS AFTER ROUGHT FEATURE REMOVAL 347\n",
            "TRAIN SET SHAPE:  (1253, 347)\n",
            "TEST SET SHAPE:  (314, 347)\n",
            "\n",
            "TRAIN SET:\n",
            "TOTAL OF VALUES:  434791 \n",
            "TOTAL OF OUTLIERS:  4095 \n",
            "PERCENTAGE OF OUTLIERS REPLACED:  0.9418318226458229 %\n",
            "\n",
            "TEST SET:\n",
            "TOTAL OF VALUES:  108958 \n",
            "TOTAL OF OUTLIERS:  1022 \n",
            "PERCENTAGE OF OUTLIERS REPLACED:  0.9379761008829091 %\n"
          ]
        }
      ]
    },
    {
      "cell_type": "markdown",
      "source": [
        "###KNN IMPUTATION"
      ],
      "metadata": {
        "id": "5oPyeK-NQeO3"
      }
    },
    {
      "cell_type": "code",
      "source": [
        "print(\"\\nTRAIN SET:\")\n",
        "X__train__knn = knn_imputation(X__train)\n",
        "print(\"\\nTEST SET:\")\n",
        "X__test__knn = knn_imputation(X__test)"
      ],
      "metadata": {
        "colab": {
          "base_uri": "https://localhost:8080/"
        },
        "id": "f1yutTicaLJr",
        "outputId": "3c0f9752-9ab9-4b78-d2f4-705a4077424f"
      },
      "execution_count": null,
      "outputs": [
        {
          "output_type": "stream",
          "name": "stdout",
          "text": [
            "\n",
            "TRAIN SET:\n",
            "PERCENTAGE OF MISSING VALUES: 2.12  %\n",
            "\n",
            "PERCENTAGE OF MISSING VALUES AFTER IMPUTATION: 0.0  %\n",
            "\n",
            "TEST SET:\n",
            "PERCENTAGE OF MISSING VALUES: 2.13  %\n",
            "\n",
            "PERCENTAGE OF MISSING VALUES AFTER IMPUTATION: 0.0  %\n"
          ]
        }
      ]
    },
    {
      "cell_type": "markdown",
      "source": [
        "###MICE IMPUTATION"
      ],
      "metadata": {
        "id": "jpZmTs6DafmT"
      }
    },
    {
      "cell_type": "code",
      "source": [
        "print(\"\\nTRAIN SET:\")\n",
        "X__train__mice = mice_imputation(X__train)\n",
        "print(\"\\nTEST SET:\")\n",
        "X__test__mice = mice_imputation(X__test)"
      ],
      "metadata": {
        "colab": {
          "base_uri": "https://localhost:8080/"
        },
        "id": "0cOawt27agAL",
        "outputId": "3bc980f2-6550-472b-cf02-be3ea7b6e0f1"
      },
      "execution_count": null,
      "outputs": [
        {
          "output_type": "stream",
          "name": "stdout",
          "text": [
            "\n",
            "TRAIN SET:\n",
            "PERCENTAGE OF MISSING VALUES: 2.12  %\n",
            "PERCENTAGE OF MISSING VALUES AFTER MICE: 0.0  %\n",
            "\n",
            "\n",
            "TEST SET:\n",
            "PERCENTAGE OF MISSING VALUES: 2.13  %\n",
            "PERCENTAGE OF MISSING VALUES AFTER MICE: 0.0  %\n",
            "\n"
          ]
        }
      ]
    },
    {
      "cell_type": "markdown",
      "source": [
        "###BORUTA FEATURE SELECTION"
      ],
      "metadata": {
        "id": "kNcGPXnI00Z9"
      }
    },
    {
      "cell_type": "code",
      "source": [
        "print(\"\\nKNN TRAIN SET:\")\n",
        "X__train__knn__boruta = boruta_feature_selection(X__train__knn, target_var = 'STATUS')\n",
        "X__test__knn__boruta = X__test__knn[X__train__knn__boruta.columns]\n",
        "print(\"KNN BORUTA TRAIN SET SHAPE: \", X__train__knn__boruta.shape)\n",
        "print(\"KNN BORUTA TEST SET SHAPE: \", X__test__knn__boruta.shape)\n",
        "print(\"\\nMICE TRAIN SET:\")\n",
        "X__train__mice__boruta = boruta_feature_selection(X__train__mice, target_var = 'STATUS')\n",
        "X__test__mice__boruta = X__test__mice[X__train__mice__boruta.columns]\n",
        "print(\"MICE BORUTA TRAIN SET SHAPE: \", X__train__mice__boruta.shape)\n",
        "print(\"MICE BORUTA TEST SET SHAPE: \", X__test__mice__boruta.shape)"
      ],
      "metadata": {
        "colab": {
          "base_uri": "https://localhost:8080/"
        },
        "id": "OUEpUWcJ00wq",
        "outputId": "5003f4ef-41e7-47fe-c5f1-b8b245aed37b"
      },
      "execution_count": null,
      "outputs": [
        {
          "output_type": "stream",
          "name": "stdout",
          "text": [
            "\n",
            "KNN TRAIN SET:\n",
            "FEATURES LEFT WITH BORUTA:  15 \n",
            "\n",
            "KNN BORUTA TRAIN SET SHAPE:  (1253, 15)\n",
            "KNN BORUTA TEST SET SHAPE:  (314, 15)\n",
            "\n",
            "MICE TRAIN SET:\n",
            "FEATURES LEFT WITH BORUTA:  13 \n",
            "\n",
            "MICE BORUTA TRAIN SET SHAPE:  (1253, 13)\n",
            "MICE BORUTA TEST SET SHAPE:  (314, 13)\n"
          ]
        }
      ]
    },
    {
      "cell_type": "markdown",
      "source": [
        "###RFE FEATURE SELECTION"
      ],
      "metadata": {
        "id": "GQSvwapp008_"
      }
    },
    {
      "cell_type": "code",
      "source": [
        "print(\"\\nKNN TRAIN SET:\")\n",
        "X__train__knn__rfe = rfe_feature_selection(X__train__knn, target_var = 'STATUS', n_features = n_features_rfe)\n",
        "X__test__knn__rfe = X__test__knn[X__train__knn__rfe.columns]\n",
        "print(\"KNN RFE TRAIN SET SHAPE: \", X__train__knn__rfe.shape)\n",
        "print(\"KNN RFE TEST SET SHAPE: \", X__test__knn__rfe.shape)\n",
        "print(\"\\nMICE TRAIN SET:\")\n",
        "X__train__mice__rfe = rfe_feature_selection(X__train__mice, target_var = 'STATUS', n_features = n_features_rfe)\n",
        "X__test__mice__rfe = X__test__mice[X__train__mice__rfe.columns]\n",
        "print(\"MICE RFE TRAIN SET SHAPE: \", X__train__mice__rfe.shape)\n",
        "print(\"MICE RFE TEST SET SHAPE: \", X__test__mice__rfe.shape)"
      ],
      "metadata": {
        "colab": {
          "base_uri": "https://localhost:8080/"
        },
        "id": "tg7V5NOI01H_",
        "outputId": "37ab1b40-990e-4cf9-930e-926566ffd839"
      },
      "execution_count": null,
      "outputs": [
        {
          "output_type": "stream",
          "name": "stdout",
          "text": [
            "\n",
            "KNN TRAIN SET:\n",
            "FEATURES LEFT WITH RFE:  26 \n",
            "\n",
            "KNN RFE TRAIN SET SHAPE:  (1253, 26)\n",
            "KNN RFE TEST SET SHAPE:  (314, 26)\n",
            "\n",
            "MICE TRAIN SET:\n",
            "FEATURES LEFT WITH RFE:  26 \n",
            "\n",
            "MICE RFE TRAIN SET SHAPE:  (1253, 26)\n",
            "MICE RFE TEST SET SHAPE:  (314, 26)\n"
          ]
        }
      ]
    },
    {
      "cell_type": "markdown",
      "source": [
        "###SMOTE BALANCING"
      ],
      "metadata": {
        "id": "X8uSd6yYhS_l"
      }
    },
    {
      "cell_type": "code",
      "source": [
        "print(\"\\nKNN BORUTA TRAIN SET:\")\n",
        "X__train__knn__boruta__smote = smote_balancing(X__train__knn__boruta, target_var = 'STATUS')\n",
        "print(\"\\nMICE BORUTA TRAIN SET:\")\n",
        "X__train__mice__boruta__smote = smote_balancing(X__train__mice__boruta, target_var = 'STATUS')\n",
        "print(\"\\nKNN RFE TRAIN SET:\")\n",
        "X__train__knn__rfe__smote = smote_balancing(X__train__knn__rfe, target_var = 'STATUS')\n",
        "print(\"\\nMICE RFE TRAIN SET:\")\n",
        "X__train__mice__rfe__smote = smote_balancing(X__train__mice__rfe, target_var = 'STATUS')"
      ],
      "metadata": {
        "colab": {
          "base_uri": "https://localhost:8080/"
        },
        "id": "mL-tmGqNiAZ0",
        "outputId": "e07bc18e-b650-4246-8b46-b23bfc63f776"
      },
      "execution_count": null,
      "outputs": [
        {
          "output_type": "stream",
          "name": "stdout",
          "text": [
            "\n",
            "KNN BORUTA TRAIN SET:\n",
            "BEFORE BALANCING\n",
            "   STATUS  count\n",
            "0      -1   1170\n",
            "1       1     83\n",
            "AFTER SMOTE BALANCING\n",
            "   STATUS  count\n",
            "0      -1   1170\n",
            "1       1   1170\n",
            "\n",
            "MICE BORUTA TRAIN SET:\n",
            "BEFORE BALANCING\n",
            "   STATUS  count\n",
            "0      -1   1170\n",
            "1       1     83\n",
            "AFTER SMOTE BALANCING\n",
            "   STATUS  count\n",
            "0      -1   1170\n",
            "1       1   1170\n",
            "\n",
            "KNN RFE TRAIN SET:\n",
            "BEFORE BALANCING\n",
            "   STATUS  count\n",
            "0      -1   1170\n",
            "1       1     83\n",
            "AFTER SMOTE BALANCING\n",
            "   STATUS  count\n",
            "0      -1   1170\n",
            "1       1   1170\n",
            "\n",
            "MICE RFE TRAIN SET:\n",
            "BEFORE BALANCING\n",
            "   STATUS  count\n",
            "0      -1   1170\n",
            "1       1     83\n",
            "AFTER SMOTE BALANCING\n",
            "   STATUS  count\n",
            "0      -1   1170\n",
            "1       1   1170\n"
          ]
        }
      ]
    },
    {
      "cell_type": "markdown",
      "source": [
        "###ROSE BALANCING"
      ],
      "metadata": {
        "id": "3rAbtmhaiBLU"
      }
    },
    {
      "cell_type": "code",
      "source": [
        "print(\"\\nKNN BORUTA TRAIN SET:\")\n",
        "X__train__knn__boruta__rose =  rose_balancing(X__train__knn__boruta, target_var = 'STATUS')\n",
        "print(\"\\nMICE BORUTA TRAIN SET:\")\n",
        "X__train__mice__boruta__rose = rose_balancing(X__train__mice__boruta, target_var = 'STATUS')\n",
        "print(\"\\nKNN RFE TRAIN SET:\")\n",
        "X__train__knn__rfe__rose = rose_balancing(X__train__knn__rfe, target_var = 'STATUS')\n",
        "print(\"\\nMICE RFE TRAIN SET:\")\n",
        "X__train__mice__rfe__rose = rose_balancing(X__train__mice__rfe, target_var = 'STATUS')"
      ],
      "metadata": {
        "colab": {
          "base_uri": "https://localhost:8080/"
        },
        "id": "uyQE5qPBhrhs",
        "outputId": "8f2d116f-fa7d-45b9-84a4-afe53d4068e6"
      },
      "execution_count": null,
      "outputs": [
        {
          "output_type": "stream",
          "name": "stdout",
          "text": [
            "\n",
            "KNN BORUTA TRAIN SET:\n",
            "BEFORE BALANCING\n",
            "   STATUS  count\n",
            "0      -1   1170\n",
            "1       1     83\n",
            "AFTER ROSE BALANCING\n",
            "   STATUS  count\n",
            "0      -1   1170\n",
            "1       1   1170\n",
            "\n",
            "MICE BORUTA TRAIN SET:\n",
            "BEFORE BALANCING\n",
            "   STATUS  count\n",
            "0      -1   1170\n",
            "1       1     83\n",
            "AFTER ROSE BALANCING\n",
            "   STATUS  count\n",
            "0      -1   1170\n",
            "1       1   1170\n",
            "\n",
            "KNN RFE TRAIN SET:\n",
            "BEFORE BALANCING\n",
            "   STATUS  count\n",
            "0      -1   1170\n",
            "1       1     83\n",
            "AFTER ROSE BALANCING\n",
            "   STATUS  count\n",
            "0      -1   1170\n",
            "1       1   1170\n",
            "\n",
            "MICE RFE TRAIN SET:\n",
            "BEFORE BALANCING\n",
            "   STATUS  count\n",
            "0      -1   1170\n",
            "1       1     83\n",
            "AFTER ROSE BALANCING\n",
            "   STATUS  count\n",
            "0      -1   1170\n",
            "1       1   1170\n"
          ]
        }
      ]
    },
    {
      "cell_type": "markdown",
      "source": [
        "##EVALUATE DIFFERENT COMBINATIONS"
      ],
      "metadata": {
        "id": "xNPvJkyEq0v_"
      }
    },
    {
      "cell_type": "markdown",
      "source": [
        "###KNN BORUTA SMOTE LOGREG"
      ],
      "metadata": {
        "id": "gcOjpUVUNnm8"
      }
    },
    {
      "cell_type": "code",
      "source": [
        "logistic_regression(X__train__knn__boruta__smote, X__test__knn__boruta, target_var = 'STATUS')"
      ],
      "metadata": {
        "colab": {
          "base_uri": "https://localhost:8080/",
          "height": 486
        },
        "id": "wt4WE3tDOMzA",
        "outputId": "39bf6f35-ad11-4b6a-a8ce-0eeaf979a554"
      },
      "execution_count": null,
      "outputs": [
        {
          "output_type": "stream",
          "name": "stdout",
          "text": [
            "Accuracy of logistic regression classifier on test set: 0.74\n",
            "              precision    recall  f1-score   support\n",
            "\n",
            "          -1       0.95      0.76      0.84       293\n",
            "           1       0.12      0.48      0.20        21\n",
            "\n",
            "    accuracy                           0.74       314\n",
            "   macro avg       0.54      0.62      0.52       314\n",
            "weighted avg       0.90      0.74      0.80       314\n",
            "\n",
            "Average Accuracy: 0.7388535031847133\n"
          ]
        },
        {
          "output_type": "display_data",
          "data": {
            "text/plain": [
              "<Figure size 432x288 with 1 Axes>"
            ],
            "image/png": "[encoded data removed]"
          },
          "metadata": {
            "needs_background": "light"
          }
        }
      ]
    },
    {
      "cell_type": "markdown",
      "source": [
        "###KNN BORUTA ROSE LOGREG"
      ],
      "metadata": {
        "id": "2yHigybqONzg"
      }
    },
    {
      "cell_type": "code",
      "source": [
        "logistic_regression(X__train__knn__boruta__rose, X__test__knn__boruta, target_var = 'STATUS')"
      ],
      "metadata": {
        "colab": {
          "base_uri": "https://localhost:8080/",
          "height": 486
        },
        "id": "qGIS8jK5OQ_4",
        "outputId": "1a768f4f-47ec-4334-f335-4191af8852bf"
      },
      "execution_count": null,
      "outputs": [
        {
          "output_type": "stream",
          "name": "stdout",
          "text": [
            "Accuracy of logistic regression classifier on test set: 0.75\n",
            "              precision    recall  f1-score   support\n",
            "\n",
            "          -1       0.95      0.76      0.85       293\n",
            "           1       0.13      0.48      0.20        21\n",
            "\n",
            "    accuracy                           0.75       314\n",
            "   macro avg       0.54      0.62      0.52       314\n",
            "weighted avg       0.90      0.75      0.81       314\n",
            "\n",
            "Average Accuracy: 0.7452229299363057\n"
          ]
        },
        {
          "output_type": "display_data",
          "data": {
            "text/plain": [
              "<Figure size 432x288 with 1 Axes>"
            ],
            "image/png": "[encoded data removed]"
          },
          "metadata": {
            "needs_background": "light"
          }
        }
      ]
    },
    {
      "cell_type": "markdown",
      "source": [
        "###KNN RFE SMOTE LOGREG"
      ],
      "metadata": {
        "id": "B4o4tTZkOSTp"
      }
    },
    {
      "cell_type": "code",
      "source": [
        "logistic_regression(X__train__knn__rfe__smote, X__test__knn__rfe, target_var = 'STATUS')"
      ],
      "metadata": {
        "colab": {
          "base_uri": "https://localhost:8080/",
          "height": 486
        },
        "id": "S0p6lb6lOpaY",
        "outputId": "37e8b8ef-0f7a-4366-91f3-9400629b0442"
      },
      "execution_count": null,
      "outputs": [
        {
          "output_type": "stream",
          "name": "stdout",
          "text": [
            "Accuracy of logistic regression classifier on test set: 0.77\n",
            "              precision    recall  f1-score   support\n",
            "\n",
            "          -1       0.96      0.79      0.87       293\n",
            "           1       0.15      0.52      0.24        21\n",
            "\n",
            "    accuracy                           0.77       314\n",
            "   macro avg       0.56      0.66      0.55       314\n",
            "weighted avg       0.90      0.77      0.83       314\n",
            "\n",
            "Average Accuracy: 0.7738853503184714\n"
          ]
        },
        {
          "output_type": "display_data",
          "data": {
            "text/plain": [
              "<Figure size 432x288 with 1 Axes>"
            ],
            "image/png": "[encoded data removed]"
          },
          "metadata": {
            "needs_background": "light"
          }
        }
      ]
    },
    {
      "cell_type": "markdown",
      "source": [
        "###KNN RFE ROSE LOGREG"
      ],
      "metadata": {
        "id": "YkCABiqSOrxI"
      }
    },
    {
      "cell_type": "code",
      "source": [
        "logistic_regression(X__train__knn__rfe__rose, X__test__knn__rfe, target_var = 'STATUS')"
      ],
      "metadata": {
        "colab": {
          "base_uri": "https://localhost:8080/",
          "height": 486
        },
        "id": "YI5XJbMSOr7w",
        "outputId": "edac3065-5bbb-411c-eb75-8283f34204df"
      },
      "execution_count": null,
      "outputs": [
        {
          "output_type": "stream",
          "name": "stdout",
          "text": [
            "Accuracy of logistic regression classifier on test set: 0.78\n",
            "              precision    recall  f1-score   support\n",
            "\n",
            "          -1       0.97      0.79      0.87       293\n",
            "           1       0.17      0.62      0.27        21\n",
            "\n",
            "    accuracy                           0.78       314\n",
            "   macro avg       0.57      0.70      0.57       314\n",
            "weighted avg       0.91      0.78      0.83       314\n",
            "\n",
            "Average Accuracy: 0.7770700636942676\n"
          ]
        },
        {
          "output_type": "display_data",
          "data": {
            "text/plain": [
              "<Figure size 432x288 with 1 Axes>"
            ],
            "image/png": "[encoded data removed]"
          },
          "metadata": {
            "needs_background": "light"
          }
        }
      ]
    },
    {
      "cell_type": "markdown",
      "source": [
        "###MICE BORUTA SMOTE LOGREG"
      ],
      "metadata": {
        "id": "srSYIoaSOsGI"
      }
    },
    {
      "cell_type": "code",
      "source": [
        "logistic_regression(X__train__mice__boruta__smote, X__test__mice__boruta, target_var = 'STATUS')"
      ],
      "metadata": {
        "colab": {
          "base_uri": "https://localhost:8080/",
          "height": 486
        },
        "id": "dZmD3eCNOsPA",
        "outputId": "654673b2-9dff-4f3b-cec7-7d5e1c986236"
      },
      "execution_count": null,
      "outputs": [
        {
          "output_type": "stream",
          "name": "stdout",
          "text": [
            "Accuracy of logistic regression classifier on test set: 0.70\n",
            "              precision    recall  f1-score   support\n",
            "\n",
            "          -1       0.94      0.73      0.82       293\n",
            "           1       0.09      0.38      0.15        21\n",
            "\n",
            "    accuracy                           0.70       314\n",
            "   macro avg       0.52      0.55      0.48       314\n",
            "weighted avg       0.89      0.70      0.78       314\n",
            "\n",
            "Average Accuracy: 0.7038216560509554\n"
          ]
        },
        {
          "output_type": "display_data",
          "data": {
            "text/plain": [
              "<Figure size 432x288 with 1 Axes>"
            ],
            "image/png": "[encoded data removed]"
          },
          "metadata": {
            "needs_background": "light"
          }
        }
      ]
    },
    {
      "cell_type": "markdown",
      "source": [
        "###MICE BORUTA ROSE LOGREG"
      ],
      "metadata": {
        "id": "bFV3iR3qOsmo"
      }
    },
    {
      "cell_type": "code",
      "source": [
        "logistic_regression(X__train__mice__boruta__rose, X__test__mice__boruta, target_var = 'STATUS')"
      ],
      "metadata": {
        "colab": {
          "base_uri": "https://localhost:8080/",
          "height": 486
        },
        "id": "DFDABIFuOsvY",
        "outputId": "8b8d4c6e-1b01-4f11-c492-910afabf3c39"
      },
      "execution_count": null,
      "outputs": [
        {
          "output_type": "stream",
          "name": "stdout",
          "text": [
            "Accuracy of logistic regression classifier on test set: 0.71\n",
            "              precision    recall  f1-score   support\n",
            "\n",
            "          -1       0.95      0.73      0.83       293\n",
            "           1       0.10      0.43      0.17        21\n",
            "\n",
            "    accuracy                           0.71       314\n",
            "   macro avg       0.53      0.58      0.50       314\n",
            "weighted avg       0.89      0.71      0.78       314\n",
            "\n",
            "Average Accuracy: 0.7133757961783439\n"
          ]
        },
        {
          "output_type": "display_data",
          "data": {
            "text/plain": [
              "<Figure size 432x288 with 1 Axes>"
            ],
            "image/png": "[encoded data removed]"
          },
          "metadata": {
            "needs_background": "light"
          }
        }
      ]
    },
    {
      "cell_type": "markdown",
      "source": [
        "###MICE RFE SMOTE LOGREG"
      ],
      "metadata": {
        "id": "j3fJhUgYOs3J"
      }
    },
    {
      "cell_type": "code",
      "source": [
        "logistic_regression(X__train__mice__rfe__smote, X__test__mice__rfe , target_var = 'STATUS')"
      ],
      "metadata": {
        "colab": {
          "base_uri": "https://localhost:8080/",
          "height": 486
        },
        "id": "XIzWEKWkrSDb",
        "outputId": "d4557e8b-8f81-4d65-f306-3e0ec9d0e499"
      },
      "execution_count": null,
      "outputs": [
        {
          "output_type": "stream",
          "name": "stdout",
          "text": [
            "Accuracy of logistic regression classifier on test set: 0.79\n",
            "              precision    recall  f1-score   support\n",
            "\n",
            "          -1       0.96      0.81      0.88       293\n",
            "           1       0.15      0.48      0.23        21\n",
            "\n",
            "    accuracy                           0.79       314\n",
            "   macro avg       0.55      0.64      0.56       314\n",
            "weighted avg       0.90      0.79      0.84       314\n",
            "\n",
            "Average Accuracy: 0.7898089171974523\n"
          ]
        },
        {
          "output_type": "display_data",
          "data": {
            "text/plain": [
              "<Figure size 432x288 with 1 Axes>"
            ],
            "image/png": "[encoded data removed]"
          },
          "metadata": {
            "needs_background": "light"
          }
        }
      ]
    },
    {
      "cell_type": "markdown",
      "source": [
        "###MICE RFE ROSE LOGREG"
      ],
      "metadata": {
        "id": "M7CoFkX2PI9X"
      }
    },
    {
      "cell_type": "code",
      "source": [
        "logistic_regression(X__train__mice__rfe__rose, X__test__mice__rfe , target_var = 'STATUS')"
      ],
      "metadata": {
        "colab": {
          "base_uri": "https://localhost:8080/",
          "height": 486
        },
        "id": "Nu5EEdm9PJeY",
        "outputId": "8b08a7cd-c831-4343-becb-825fffd6581a"
      },
      "execution_count": null,
      "outputs": [
        {
          "output_type": "stream",
          "name": "stdout",
          "text": [
            "Accuracy of logistic regression classifier on test set: 0.77\n",
            "              precision    recall  f1-score   support\n",
            "\n",
            "          -1       0.95      0.80      0.87       293\n",
            "           1       0.13      0.43      0.20        21\n",
            "\n",
            "    accuracy                           0.77       314\n",
            "   macro avg       0.54      0.61      0.53       314\n",
            "weighted avg       0.90      0.77      0.82       314\n",
            "\n",
            "Average Accuracy: 0.7707006369426752\n"
          ]
        },
        {
          "output_type": "display_data",
          "data": {
            "text/plain": [
              "<Figure size 432x288 with 1 Axes>"
            ],
            "image/png": "[encoded data removed]"
          },
          "metadata": {
            "needs_background": "light"
          }
        }
      ]
    }
  ]
}