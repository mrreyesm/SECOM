{
  "nbformat": 4,
  "nbformat_minor": 0,
  "metadata": {
    "colab": {
      "name": "SECOM_2.ipynb",
      "provenance": [],
      "collapsed_sections": [
        "Mzi1UPkjikWO",
        "gzccc9RHiZ3B",
        "wQeOPQlyirUq",
        "quKwjXG7nRvI",
        "mdd0NSY97G4Y",
        "3oN7IqY08IZu",
        "hwMxeKsS6j3T",
        "gHudEY_Yf3YP",
        "iiHR1MCbVO3N",
        "hQfW56222O96"
      ],
      "toc_visible": true,
      "include_colab_link": true
    },
    "kernelspec": {
      "name": "python3",
      "display_name": "Python 3"
    },
    "language_info": {
      "name": "python"
    }
  },
  "cells": [
    {
      "cell_type": "markdown",
      "metadata": {
        "id": "view-in-github",
        "colab_type": "text"
      },
      "source": [
        "<a href=\"https://colab.research.google.com/github/mrreyesm/SECOM/blob/main/SECOM_2.ipynb\" target=\"_parent\"><img src=\"https://colab.research.google.com/assets/colab-badge.svg\" alt=\"Open In Colab\"/></a>"
      ]
    },
    {
      "cell_type": "markdown",
      "source": [
        "# SECOM: Data Preparation & Modelling"
      ],
      "metadata": {
        "id": "AeHoeDIRwiyB"
      }
    },
    {
      "cell_type": "markdown",
      "source": [
        "# Setting Environment"
      ],
      "metadata": {
        "id": "JMjdWQnIxh5m"
      }
    },
    {
      "cell_type": "markdown",
      "source": [
        "## Libraries"
      ],
      "metadata": {
        "id": "Mzi1UPkjikWO"
      }
    },
    {
      "cell_type": "code",
      "source": [
        "#Importing Librarys \n",
        "# For system related operations\n",
        "import sys\n",
        "#For the creation of dataframes and manipulating data\n",
        "import pandas as pd\n",
        "from pandas.api.types import is_numeric_dtype\n",
        "# For numerical processing\n",
        "import numpy as np\n",
        "# For statistical analysis\n",
        "import statistics\n",
        "# For data visualization\n",
        "import matplotlib.pyplot as plt\n",
        "import seaborn as sns\n",
        "\n",
        "# Stats\n",
        "from scipy.stats import shapiro\n",
        "# Iterable tools\n",
        "from itertools import combinations\n",
        "import warnings\n",
        "warnings.filterwarnings(\"ignore\")\n",
        "# For creating models\n",
        "from sklearn.model_selection import train_test_split\n",
        "from sklearn.preprocessing import MinMaxScaler\n",
        "from sklearn.experimental import enable_iterative_imputer\n",
        "from sklearn.impute import KNNImputer, IterativeImputer\n",
        "from sklearn.ensemble import RandomForestClassifier\n",
        "from sklearn.feature_selection import VarianceThreshold\n",
        "!{sys.executable} -m pip install boruta\n",
        "from boruta import BorutaPy\n",
        "from imblearn.over_sampling import SMOTE, RandomOverSampler\n",
        "from sklearn.feature_selection import RFE\n",
        "from sklearn.linear_model import LogisticRegression\n",
        "from sklearn.linear_model import LinearRegression\n",
        "from sklearn.metrics import roc_auc_score\n",
        "from sklearn.metrics import roc_curve\n",
        "from sklearn.metrics import classification_report\n",
        "from sklearn.metrics import confusion_matrix, accuracy_score"
      ],
      "metadata": {
        "id": "lELVqomIwy_0",
        "colab": {
          "base_uri": "https://localhost:8080/"
        },
        "outputId": "48e1e16a-b8e3-4f9c-ed5f-4de8f5fa3b4f"
      },
      "execution_count": null,
      "outputs": [
        {
          "output_type": "stream",
          "name": "stdout",
          "text": [
            "Looking in indexes: https://pypi.org/simple, https://us-python.pkg.dev/colab-wheels/public/simple/\n",
            "Collecting boruta\n",
            "  Downloading Boruta-0.3-py3-none-any.whl (56 kB)\n",
            "\u001b[K     |████████████████████████████████| 56 kB 4.3 MB/s \n",
            "\u001b[?25hRequirement already satisfied: scipy>=0.17.0 in /usr/local/lib/python3.7/dist-packages (from boruta) (1.4.1)\n",
            "Requirement already satisfied: scikit-learn>=0.17.1 in /usr/local/lib/python3.7/dist-packages (from boruta) (1.0.2)\n",
            "Requirement already satisfied: numpy>=1.10.4 in /usr/local/lib/python3.7/dist-packages (from boruta) (1.21.6)\n",
            "Requirement already satisfied: joblib>=0.11 in /usr/local/lib/python3.7/dist-packages (from scikit-learn>=0.17.1->boruta) (1.1.0)\n",
            "Requirement already satisfied: threadpoolctl>=2.0.0 in /usr/local/lib/python3.7/dist-packages (from scikit-learn>=0.17.1->boruta) (3.1.0)\n",
            "Installing collected packages: boruta\n",
            "Successfully installed boruta-0.3\n"
          ]
        }
      ]
    },
    {
      "cell_type": "markdown",
      "source": [
        "## Master functions"
      ],
      "metadata": {
        "id": "gzccc9RHiZ3B"
      }
    },
    {
      "cell_type": "code",
      "source": [
        "# Create function that describes each column\n",
        "def descriptive_statistics(df):\n",
        "  #Creates empty target dataframe\n",
        "  col_names = [\"FEATURE\", \"COUNT\", \"SUM\",  \"MEAN\", \"MIN\", \"Q1\", \"MEDIAN\",\n",
        "             \"Q3\", \"MAX\", \"VARIANCE\", \"STANDARD_DEV\", \"UNIQUE_VALUES\",\n",
        "             \"MISSING_VALUES\", \"PERCENTAGE_NA\", \"OUTLIERS_3S\", \"PERCENTAGE_O3S\",\n",
        "             \"NORM_STD\"]\n",
        "  descriptive_df = pd.DataFrame(columns=col_names)\n",
        "  # Only for numeric values\n",
        "  df = df.select_dtypes(include=['int64','float64'])\n",
        "  # Iterates through each column\n",
        "  for col, col_name in enumerate(df.columns):\n",
        "    num_values = df[col_name].count()\n",
        "    sum = df[col_name].sum()\n",
        "    # Central tendency\n",
        "    mean = df[col_name].mean()\n",
        "    min = df[col_name].min()\n",
        "    q1 = df[col_name].quantile(0.25)\n",
        "    median = df[col_name].quantile(0.50)\n",
        "    q3 = df[col_name].quantile(0.75)\n",
        "    max = df[col_name].max()\n",
        "    # Volatility\n",
        "    var = df[col_name].var()\n",
        "    std = df[col_name].std()\n",
        "    unique = df[col_name].nunique()\n",
        "    missing = df[col_name].isnull().sum()\n",
        "    percentage_na = df[col_name].isnull().sum() * 100 / len(df[col_name])\n",
        "    # Outlier identification with zscore\n",
        "    zscores = (df[col_name]-mean)/std\n",
        "    zscores = zscores.to_frame()\n",
        "    zoutliers = zscores.query(f\"{col_name} > 3 or {col_name} < -3\")\n",
        "    outliers = zoutliers[col_name].count()\n",
        "    perc_out = (outliers/num_values)*100\n",
        "    # Min - Max normalization\n",
        "    temp = (df[col_name] - min)/ (max - min)\n",
        "    std_norm_values = temp.std()\n",
        "    # Creates a list wirh all the values and concatenates it to target df\n",
        "    desc = [col_name, num_values, sum,  mean, min, q1, median, q3,\n",
        "           max, var, std, unique, missing, percentage_na, outliers,\n",
        "           perc_out, std_norm_values]\n",
        "    df_length = len(descriptive_df)\n",
        "    descriptive_df.loc[df_length] = desc\n",
        "  return descriptive_df"
      ],
      "metadata": {
        "id": "Ir9djJBUaKJi"
      },
      "execution_count": null,
      "outputs": []
    },
    {
      "cell_type": "code",
      "source": [
        "# Create function that counts columns with above certain % of NAs\n",
        "def show_features_many_nulls(df, percentage):\n",
        "    features_nulls = []\n",
        "    for col in df.columns:\n",
        "        percentage_nulls = 100 * (df[col].isna().sum() / len(df[col]))\n",
        "        if (percentage_nulls > percentage) and (col != 'TIMESTAMP' or col != 'STATUS'):\n",
        "          features_nulls.append(col)\n",
        "    print(f\"Features with more than {percentage}% of missing values, {len(features_nulls)}\")"
      ],
      "metadata": {
        "id": "8SSXQgtcjdeD"
      },
      "execution_count": null,
      "outputs": []
    },
    {
      "cell_type": "code",
      "source": [
        "#functions to treat outliers\n",
        "def outlier_replacement(data):\n",
        "  copy_train_df = data.copy()\n",
        "  df = data.copy()\n",
        "  for col in df.columns:\n",
        "      mean = df[col].mean()\n",
        "      std_dev = df[col].std(axis=0)\n",
        "      copy_train_df[col] = np.where(df[col] > (mean + 3*std_dev), 1, np.where(df[col] < (mean - 3*std_dev), 1, 0))                            \n",
        "      df[col] = np.where(df[col] > (mean + 3*std_dev) , (mean + 3*std_dev), np.where(df[col] < (mean - 3*std_dev) , (mean - 3*std_dev), df[col]))  \n",
        "  print(\"TOTAL OF VALUES: \", (copy_train_df.isnull().sum().sum() + copy_train_df.notnull().sum().sum()),\n",
        "        \"\\nTOTAL OF OUTLIERS: \", copy_train_df.sum().sum(),\n",
        "        \"\\nPERCENTAGE OF OUTLIERS REPLACED: \", (copy_train_df.sum().sum()/(copy_train_df.isnull().sum().sum() + copy_train_df.notnull().sum().sum()))*100, \"%\"  )\n",
        "  return df"
      ],
      "metadata": {
        "id": "Ckt3CiyZRQFy"
      },
      "execution_count": null,
      "outputs": []
    },
    {
      "cell_type": "code",
      "source": [
        "#function to apply kNN imputation\n",
        "def knn_imputation(data):\n",
        "  scaler = MinMaxScaler(feature_range=(-1,1))\n",
        "  df = pd.DataFrame(scaler.fit_transform(data), columns = data.columns)\n",
        "  print(\"PERCENTAGE OF MISSING VALUES:\",\n",
        "        round((df.isnull().sum().sum()/(df.isnull().sum().sum() \n",
        "        + df.notnull().sum().sum()))*100, 2) , \" %\\n\")\n",
        "  imputer = KNNImputer(n_neighbors=5)\n",
        "  df = pd.DataFrame(imputer.fit_transform(df),columns = df.columns)\n",
        "  print(\"PERCENTAGE OF MISSING VALUES AFTER IMPUTATION:\",\n",
        "        round((df.isnull().sum().sum()/(df.isnull().sum().sum() \n",
        "        + df.notnull().sum().sum()))*100, 2) , \" %\")\n",
        "  return df"
      ],
      "metadata": {
        "id": "C2tftuYPY0tD"
      },
      "execution_count": null,
      "outputs": []
    },
    {
      "cell_type": "code",
      "source": [
        "#function to apply MICE imputation\n",
        "def mice_imputation(data):\n",
        "  print(\"PERCENTAGE OF MISSING VALUES:\",\n",
        "        round((data.isnull().sum().sum()/(data.isnull().sum().sum() \n",
        "        + data.notnull().sum().sum()))*100, 2) , \" %\")\n",
        "  df = data.copy()\n",
        "  lr = LinearRegression()\n",
        "  mice_imputer = IterativeImputer(estimator=lr,missing_values=np.nan, max_iter=10, imputation_order='roman',random_state=42)\n",
        "  df.iloc[:, :] = mice_imputer.fit_transform(data)\n",
        "  print(\"PERCENTAGE OF MISSING VALUES AFTER MICE:\",round((df.isnull().sum().sum()/(df.isnull().sum().sum() \n",
        "        + df.notnull().sum().sum()))*100, 2) , \" %\\n\")\n",
        "  return df"
      ],
      "metadata": {
        "id": "gfu2OwnybfBj"
      },
      "execution_count": null,
      "outputs": []
    },
    {
      "cell_type": "code",
      "source": [
        "#funciton to apply boruta feature selection\n",
        "def boruta_feature_selection(data, target_var):\n",
        "  data[target_var] = np.where(data[target_var] < 0, -1, 1)\n",
        "  # define random forest classifier\n",
        "  forest = RandomForestClassifier(n_jobs=-1, class_weight='balanced', max_depth=5)\n",
        "  df = data.iloc[: , :-1]\n",
        "  forest.fit(np.array(df), np.array(data[target_var]))\n",
        "  # define Boruta feature selection method\n",
        "  feat_selector = BorutaPy(forest, n_estimators='auto', random_state=42)\n",
        "  # find all relevant features\n",
        "  feat_selector.fit(np.array(df), np.array(data[target_var]))\n",
        "  # zip my names, ranks, and decisions in a single iterable\n",
        "  feature_ranks = list(zip(df.columns, \n",
        "                          feat_selector.ranking_, \n",
        "                          feat_selector.support_))\n",
        "  feature_ranks = pd.DataFrame (feature_ranks, columns = ['FEATURE', 'RANK', 'KEEP'])\n",
        "  boruta_features = feature_ranks.query(\"KEEP == True\")\n",
        "  boruta_features = boruta_features[\"FEATURE\"].unique()\n",
        "  boruta_features = np.append(boruta_features, target_var)\n",
        "  df = data[boruta_features]\n",
        "  print(\"FEATURES LEFT WITH BORUTA: \",df.shape[1], \"\\n\")\n",
        "  return df"
      ],
      "metadata": {
        "id": "oQf10oId1UJG"
      },
      "execution_count": null,
      "outputs": []
    },
    {
      "cell_type": "code",
      "source": [
        "#funciton to apply RFE feature selection\n",
        "def rfe_feature_selection(data, target_var, n_features):\n",
        "  data[target_var] = np.where(data[target_var] < 0, -1, 1)\n",
        "  # define random forest classifier\n",
        "  forest = RandomForestClassifier(n_jobs=-1, class_weight='balanced', max_depth=5)\n",
        "  df = data.iloc[: , :-1]\n",
        "  forest.fit(np.array(df), np.array(data[target_var]))\n",
        "  # define Boruta feature selection method\n",
        "  feat_selector =RFE(forest, n_features_to_select = n_features)\n",
        "  # find all relevant features\n",
        "  feat_selector.fit(np.array(df), np.array(data[target_var]))\n",
        "  # zip my names, ranks, and decisions in a single iterable\n",
        "  feature_ranks = list(zip(df.columns, \n",
        "                          feat_selector.ranking_, \n",
        "                          feat_selector.support_))\n",
        "  feature_ranks = pd.DataFrame (feature_ranks, columns = ['FEATURE', 'RANK', 'KEEP'])\n",
        "  rfe_features = feature_ranks.query(\"KEEP == True\")\n",
        "  rfe_features = rfe_features[\"FEATURE\"].unique()\n",
        "  rfe_features = np.append(rfe_features, target_var)\n",
        "  df = data[rfe_features]\n",
        "  print(\"FEATURES LEFT WITH RFE: \",df.shape[1], \"\\n\")\n",
        "  return df"
      ],
      "metadata": {
        "id": "IhGRMbgV1USl"
      },
      "execution_count": null,
      "outputs": []
    },
    {
      "cell_type": "code",
      "source": [
        "#function to apply SMOTE balancing\n",
        "def smote_balancing(data, target_var):\n",
        "  print(\"BEFORE BALANCING\")\n",
        "  print(data.groupby([target_var]).size().reset_index().rename(columns={0:'count'}))\n",
        "  smote = SMOTE(random_state=42)\n",
        "  df = data.iloc[: , :-1]\n",
        "  df_data_sm, df_target_sm = smote.fit_resample(df, data[target_var])\n",
        "  print(\"AFTER SMOTE BALANCING\")\n",
        "  df = pd.concat([df_data_sm, df_target_sm], axis=1)\n",
        "  print(df.groupby([target_var]).size().reset_index().rename(columns={0:'count'}))\n",
        "  return df "
      ],
      "metadata": {
        "id": "rUlmgnsAjpT2"
      },
      "execution_count": null,
      "outputs": []
    },
    {
      "cell_type": "code",
      "source": [
        "#function to apply ROSE balancing\n",
        "def rose_balancing(data, target_var):\n",
        "  print(\"BEFORE BALANCING\")\n",
        "  print(data.groupby([target_var]).size().reset_index().rename(columns={0:'count'}))\n",
        "  ros = RandomOverSampler(random_state=42)\n",
        "  df = data.iloc[: , :-1]\n",
        "  print(\"AFTER ROSE BALANCING\")\n",
        "  df_data_ros, df_target_ros = ros.fit_resample(df, data[target_var])\n",
        "  df = pd.concat([df_data_ros, df_target_ros], axis=1)\n",
        "  print(df.groupby([target_var]).size().reset_index().rename(columns={0:'count'}))\n",
        "  return df"
      ],
      "metadata": {
        "id": "lDj2uBgrjpn9"
      },
      "execution_count": null,
      "outputs": []
    },
    {
      "cell_type": "code",
      "source": [
        "def logistic_regression(X_train, X_test, target_var):\n",
        "  Y_train = np.where(X_train[target_var] < 0, -1, 1)\n",
        "  X_train = X_train.iloc[: , :-1]\n",
        "  Y_test = np.where(X_test[target_var] < 0, -1, 1)\n",
        "  X_test = X_test.iloc[: , :-1]\n",
        "  logreg = LogisticRegression()\n",
        "  logreg.fit(X_train, Y_train)\n",
        "  Y_pred = logreg.predict(X_test)\n",
        "  print('Accuracy of logistic regression classifier on test set: {:.2f}'.format(logreg.score(X_test, y_test)))\n",
        "  print(classification_report(Y_test, Y_pred))\n",
        "  print('Average Accuracy:', accuracy_score(Y_test, Y_pred))\n",
        "  logit_roc_auc = roc_auc_score(Y_test, logreg.predict(X_test))\n",
        "  fpr, tpr, thresholds = roc_curve(Y_test, logreg.predict_proba(X_test)[:,1])\n",
        "  plt.figure()\n",
        "  plt.plot(fpr, tpr, label='Logistic Regression (area = %0.2f)' % logit_roc_auc)\n",
        "  plt.plot([0, 1], [0, 1],'r--')\n",
        "  plt.xlim([0.0, 1.0])\n",
        "  plt.ylim([0.0, 1.05])\n",
        "  plt.xlabel('False Positive Rate')\n",
        "  plt.ylabel('True Positive Rate')\n",
        "  plt.title('Receiver operating characteristic')\n",
        "  plt.legend(loc=\"lower right\")\n",
        "  plt.savefig('Log_ROC')\n",
        "  plt.show()"
      ],
      "metadata": {
        "id": "Nj3U3rVx_1Jb"
      },
      "execution_count": null,
      "outputs": []
    },
    {
      "cell_type": "code",
      "source": [
        "def logistic_regression_with_scaler(X_train, X_test, target_var):\n",
        "  scaler = MinMaxScaler(feature_range=(-1,1))\n",
        "  Y_train = np.where(X_train[target_var] < 0, -1, 1)\n",
        "  X_train = X_train.iloc[: , :-1]\n",
        "  X_train = pd.DataFrame(scaler.fit_transform(X_train), columns = X_train.columns)\n",
        "  Y_test = np.where(X_test[target_var] < 0, -1, 1)\n",
        "  X_test = X_test.iloc[: , :-1]\n",
        "  X_test = pd.DataFrame(scaler.fit_transform(X_test), columns = X_test.columns)\n",
        "  logreg = LogisticRegression()\n",
        "  logreg.fit(X_train, Y_train)\n",
        "  Y_pred = logreg.predict(X_test)\n",
        "  print('Accuracy of logistic regression classifier on test set: {:.2f}'.format(logreg.score(X_test, y_test)))\n",
        "  print(classification_report(Y_test, Y_pred))\n",
        "  print('Average Accuracy:', accuracy_score(Y_test, Y_pred))\n",
        "  logit_roc_auc = roc_auc_score(Y_test, logreg.predict(X_test))\n",
        "  fpr, tpr, thresholds = roc_curve(Y_test, logreg.predict_proba(X_test)[:,1])\n",
        "  plt.figure()\n",
        "  plt.plot(fpr, tpr, label='Logistic Regression (area = %0.2f)' % logit_roc_auc)\n",
        "  plt.plot([0, 1], [0, 1],'r--')\n",
        "  plt.xlim([0.0, 1.0])\n",
        "  plt.ylim([0.0, 1.05])\n",
        "  plt.xlabel('False Positive Rate')\n",
        "  plt.ylabel('True Positive Rate')\n",
        "  plt.title('Receiver operating characteristic')\n",
        "  plt.legend(loc=\"lower right\")\n",
        "  plt.savefig('Log_ROC')\n",
        "  plt.show()"
      ],
      "metadata": {
        "id": "8IFx_MH2wVLI"
      },
      "execution_count": null,
      "outputs": []
    },
    {
      "cell_type": "markdown",
      "source": [
        "## Loading data"
      ],
      "metadata": {
        "id": "wQeOPQlyirUq"
      }
    },
    {
      "cell_type": "code",
      "source": [
        "# Creates a dataframe with the features of the SECOM dataset\n",
        "url = \"https://archive.ics.uci.edu/ml/machine-learning-databases/secom/secom.data\"\n",
        "secom_features = pd.read_csv(url, sep = ' ', header = None)\n",
        "# Gives names to the columns according to their position in the dataset\n",
        "secom_features.columns = [\"FEATURE_\"+str(col+1) for col in\n",
        "                          range(0,len(secom_features.columns))]\n",
        "# Creates a dataframe with the labels of the SECOM dataset and gives a col name\n",
        "url=\"https://archive.ics.uci.edu/ml/machine-learning-databases/secom/secom_labels.data\"\n",
        "secom_labels = pd.read_csv(url, sep = \" \", header = None)\n",
        "secom_labels.columns = (\"STATUS\", \"TIMESTAMP\")\n",
        "# Changes timestamp column to datetime format\n",
        "secom_labels['TIMESTAMP'] =  pd.to_datetime(secom_labels['TIMESTAMP'])\n",
        "# Merges both datasets through the index\n",
        "secom_data = pd.merge(secom_labels, secom_features, left_index=True,\n",
        "                      right_index=True)\n",
        "secom_data.shape"
      ],
      "metadata": {
        "id": "qIttGQeAwltk",
        "colab": {
          "base_uri": "https://localhost:8080/"
        },
        "outputId": "006d6a52-d23c-4169-c344-d59fbe57c3ee"
      },
      "execution_count": null,
      "outputs": [
        {
          "output_type": "execute_result",
          "data": {
            "text/plain": [
              "(1567, 592)"
            ]
          },
          "metadata": {},
          "execution_count": 13
        }
      ]
    },
    {
      "cell_type": "markdown",
      "source": [
        "# Splitting data"
      ],
      "metadata": {
        "id": "quKwjXG7nRvI"
      }
    },
    {
      "cell_type": "code",
      "source": [
        "# Subset dataset between fail and pass, split and then concatenate to keep proportion\n",
        "subset = secom_data.drop(columns = \"TIMESTAMP\")\n",
        "# select pass cases\n",
        "pass_df = subset[subset[\"STATUS\"] == 1]\n",
        "X_p = pass_df.iloc[:,1:]\n",
        "y_p = pass_df.loc[:,\"STATUS\"]\n",
        "# select fail cases\n",
        "fail_df = subset[subset[\"STATUS\"] == -1]\n",
        "X_f = fail_df.iloc[:,1:]\n",
        "y_f = fail_df.loc[:,\"STATUS\"]\n",
        "#Split into test and train dataset 80% 20%\n",
        "X_train_p,X_test_p,y_train_p,y_test_p = train_test_split(X_p, y_p, test_size=.2,\n",
        "                                                         random_state=42)\n",
        "X_train_f,X_test_f,y_train_f,y_test_f = train_test_split(X_f, y_f, test_size=.2,\n",
        "                                                         random_state=42)\n",
        "#Concatenate results\n",
        "X_train = pd.concat([X_train_p, X_train_f], axis=0)\n",
        "X_test = pd.concat([X_test_p, X_test_f], axis=0)\n",
        "y_train = pd.concat([y_train_p, y_train_f], axis=0)\n",
        "y_test = pd.concat([y_test_p, y_test_f], axis=0)\n",
        "#Examine proportions of train dataset\n",
        "print(\"----TRAIN DATASET----\\n\")\n",
        "X_train = pd.concat([X_train, y_train], axis=1)\n",
        "print(X_train.shape)\n",
        "Fail = X_train[X_train[\"STATUS\"] == 1]\n",
        "Pass = X_train[X_train[\"STATUS\"] == -1]\n",
        "print( \"Fail cases: \", Fail[\"STATUS\"].count(), \"Pass cases: \", Pass[\"STATUS\"].count())\n",
        "# Overall number of missing values in the dataset\n",
        "print(\"PERCENTAGE OF MISSING VALUES :\",\n",
        "      round((X_train.isnull().sum().sum()/(X_train.isnull().sum().sum() \n",
        "      + X_train.notnull().sum().sum()))*100, 2) , \" %\")\n",
        "#Examine proportions of test dataset\n",
        "print(\"\\n----TEST DATASET----\\n\")\n",
        "X_test = pd.concat([X_test, y_test], axis=1)\n",
        "print(X_test.shape)\n",
        "Fail = X_test[X_test[\"STATUS\"] == 1]\n",
        "Pass = X_test[X_test[\"STATUS\"] == -1]\n",
        "print( \"Fail cases: \", Fail[\"STATUS\"].count(), \"Pass cases: \", Pass[\"STATUS\"].count())\n",
        "# Overall number of missing values in the dataset\n",
        "print(\"PERCENTAGE OF MISSING VALUES :\",\n",
        "      round((X_test.isnull().sum().sum()/(X_test.isnull().sum().sum() \n",
        "      + X_test.notnull().sum().sum()))*100, 2) , \" %\")\n",
        "show_features_many_nulls(X_test, 55)"
      ],
      "metadata": {
        "colab": {
          "base_uri": "https://localhost:8080/"
        },
        "id": "2rgSKPhTEdM1",
        "outputId": "081701a5-5b36-44a0-e68b-34a5da7ecd47"
      },
      "execution_count": null,
      "outputs": [
        {
          "output_type": "stream",
          "name": "stdout",
          "text": [
            "----TRAIN DATASET----\n",
            "\n",
            "(1253, 591)\n",
            "Fail cases:  83 Pass cases:  1170\n",
            "PERCENTAGE OF MISSING VALUES : 4.54  %\n",
            "\n",
            "----TEST DATASET----\n",
            "\n",
            "(314, 591)\n",
            "Fail cases:  21 Pass cases:  293\n",
            "PERCENTAGE OF MISSING VALUES : 4.49  %\n",
            "Features with more than 55% of missing values, 24\n"
          ]
        }
      ]
    },
    {
      "cell_type": "markdown",
      "source": [
        "#Reducing Dimensionality\n",
        "We will reduce dimensionality by applying feature selection/removal. We will eliminate the features with a variance of 0, which means that all the observations are the same for a certain feature and also we will be removing the features where more than 55% of the data is missing."
      ],
      "metadata": {
        "id": "mdd0NSY97G4Y"
      }
    },
    {
      "cell_type": "code",
      "source": [
        "#Copy the Dataset to easily go back if mistakes are made\n",
        "X_train_df = X_train.copy()"
      ],
      "metadata": {
        "id": "Nrglyog6_L77"
      },
      "execution_count": null,
      "outputs": []
    },
    {
      "cell_type": "markdown",
      "source": [
        "## High Percentage of missing values"
      ],
      "metadata": {
        "id": "_CuTQFEnNmsV"
      }
    },
    {
      "cell_type": "code",
      "source": [
        "features_descriptives = descriptive_statistics(X_train_df)\n",
        "volatility = features_descriptives[\"NORM_STD\"]\n",
        "# Create histogram of the standar deviation of normalized values in features\n",
        "plt.style.context('bmh')\n",
        "plt.figure(figsize=(7,5))\n",
        "volatility.hist(bins=20)\n",
        "plt.title('Normalized Standard Deviation in Features', fontsize=17)\n",
        "plt.ylabel('Features', fontsize=15)\n",
        "plt.xlabel('Scaled Standard Deviation', fontsize=15)"
      ],
      "metadata": {
        "colab": {
          "base_uri": "https://localhost:8080/",
          "height": 376
        },
        "id": "jgdudpEeXvyS",
        "outputId": "07535594-8f3c-46ef-9372-6e19e45a8594"
      },
      "execution_count": null,
      "outputs": [
        {
          "output_type": "execute_result",
          "data": {
            "text/plain": [
              "Text(0.5, 0, 'Scaled Standard Deviation')"
            ]
          },
          "metadata": {},
          "execution_count": 16
        },
        {
          "output_type": "display_data",
          "data": {
            "text/plain": [
              "<Figure size 504x360 with 1 Axes>"
            ],
            "image/png": "[encoded data removed]"
          },
          "metadata": {
            "needs_background": "light"
          }
        }
      ]
    },
    {
      "cell_type": "code",
      "source": [
        "#This code will remove the features with a High Percentage of missing values (more than 55%)\n",
        "X_train_df_ = X_train_df\n",
        "print(\"TOTAL FEATURES: \", len(X_train_df_.columns))\n",
        "X_train_df = X_train_df.loc[:, X_train_df.isnull().mean() < .55]\n",
        "print(\"FEATURES REMOVED: \", len(X_train_df_.columns)-len(X_train_df.columns),\" cols with >55% Nulls\"\n",
        "      \"\\nFEATURES LEFT: \", len(X_train_df.columns))"
      ],
      "metadata": {
        "id": "VZgo8EMI7ve9",
        "colab": {
          "base_uri": "https://localhost:8080/"
        },
        "outputId": "3d5fe46a-6675-4dfa-efb0-43668db2b799"
      },
      "execution_count": null,
      "outputs": [
        {
          "output_type": "stream",
          "name": "stdout",
          "text": [
            "TOTAL FEATURES:  591\n",
            "FEATURES REMOVED:  24  cols with >55% Nulls\n",
            "FEATURES LEFT:  567\n"
          ]
        }
      ]
    },
    {
      "cell_type": "markdown",
      "source": [
        "## Low Variance"
      ],
      "metadata": {
        "id": "-1SZiMcqNV85"
      }
    },
    {
      "cell_type": "code",
      "source": [
        "features_descriptives = descriptive_statistics(X_train_df)\n",
        "volatility = features_descriptives[\"NORM_STD\"]\n",
        "# Create histogram of the standar deviation of normalized values in features\n",
        "plt.style.context('bmh')\n",
        "plt.figure(figsize=(7,5))\n",
        "volatility.hist(bins=20)\n",
        "plt.title('Normalized Standard Deviation in Features', fontsize=17)\n",
        "plt.ylabel('Features', fontsize=15)\n",
        "plt.xlabel('Scaled Standard Deviation', fontsize=15)"
      ],
      "metadata": {
        "colab": {
          "base_uri": "https://localhost:8080/",
          "height": 376
        },
        "id": "LR-05L_ABcbf",
        "outputId": "aa40099b-4793-4e6d-e5ea-a10237cfa549"
      },
      "execution_count": null,
      "outputs": [
        {
          "output_type": "execute_result",
          "data": {
            "text/plain": [
              "Text(0.5, 0, 'Scaled Standard Deviation')"
            ]
          },
          "metadata": {},
          "execution_count": 18
        },
        {
          "output_type": "display_data",
          "data": {
            "text/plain": [
              "<Figure size 504x360 with 1 Axes>"
            ],
            "image/png": "[encoded data removed]"
          },
          "metadata": {
            "needs_background": "light"
          }
        }
      ]
    },
    {
      "cell_type": "code",
      "source": [
        "X_train_dftemp = X_train_df\n",
        "scaler = MinMaxScaler(feature_range=(-1,1))\n",
        "X_train_df = pd.DataFrame(scaler.fit_transform(X_train_df), columns = X_train_df.columns)\n",
        "threshold = 0.995\n",
        "var_threshold = threshold * (1 - threshold)\n",
        "varThreshold = VarianceThreshold(var_threshold)\n",
        "varThreshold.fit(X_train_df)\n",
        "mask = varThreshold.get_support()\n",
        "low_var_features = X_train_df.loc[:, ~mask].columns\n",
        "X_train_df.drop(low_var_features, axis=1, inplace=True)\n",
        "print(\"TOTAL FEATURES: \", len(X_train_dftemp.columns),\n",
        "      \"\\nFEATURES REMOVED: \", len(X_train_dftemp.columns)-len(X_train_df.columns), f\" featueres with stdev = 0 or whose values are equal in more than {threshold*100}% of the feature\",\n",
        "      \"\\nFEATURES LEFT: \", len(X_train_df.columns), \"\\n\")\n",
        "features_descriptives = descriptive_statistics(X_train_df)\n",
        "volatility = features_descriptives[\"NORM_STD\"].where(features_descriptives[\"FEATURE\"] != \"STATUS\")\n",
        "# Create histogram of the standar deviation of normalized values in features\n",
        "plt.figure(figsize=(7,5))\n",
        "volatility.hist(bins=20)\n",
        "plt.title('Normalized Standard Deviation in Features', fontsize=17)\n",
        "plt.ylabel('Features', fontsize=15)\n",
        "plt.xlabel('Scaled Standard Deviation', fontsize=15)"
      ],
      "metadata": {
        "id": "cok0KFzk7O78",
        "colab": {
          "base_uri": "https://localhost:8080/",
          "height": 446
        },
        "outputId": "cbed266e-d7ba-4310-cacc-49f0567ddcfe"
      },
      "execution_count": null,
      "outputs": [
        {
          "output_type": "stream",
          "name": "stdout",
          "text": [
            "TOTAL FEATURES:  567 \n",
            "FEATURES REMOVED:  140  featueres with stdev = 0 or whose values are equal in more than 99.5% of the feature \n",
            "FEATURES LEFT:  427 \n",
            "\n"
          ]
        },
        {
          "output_type": "execute_result",
          "data": {
            "text/plain": [
              "Text(0.5, 0, 'Scaled Standard Deviation')"
            ]
          },
          "metadata": {},
          "execution_count": 19
        },
        {
          "output_type": "display_data",
          "data": {
            "text/plain": [
              "<Figure size 504x360 with 1 Axes>"
            ],
            "image/png": "[encoded data removed]"
          },
          "metadata": {
            "needs_background": "light"
          }
        }
      ]
    },
    {
      "cell_type": "markdown",
      "source": [
        "## High Correlation\n",
        "Remove highly correlated features that have low correlation with target."
      ],
      "metadata": {
        "id": "zIBJ2ZqZN3_0"
      }
    },
    {
      "cell_type": "code",
      "source": [
        "corr_threshold = 0.99\n",
        "corr_df = pd.DataFrame(columns=[\"FEATURE_A\", \"FEATURE_B\", \"CORRELATION\"]) \n",
        "X_train_df2 =  X_train_df.loc[:, X_train_df.columns != \"STATUS\"]\n",
        "for col_name, col_name2 in combinations(X_train_df2 , 2):\n",
        "    correlation = X_train_df2[col_name].corr(X_train_df2[col_name2])\n",
        "    corrlist = [col_name, col_name2, correlation]\n",
        "    corr_length = len(corr_df)\n",
        "    corr_df.loc[corr_length] = corrlist\n",
        "highly_corr_features = corr_df.query(f\"CORRELATION > {corr_threshold} | CORRELATION < -{corr_threshold}\")\n",
        "highly_corr_features = highly_corr_features.reset_index()\n",
        "highly_corr_features = highly_corr_features.drop(columns = \"index\")\n",
        "#Create list of features that were in the most correlated pairs\n",
        "features_a = highly_corr_features[\"FEATURE_A\"].unique()\n",
        "features_b = highly_corr_features[\"FEATURE_B\"].unique()\n",
        "features = np.concatenate([features_a , features_b])\n",
        "features = np.append(features, 'STATUS')\n",
        "high_corr = X_train_df[features]\n",
        "#remove the one that has less correlation to the target variable\n",
        "corr_target = pd.DataFrame(columns=[\"FEATURE\", \"CORRELATION_WITH_TARGET_x\"])\n",
        "for col_name in high_corr:\n",
        "    correlation = high_corr[\"STATUS\"].corr(X_train_df[col_name])\n",
        "    corrlist = [col_name, correlation]\n",
        "    corr_length = len(corr_target)\n",
        "    corr_target.loc[corr_length] = corrlist\n",
        "corr_target = corr_target.where(corr_target[\"FEATURE\"] != \"STATUS\")\n",
        "corrs_target = pd.merge(corr_df, corr_target, how=\"inner\", left_on=\"FEATURE_A\", right_on=\"FEATURE\")\n",
        "corrs_target.rename(columns = {'CORRELATION_WITH_TARGET_x':'CORRELATION_WITH_TARGET_A'}, inplace = True)\n",
        "corrs_target = pd.merge(corrs_target, corr_target, how=\"inner\", left_on=\"FEATURE_B\", right_on=\"FEATURE\")\n",
        "corrs_target.rename(columns = {'CORRELATION_WITH_TARGET_x':'CORRELATION_WITH_TARGET_B'}, inplace = True)\n",
        "corrs_target.drop(columns=[\"FEATURE_x\", \"FEATURE_y\"])\n",
        "corrs_target = corrs_target[[\"CORRELATION\",'FEATURE_A', 'CORRELATION_WITH_TARGET_A', 'FEATURE_B', 'CORRELATION_WITH_TARGET_B']]\n",
        "corrs_target[\"lowest_corr_w_target\"] = np.where( abs(corrs_target.CORRELATION_WITH_TARGET_A) < abs(corrs_target.CORRELATION_WITH_TARGET_B), corrs_target.FEATURE_A, corrs_target.FEATURE_B)\n",
        "corrs_target = corrs_target .query(f\"CORRELATION > {corr_threshold} | CORRELATION < -{corr_threshold}\")\n",
        "corrs_target.head(3)"
      ],
      "metadata": {
        "colab": {
          "base_uri": "https://localhost:8080/",
          "height": 144
        },
        "id": "v40o4DGML3cQ",
        "outputId": "fa0bb238-267e-475d-b237-95f5030924e1"
      },
      "execution_count": null,
      "outputs": [
        {
          "output_type": "execute_result",
          "data": {
            "text/plain": [
              "    CORRELATION   FEATURE_A  CORRELATION_WITH_TARGET_A    FEATURE_B  \\\n",
              "2     -1.000000  FEATURE_35                  -0.026531   FEATURE_37   \n",
              "9     -0.990802  FEATURE_94                   0.014727  FEATURE_107   \n",
              "36     0.999980   FEATURE_5                  -0.015249  FEATURE_141   \n",
              "\n",
              "    CORRELATION_WITH_TARGET_B lowest_corr_w_target  \n",
              "2                    0.026531           FEATURE_35  \n",
              "9                   -0.014544          FEATURE_107  \n",
              "36                  -0.015210          FEATURE_141  "
            ],
            "text/html": [
              "\n",
              "  <div id=\"df-bcfcdd7d-eca5-402f-be1c-4adbff4e3e2d\">\n",
              "    <div class=\"colab-df-container\">\n",
              "      <div>\n",
              "<style scoped>\n",
              "    .dataframe tbody tr th:only-of-type {\n",
              "        vertical-align: middle;\n",
              "    }\n",
              "\n",
              "    .dataframe tbody tr th {\n",
              "        vertical-align: top;\n",
              "    }\n",
              "\n",
              "    .dataframe thead th {\n",
              "        text-align: right;\n",
              "    }\n",
              "</style>\n",
              "<table border=\"1\" class=\"dataframe\">\n",
              "  <thead>\n",
              "    <tr style=\"text-align: right;\">\n",
              "      <th></th>\n",
              "      <th>CORRELATION</th>\n",
              "      <th>FEATURE_A</th>\n",
              "      <th>CORRELATION_WITH_TARGET_A</th>\n",
              "      <th>FEATURE_B</th>\n",
              "      <th>CORRELATION_WITH_TARGET_B</th>\n",
              "      <th>lowest_corr_w_target</th>\n",
              "    </tr>\n",
              "  </thead>\n",
              "  <tbody>\n",
              "    <tr>\n",
              "      <th>2</th>\n",
              "      <td>-1.000000</td>\n",
              "      <td>FEATURE_35</td>\n",
              "      <td>-0.026531</td>\n",
              "      <td>FEATURE_37</td>\n",
              "      <td>0.026531</td>\n",
              "      <td>FEATURE_35</td>\n",
              "    </tr>\n",
              "    <tr>\n",
              "      <th>9</th>\n",
              "      <td>-0.990802</td>\n",
              "      <td>FEATURE_94</td>\n",
              "      <td>0.014727</td>\n",
              "      <td>FEATURE_107</td>\n",
              "      <td>-0.014544</td>\n",
              "      <td>FEATURE_107</td>\n",
              "    </tr>\n",
              "    <tr>\n",
              "      <th>36</th>\n",
              "      <td>0.999980</td>\n",
              "      <td>FEATURE_5</td>\n",
              "      <td>-0.015249</td>\n",
              "      <td>FEATURE_141</td>\n",
              "      <td>-0.015210</td>\n",
              "      <td>FEATURE_141</td>\n",
              "    </tr>\n",
              "  </tbody>\n",
              "</table>\n",
              "</div>\n",
              "      <button class=\"colab-df-convert\" onclick=\"convertToInteractive('df-bcfcdd7d-eca5-402f-be1c-4adbff4e3e2d')\"\n",
              "              title=\"Convert this dataframe to an interactive table.\"\n",
              "              style=\"display:none;\">\n",
              "        \n",
              "  <svg xmlns=\"http://www.w3.org/2000/svg\" height=\"24px\"viewBox=\"0 0 24 24\"\n",
              "       width=\"24px\">\n",
              "    <path d=\"M0 0h24v24H0V0z\" fill=\"none\"/>\n",
              "    <path d=\"M18.56 5.44l.94 2.06.94-2.06 2.06-.94-2.06-.94-.94-2.06-.94 2.06-2.06.94zm-11 1L8.5 8.5l.94-2.06 2.06-.94-2.06-.94L8.5 2.5l-.94 2.06-2.06.94zm10 10l.94 2.06.94-2.06 2.06-.94-2.06-.94-.94-2.06-.94 2.06-2.06.94z\"/><path d=\"M17.41 7.96l-1.37-1.37c-.4-.4-.92-.59-1.43-.59-.52 0-1.04.2-1.43.59L10.3 9.45l-7.72 7.72c-.78.78-.78 2.05 0 2.83L4 21.41c.39.39.9.59 1.41.59.51 0 1.02-.2 1.41-.59l7.78-7.78 2.81-2.81c.8-.78.8-2.07 0-2.86zM5.41 20L4 18.59l7.72-7.72 1.47 1.35L5.41 20z\"/>\n",
              "  </svg>\n",
              "      </button>\n",
              "      \n",
              "  <style>\n",
              "    .colab-df-container {\n",
              "      display:flex;\n",
              "      flex-wrap:wrap;\n",
              "      gap: 12px;\n",
              "    }\n",
              "\n",
              "    .colab-df-convert {\n",
              "      background-color: #E8F0FE;\n",
              "      border: none;\n",
              "      border-radius: 50%;\n",
              "      cursor: pointer;\n",
              "      display: none;\n",
              "      fill: #1967D2;\n",
              "      height: 32px;\n",
              "      padding: 0 0 0 0;\n",
              "      width: 32px;\n",
              "    }\n",
              "\n",
              "    .colab-df-convert:hover {\n",
              "      background-color: #E2EBFA;\n",
              "      box-shadow: 0px 1px 2px rgba(60, 64, 67, 0.3), 0px 1px 3px 1px rgba(60, 64, 67, 0.15);\n",
              "      fill: #174EA6;\n",
              "    }\n",
              "\n",
              "    [theme=dark] .colab-df-convert {\n",
              "      background-color: #3B4455;\n",
              "      fill: #D2E3FC;\n",
              "    }\n",
              "\n",
              "    [theme=dark] .colab-df-convert:hover {\n",
              "      background-color: #434B5C;\n",
              "      box-shadow: 0px 1px 3px 1px rgba(0, 0, 0, 0.15);\n",
              "      filter: drop-shadow(0px 1px 2px rgba(0, 0, 0, 0.3));\n",
              "      fill: #FFFFFF;\n",
              "    }\n",
              "  </style>\n",
              "\n",
              "      <script>\n",
              "        const buttonEl =\n",
              "          document.querySelector('#df-bcfcdd7d-eca5-402f-be1c-4adbff4e3e2d button.colab-df-convert');\n",
              "        buttonEl.style.display =\n",
              "          google.colab.kernel.accessAllowed ? 'block' : 'none';\n",
              "\n",
              "        async function convertToInteractive(key) {\n",
              "          const element = document.querySelector('#df-bcfcdd7d-eca5-402f-be1c-4adbff4e3e2d');\n",
              "          const dataTable =\n",
              "            await google.colab.kernel.invokeFunction('convertToInteractive',\n",
              "                                                     [key], {});\n",
              "          if (!dataTable) return;\n",
              "\n",
              "          const docLinkHtml = 'Like what you see? Visit the ' +\n",
              "            '<a target=\"_blank\" href=https://colab.research.google.com/notebooks/data_table.ipynb>data table notebook</a>'\n",
              "            + ' to learn more about interactive tables.';\n",
              "          element.innerHTML = '';\n",
              "          dataTable['output_type'] = 'display_data';\n",
              "          await google.colab.output.renderOutput(dataTable, element);\n",
              "          const docLink = document.createElement('div');\n",
              "          docLink.innerHTML = docLinkHtml;\n",
              "          element.appendChild(docLink);\n",
              "        }\n",
              "      </script>\n",
              "    </div>\n",
              "  </div>\n",
              "  "
            ]
          },
          "metadata": {},
          "execution_count": 20
        }
      ]
    },
    {
      "cell_type": "code",
      "source": [
        "highly_corr_features_lowest_to_target = corrs_target[\"lowest_corr_w_target\"].unique()\n",
        "highly_corr_features_lowest_to_target = np.unique(highly_corr_features_lowest_to_target)\n",
        "print(\"TOTAL FEATURES: \", len(X_train_df.columns))\n",
        "X_train_dfcopy = X_train_df\n",
        "X_train_df.drop(highly_corr_features_lowest_to_target, axis=1, inplace=True)\n",
        "print(\"FEATURES REMOVED: \", len(highly_corr_features_lowest_to_target),f\" cols with above +-{corr_threshold} correlation with another feature and low correlation with target\"\n",
        "      \"\\nFEATURES LEFT: \", len(X_train_df.columns))"
      ],
      "metadata": {
        "colab": {
          "base_uri": "https://localhost:8080/"
        },
        "id": "xtv475K_OHAD",
        "outputId": "622386e9-2310-42ad-e5e4-a8385f6fd5ee"
      },
      "execution_count": null,
      "outputs": [
        {
          "output_type": "stream",
          "name": "stdout",
          "text": [
            "TOTAL FEATURES:  427\n",
            "FEATURES REMOVED:  80  cols with above +-0.99 correlation with another feature and low correlation with target\n",
            "FEATURES LEFT:  347\n"
          ]
        }
      ]
    },
    {
      "cell_type": "code",
      "source": [
        "X_train_df_columns = ['FEATURE_1', 'FEATURE_2', 'FEATURE_3', 'FEATURE_4', 'FEATURE_5', 'FEATURE_7', 'FEATURE_8', 'FEATURE_9', 'FEATURE_10', 'FEATURE_11', 'FEATURE_12', 'FEATURE_13', 'FEATURE_15', 'FEATURE_16', 'FEATURE_17', 'FEATURE_19', 'FEATURE_20', 'FEATURE_21', 'FEATURE_22', 'FEATURE_23', 'FEATURE_24', 'FEATURE_25', 'FEATURE_26', 'FEATURE_27', 'FEATURE_28', 'FEATURE_29', 'FEATURE_30', 'FEATURE_31', 'FEATURE_32', 'FEATURE_33', 'FEATURE_34', 'FEATURE_36', 'FEATURE_37', 'FEATURE_38', 'FEATURE_39', 'FEATURE_40', 'FEATURE_41', 'FEATURE_42', 'FEATURE_44', 'FEATURE_45', 'FEATURE_46', 'FEATURE_47', 'FEATURE_48', 'FEATURE_49', 'FEATURE_51', 'FEATURE_52', 'FEATURE_54', 'FEATURE_55', 'FEATURE_56', 'FEATURE_57', 'FEATURE_58', 'FEATURE_59', 'FEATURE_60', 'FEATURE_61', 'FEATURE_62', 'FEATURE_63', 'FEATURE_64', 'FEATURE_65', 'FEATURE_66', 'FEATURE_67', 'FEATURE_68', 'FEATURE_69', 'FEATURE_71', 'FEATURE_72', 'FEATURE_73', 'FEATURE_74', 'FEATURE_76', 'FEATURE_77', 'FEATURE_78', 'FEATURE_79', 'FEATURE_80', 'FEATURE_81', 'FEATURE_82', 'FEATURE_83', 'FEATURE_84', 'FEATURE_85', 'FEATURE_87', 'FEATURE_88', 'FEATURE_89', 'FEATURE_90', 'FEATURE_91', 'FEATURE_92', 'FEATURE_93', 'FEATURE_94', 'FEATURE_95', 'FEATURE_96', 'FEATURE_97', 'FEATURE_99', 'FEATURE_100', 'FEATURE_101', 'FEATURE_102', 'FEATURE_103', 'FEATURE_104', 'FEATURE_105', 'FEATURE_106', 'FEATURE_108', 'FEATURE_109', 'FEATURE_113', 'FEATURE_114', 'FEATURE_115', 'FEATURE_116', 'FEATURE_117', 'FEATURE_118', 'FEATURE_119', 'FEATURE_120', 'FEATURE_121', 'FEATURE_122', 'FEATURE_123', 'FEATURE_124', 'FEATURE_125', 'FEATURE_126', 'FEATURE_127', 'FEATURE_128', 'FEATURE_129', 'FEATURE_130', 'FEATURE_131', 'FEATURE_132', 'FEATURE_133', 'FEATURE_134', 'FEATURE_135', 'FEATURE_138', 'FEATURE_139', 'FEATURE_140', 'FEATURE_144', 'FEATURE_146', 'FEATURE_147', 'FEATURE_151', 'FEATURE_152', 'FEATURE_153', 'FEATURE_156', 'FEATURE_157', 'FEATURE_162', 'FEATURE_163', 'FEATURE_168', 'FEATURE_169', 'FEATURE_170', 'FEATURE_172', 'FEATURE_176', 'FEATURE_177', 'FEATURE_178', 'FEATURE_181', 'FEATURE_182', 'FEATURE_183', 'FEATURE_189', 'FEATURE_196', 'FEATURE_197', 'FEATURE_198', 'FEATURE_199', 'FEATURE_200', 'FEATURE_201', 'FEATURE_202', 'FEATURE_204', 'FEATURE_205', 'FEATURE_206', 'FEATURE_209', 'FEATURE_211', 'FEATURE_212', 'FEATURE_213', 'FEATURE_214', 'FEATURE_215', 'FEATURE_216', 'FEATURE_217', 'FEATURE_218', 'FEATURE_219', 'FEATURE_222', 'FEATURE_225', 'FEATURE_228', 'FEATURE_229', 'FEATURE_239', 'FEATURE_240', 'FEATURE_248', 'FEATURE_249', 'FEATURE_250', 'FEATURE_251', 'FEATURE_255', 'FEATURE_256', 'FEATURE_269', 'FEATURE_270', 'FEATURE_271', 'FEATURE_272', 'FEATURE_273', 'FEATURE_274', 'FEATURE_275', 'FEATURE_278', 'FEATURE_279', 'FEATURE_280', 'FEATURE_281', 'FEATURE_282', 'FEATURE_283', 'FEATURE_284', 'FEATURE_286', 'FEATURE_287', 'FEATURE_289', 'FEATURE_290', 'FEATURE_291', 'FEATURE_295', 'FEATURE_296', 'FEATURE_298', 'FEATURE_299', 'FEATURE_300', 'FEATURE_301', 'FEATURE_302', 'FEATURE_303', 'FEATURE_304', 'FEATURE_305', 'FEATURE_306', 'FEATURE_307', 'FEATURE_308', 'FEATURE_309', 'FEATURE_311', 'FEATURE_312', 'FEATURE_317', 'FEATURE_318', 'FEATURE_319', 'FEATURE_320', 'FEATURE_325', 'FEATURE_332', 'FEATURE_334', 'FEATURE_335', 'FEATURE_336', 'FEATURE_337', 'FEATURE_338', 'FEATURE_341', 'FEATURE_344', 'FEATURE_345', 'FEATURE_346', 'FEATURE_347', 'FEATURE_349', 'FEATURE_350', 'FEATURE_353', 'FEATURE_354', 'FEATURE_355', 'FEATURE_356', 'FEATURE_357', 'FEATURE_358', 'FEATURE_360', 'FEATURE_361', 'FEATURE_364', 'FEATURE_366', 'FEATURE_367', 'FEATURE_368', 'FEATURE_369', 'FEATURE_377', 'FEATURE_378', 'FEATURE_386', 'FEATURE_389', 'FEATURE_391', 'FEATURE_392', 'FEATURE_393', 'FEATURE_394', 'FEATURE_406', 'FEATURE_407', 'FEATURE_408', 'FEATURE_409', 'FEATURE_410', 'FEATURE_413', 'FEATURE_414', 'FEATURE_416', 'FEATURE_418', 'FEATURE_419', 'FEATURE_420', 'FEATURE_422', 'FEATURE_424', 'FEATURE_425', 'FEATURE_426', 'FEATURE_428', 'FEATURE_431', 'FEATURE_432', 'FEATURE_433', 'FEATURE_434', 'FEATURE_435', 'FEATURE_438', 'FEATURE_439', 'FEATURE_440', 'FEATURE_442', 'FEATURE_443', 'FEATURE_444', 'FEATURE_445', 'FEATURE_455', 'FEATURE_456', 'FEATURE_461', 'FEATURE_469', 'FEATURE_472', 'FEATURE_473', 'FEATURE_474', 'FEATURE_475', 'FEATURE_477', 'FEATURE_480', 'FEATURE_481', 'FEATURE_483', 'FEATURE_484', 'FEATURE_485', 'FEATURE_486', 'FEATURE_487', 'FEATURE_488', 'FEATURE_489', 'FEATURE_490', 'FEATURE_491', 'FEATURE_492', 'FEATURE_497', 'FEATURE_498', 'FEATURE_500', 'FEATURE_501', 'FEATURE_511', 'FEATURE_512', 'FEATURE_522', 'FEATURE_523', 'FEATURE_524', 'FEATURE_525', 'FEATURE_526', 'FEATURE_540', 'FEATURE_542', 'FEATURE_543', 'FEATURE_544', 'FEATURE_545', 'FEATURE_547', 'FEATURE_548', 'FEATURE_549', 'FEATURE_551', 'FEATURE_552', 'FEATURE_553', 'FEATURE_554', 'FEATURE_556', 'FEATURE_559', 'FEATURE_560', 'FEATURE_561', 'FEATURE_562', 'FEATURE_563', 'FEATURE_564', 'FEATURE_566', 'FEATURE_567', 'FEATURE_568', 'FEATURE_569', 'FEATURE_570', 'FEATURE_571', 'FEATURE_572', 'FEATURE_574', 'FEATURE_575', 'FEATURE_576', 'FEATURE_578', 'FEATURE_583', 'FEATURE_585', 'FEATURE_587', 'FEATURE_588', 'FEATURE_589', 'FEATURE_590', 'STATUS']"
      ],
      "metadata": {
        "id": "QUFbryZbeJZt"
      },
      "execution_count": null,
      "outputs": []
    },
    {
      "cell_type": "code",
      "source": [
        "features_descriptives = descriptive_statistics(X_train_df)\n",
        "volatility = features_descriptives[\"NORM_STD\"].where(features_descriptives[\"FEATURE\"] != \"STATUS\")\n",
        "# Create histogram of the standar deviation of normalized values in features\n",
        "plt.figure(figsize=(7,5))\n",
        "volatility.hist(bins=20)\n",
        "plt.title('Normalized Standard Deviation in Features', fontsize=17)\n",
        "plt.ylabel('Features', fontsize=15)\n",
        "plt.xlabel('Scaled Standard Deviation', fontsize=15)"
      ],
      "metadata": {
        "colab": {
          "base_uri": "https://localhost:8080/",
          "height": 376
        },
        "id": "_6NzFsuBL7Cf",
        "outputId": "12ec9786-714b-4423-8277-744bdb788e67"
      },
      "execution_count": null,
      "outputs": [
        {
          "output_type": "execute_result",
          "data": {
            "text/plain": [
              "Text(0.5, 0, 'Scaled Standard Deviation')"
            ]
          },
          "metadata": {},
          "execution_count": 24
        },
        {
          "output_type": "display_data",
          "data": {
            "text/plain": [
              "<Figure size 504x360 with 1 Axes>"
            ],
            "image/png": "[encoded data removed]"
          },
          "metadata": {
            "needs_background": "light"
          }
        }
      ]
    },
    {
      "cell_type": "markdown",
      "source": [
        "#Outlier identification and treatment\n",
        "Now we ended up with 451 columns. we removed 116 columns that had a 0 volatility value and 24 features that had more than 55% of missing values. Now it is time to treat our data, by having the outliers identified and then treating them."
      ],
      "metadata": {
        "id": "3oN7IqY08IZu"
      }
    },
    {
      "cell_type": "code",
      "source": [
        "# Apply function\n",
        "features_descriptives = descriptive_statistics(X_train_df)\n",
        "# Outliers: Values outside the 3s bounds\n",
        "outliers = features_descriptives[\"OUTLIERS_3S\"].where(features_descriptives[\"FEATURE\"] != \"STATUS\")\n",
        "# Create histogram of outliers in features\n",
        "plt.style.context('bmh')\n",
        "plt.figure(figsize=(7,5))\n",
        "outliers.hist(bins=20)\n",
        "plt.title('Number of Outliers in Features', fontsize=17)\n",
        "plt.ylabel('Features', fontsize=15)\n",
        "plt.xlabel('Outliers', fontsize=15)"
      ],
      "metadata": {
        "colab": {
          "base_uri": "https://localhost:8080/",
          "height": 376
        },
        "id": "192Zeec1F-19",
        "outputId": "411df9af-3ee2-4d57-f756-3efde797a943"
      },
      "execution_count": null,
      "outputs": [
        {
          "output_type": "execute_result",
          "data": {
            "text/plain": [
              "Text(0.5, 0, 'Outliers')"
            ]
          },
          "metadata": {},
          "execution_count": 27
        },
        {
          "output_type": "display_data",
          "data": {
            "text/plain": [
              "<Figure size 504x360 with 1 Axes>"
            ],
            "image/png": "[encoded data removed]"
          },
          "metadata": {
            "needs_background": "light"
          }
        }
      ]
    },
    {
      "cell_type": "code",
      "source": [
        "features_descriptives.where(features_descriptives[\"FEATURE\"] != \"STATUS\").sort_values(by=\"OUTLIERS_3S\", ascending = False).head(5)"
      ],
      "metadata": {
        "colab": {
          "base_uri": "https://localhost:8080/",
          "height": 270
        },
        "id": "howRqf49jR_z",
        "outputId": "af618f5a-8a8f-4627-a054-1796b3aad8be"
      },
      "execution_count": null,
      "outputs": [
        {
          "output_type": "execute_result",
          "data": {
            "text/plain": [
              "         FEATURE COUNT          SUM      MEAN  MIN        Q1    MEDIAN  \\\n",
              "34    FEATURE_39  1252   176.734923  0.141162 -1.0  0.000244  0.132308   \n",
              "337  FEATURE_575  1253 -1136.744569 -0.907218 -1.0 -0.981833 -0.976855   \n",
              "323  FEATURE_559  1253  -832.372078 -0.664303 -1.0 -0.794805 -0.739286   \n",
              "196  FEATURE_296  1251  -933.962746 -0.746573 -1.0 -0.872952 -0.805339   \n",
              "336  FEATURE_574  1253  -930.050329 -0.742259 -1.0 -0.837746 -0.787324   \n",
              "\n",
              "           Q3  MAX  VARIANCE  STANDARD_DEV UNIQUE_VALUES MISSING_VALUES  \\\n",
              "34   0.231654  1.0  0.057340      0.239458           321              1   \n",
              "337 -0.970985  1.0  0.096876      0.311249           701              0   \n",
              "323 -0.646429  1.0  0.075314      0.274435           350              0   \n",
              "196 -0.729083  1.0  0.082865      0.287863          1248              2   \n",
              "336 -0.720939  1.0  0.050392      0.224481           653              0   \n",
              "\n",
              "     PERCENTAGE_NA OUTLIERS_3S  PERCENTAGE_O3S  NORM_STD  \n",
              "34        0.079808          59        4.712460  0.119729  \n",
              "337       0.000000          51        4.070231  0.155625  \n",
              "323       0.000000          45        3.591381  0.137217  \n",
              "196       0.159617          45        3.597122  0.143932  \n",
              "336       0.000000          45        3.591381  0.112241  "
            ],
            "text/html": [
              "\n",
              "  <div id=\"df-02cc966a-9989-424b-a073-d745d6bcfdec\">\n",
              "    <div class=\"colab-df-container\">\n",
              "      <div>\n",
              "<style scoped>\n",
              "    .dataframe tbody tr th:only-of-type {\n",
              "        vertical-align: middle;\n",
              "    }\n",
              "\n",
              "    .dataframe tbody tr th {\n",
              "        vertical-align: top;\n",
              "    }\n",
              "\n",
              "    .dataframe thead th {\n",
              "        text-align: right;\n",
              "    }\n",
              "</style>\n",
              "<table border=\"1\" class=\"dataframe\">\n",
              "  <thead>\n",
              "    <tr style=\"text-align: right;\">\n",
              "      <th></th>\n",
              "      <th>FEATURE</th>\n",
              "      <th>COUNT</th>\n",
              "      <th>SUM</th>\n",
              "      <th>MEAN</th>\n",
              "      <th>MIN</th>\n",
              "      <th>Q1</th>\n",
              "      <th>MEDIAN</th>\n",
              "      <th>Q3</th>\n",
              "      <th>MAX</th>\n",
              "      <th>VARIANCE</th>\n",
              "      <th>STANDARD_DEV</th>\n",
              "      <th>UNIQUE_VALUES</th>\n",
              "      <th>MISSING_VALUES</th>\n",
              "      <th>PERCENTAGE_NA</th>\n",
              "      <th>OUTLIERS_3S</th>\n",
              "      <th>PERCENTAGE_O3S</th>\n",
              "      <th>NORM_STD</th>\n",
              "    </tr>\n",
              "  </thead>\n",
              "  <tbody>\n",
              "    <tr>\n",
              "      <th>34</th>\n",
              "      <td>FEATURE_39</td>\n",
              "      <td>1252</td>\n",
              "      <td>176.734923</td>\n",
              "      <td>0.141162</td>\n",
              "      <td>-1.0</td>\n",
              "      <td>0.000244</td>\n",
              "      <td>0.132308</td>\n",
              "      <td>0.231654</td>\n",
              "      <td>1.0</td>\n",
              "      <td>0.057340</td>\n",
              "      <td>0.239458</td>\n",
              "      <td>321</td>\n",
              "      <td>1</td>\n",
              "      <td>0.079808</td>\n",
              "      <td>59</td>\n",
              "      <td>4.712460</td>\n",
              "      <td>0.119729</td>\n",
              "    </tr>\n",
              "    <tr>\n",
              "      <th>337</th>\n",
              "      <td>FEATURE_575</td>\n",
              "      <td>1253</td>\n",
              "      <td>-1136.744569</td>\n",
              "      <td>-0.907218</td>\n",
              "      <td>-1.0</td>\n",
              "      <td>-0.981833</td>\n",
              "      <td>-0.976855</td>\n",
              "      <td>-0.970985</td>\n",
              "      <td>1.0</td>\n",
              "      <td>0.096876</td>\n",
              "      <td>0.311249</td>\n",
              "      <td>701</td>\n",
              "      <td>0</td>\n",
              "      <td>0.000000</td>\n",
              "      <td>51</td>\n",
              "      <td>4.070231</td>\n",
              "      <td>0.155625</td>\n",
              "    </tr>\n",
              "    <tr>\n",
              "      <th>323</th>\n",
              "      <td>FEATURE_559</td>\n",
              "      <td>1253</td>\n",
              "      <td>-832.372078</td>\n",
              "      <td>-0.664303</td>\n",
              "      <td>-1.0</td>\n",
              "      <td>-0.794805</td>\n",
              "      <td>-0.739286</td>\n",
              "      <td>-0.646429</td>\n",
              "      <td>1.0</td>\n",
              "      <td>0.075314</td>\n",
              "      <td>0.274435</td>\n",
              "      <td>350</td>\n",
              "      <td>0</td>\n",
              "      <td>0.000000</td>\n",
              "      <td>45</td>\n",
              "      <td>3.591381</td>\n",
              "      <td>0.137217</td>\n",
              "    </tr>\n",
              "    <tr>\n",
              "      <th>196</th>\n",
              "      <td>FEATURE_296</td>\n",
              "      <td>1251</td>\n",
              "      <td>-933.962746</td>\n",
              "      <td>-0.746573</td>\n",
              "      <td>-1.0</td>\n",
              "      <td>-0.872952</td>\n",
              "      <td>-0.805339</td>\n",
              "      <td>-0.729083</td>\n",
              "      <td>1.0</td>\n",
              "      <td>0.082865</td>\n",
              "      <td>0.287863</td>\n",
              "      <td>1248</td>\n",
              "      <td>2</td>\n",
              "      <td>0.159617</td>\n",
              "      <td>45</td>\n",
              "      <td>3.597122</td>\n",
              "      <td>0.143932</td>\n",
              "    </tr>\n",
              "    <tr>\n",
              "      <th>336</th>\n",
              "      <td>FEATURE_574</td>\n",
              "      <td>1253</td>\n",
              "      <td>-930.050329</td>\n",
              "      <td>-0.742259</td>\n",
              "      <td>-1.0</td>\n",
              "      <td>-0.837746</td>\n",
              "      <td>-0.787324</td>\n",
              "      <td>-0.720939</td>\n",
              "      <td>1.0</td>\n",
              "      <td>0.050392</td>\n",
              "      <td>0.224481</td>\n",
              "      <td>653</td>\n",
              "      <td>0</td>\n",
              "      <td>0.000000</td>\n",
              "      <td>45</td>\n",
              "      <td>3.591381</td>\n",
              "      <td>0.112241</td>\n",
              "    </tr>\n",
              "  </tbody>\n",
              "</table>\n",
              "</div>\n",
              "      <button class=\"colab-df-convert\" onclick=\"convertToInteractive('df-02cc966a-9989-424b-a073-d745d6bcfdec')\"\n",
              "              title=\"Convert this dataframe to an interactive table.\"\n",
              "              style=\"display:none;\">\n",
              "        \n",
              "  <svg xmlns=\"http://www.w3.org/2000/svg\" height=\"24px\"viewBox=\"0 0 24 24\"\n",
              "       width=\"24px\">\n",
              "    <path d=\"M0 0h24v24H0V0z\" fill=\"none\"/>\n",
              "    <path d=\"M18.56 5.44l.94 2.06.94-2.06 2.06-.94-2.06-.94-.94-2.06-.94 2.06-2.06.94zm-11 1L8.5 8.5l.94-2.06 2.06-.94-2.06-.94L8.5 2.5l-.94 2.06-2.06.94zm10 10l.94 2.06.94-2.06 2.06-.94-2.06-.94-.94-2.06-.94 2.06-2.06.94z\"/><path d=\"M17.41 7.96l-1.37-1.37c-.4-.4-.92-.59-1.43-.59-.52 0-1.04.2-1.43.59L10.3 9.45l-7.72 7.72c-.78.78-.78 2.05 0 2.83L4 21.41c.39.39.9.59 1.41.59.51 0 1.02-.2 1.41-.59l7.78-7.78 2.81-2.81c.8-.78.8-2.07 0-2.86zM5.41 20L4 18.59l7.72-7.72 1.47 1.35L5.41 20z\"/>\n",
              "  </svg>\n",
              "      </button>\n",
              "      \n",
              "  <style>\n",
              "    .colab-df-container {\n",
              "      display:flex;\n",
              "      flex-wrap:wrap;\n",
              "      gap: 12px;\n",
              "    }\n",
              "\n",
              "    .colab-df-convert {\n",
              "      background-color: #E8F0FE;\n",
              "      border: none;\n",
              "      border-radius: 50%;\n",
              "      cursor: pointer;\n",
              "      display: none;\n",
              "      fill: #1967D2;\n",
              "      height: 32px;\n",
              "      padding: 0 0 0 0;\n",
              "      width: 32px;\n",
              "    }\n",
              "\n",
              "    .colab-df-convert:hover {\n",
              "      background-color: #E2EBFA;\n",
              "      box-shadow: 0px 1px 2px rgba(60, 64, 67, 0.3), 0px 1px 3px 1px rgba(60, 64, 67, 0.15);\n",
              "      fill: #174EA6;\n",
              "    }\n",
              "\n",
              "    [theme=dark] .colab-df-convert {\n",
              "      background-color: #3B4455;\n",
              "      fill: #D2E3FC;\n",
              "    }\n",
              "\n",
              "    [theme=dark] .colab-df-convert:hover {\n",
              "      background-color: #434B5C;\n",
              "      box-shadow: 0px 1px 3px 1px rgba(0, 0, 0, 0.15);\n",
              "      filter: drop-shadow(0px 1px 2px rgba(0, 0, 0, 0.3));\n",
              "      fill: #FFFFFF;\n",
              "    }\n",
              "  </style>\n",
              "\n",
              "      <script>\n",
              "        const buttonEl =\n",
              "          document.querySelector('#df-02cc966a-9989-424b-a073-d745d6bcfdec button.colab-df-convert');\n",
              "        buttonEl.style.display =\n",
              "          google.colab.kernel.accessAllowed ? 'block' : 'none';\n",
              "\n",
              "        async function convertToInteractive(key) {\n",
              "          const element = document.querySelector('#df-02cc966a-9989-424b-a073-d745d6bcfdec');\n",
              "          const dataTable =\n",
              "            await google.colab.kernel.invokeFunction('convertToInteractive',\n",
              "                                                     [key], {});\n",
              "          if (!dataTable) return;\n",
              "\n",
              "          const docLinkHtml = 'Like what you see? Visit the ' +\n",
              "            '<a target=\"_blank\" href=https://colab.research.google.com/notebooks/data_table.ipynb>data table notebook</a>'\n",
              "            + ' to learn more about interactive tables.';\n",
              "          element.innerHTML = '';\n",
              "          dataTable['output_type'] = 'display_data';\n",
              "          await google.colab.output.renderOutput(dataTable, element);\n",
              "          const docLink = document.createElement('div');\n",
              "          docLink.innerHTML = docLinkHtml;\n",
              "          element.appendChild(docLink);\n",
              "        }\n",
              "      </script>\n",
              "    </div>\n",
              "  </div>\n",
              "  "
            ]
          },
          "metadata": {},
          "execution_count": 28
        }
      ]
    },
    {
      "cell_type": "code",
      "source": [
        "copy_train_df = X_train_df.copy()\n",
        "for col in X_train_df.columns:\n",
        "    mean = X_train_df[col].mean()\n",
        "    std_dev = X_train_df[col].std(axis=0)\n",
        "    copy_train_df[col] = np.where(X_train_df[col] > (mean + 3*std_dev), 1, np.where(X_train_df[col] < (mean - 3*std_dev), 1, 0))                            \n",
        "    X_train_df[col] = np.where(X_train_df[col] > (mean + 3*std_dev) , (mean + 3*std_dev), X_train_df[col])\n",
        "    X_train_df[col] = np.where(X_train_df[col] < (mean - 3*std_dev) , (mean - 3*std_dev), X_train_df[col])   \n",
        "print(\"TOTAL OF VALUES: \", (copy_train_df.isnull().sum().sum() + copy_train_df.notnull().sum().sum()),\n",
        "      \"\\nTOTAL OF OUTLIERS: \", copy_train_df.sum().sum(),\n",
        "      \"\\nPERCENTAGE OF OUTLIERS REPLACED: \", (copy_train_df.sum().sum()/(copy_train_df.isnull().sum().sum() + copy_train_df.notnull().sum().sum()))*100, \"%\"  )\n",
        "features_descriptives = descriptive_statistics(X_train_df)\n",
        "# Outliers: Values outside the 3s bounds\n",
        "outliers = features_descriptives[\"OUTLIERS_3S\"].where(features_descriptives[\"FEATURE\"] != \"STATUS\")\n",
        "# Create histogram of outliers in features\n",
        "plt.style.context('bmh')\n",
        "plt.figure(figsize=(7,5))\n",
        "outliers.hist(bins=20)\n",
        "plt.title('Number of Outliers in Features', fontsize=17)\n",
        "plt.ylabel('Features', fontsize=15)\n",
        "plt.xlabel('Outliers', fontsize=15)"
      ],
      "metadata": {
        "id": "X5Yy0VbuXccK",
        "colab": {
          "base_uri": "https://localhost:8080/",
          "height": 428
        },
        "outputId": "35aee73c-3cf7-4bad-977d-bdf712b6165b"
      },
      "execution_count": null,
      "outputs": [
        {
          "output_type": "stream",
          "name": "stdout",
          "text": [
            "TOTAL OF VALUES:  434791 \n",
            "TOTAL OF OUTLIERS:  4095 \n",
            "PERCENTAGE OF OUTLIERS REPLACED:  0.9418318226458229 %\n"
          ]
        },
        {
          "output_type": "execute_result",
          "data": {
            "text/plain": [
              "Text(0.5, 0, 'Outliers')"
            ]
          },
          "metadata": {},
          "execution_count": 29
        },
        {
          "output_type": "display_data",
          "data": {
            "text/plain": [
              "<Figure size 504x360 with 1 Axes>"
            ],
            "image/png": "[encoded data removed]"
          },
          "metadata": {
            "needs_background": "light"
          }
        }
      ]
    },
    {
      "cell_type": "code",
      "source": [
        "features_descriptives.where(features_descriptives[\"FEATURE\"] != \"STATUS\").sort_values(by=\"OUTLIERS_3S\", ascending = False).head(5)"
      ],
      "metadata": {
        "colab": {
          "base_uri": "https://localhost:8080/",
          "height": 270
        },
        "id": "pPFimpAxHgun",
        "outputId": "a47f77e8-f8d3-4d64-fc2c-079cf9788341"
      },
      "execution_count": null,
      "outputs": [
        {
          "output_type": "execute_result",
          "data": {
            "text/plain": [
              "         FEATURE COUNT          SUM      MEAN       MIN        Q1    MEDIAN  \\\n",
              "323  FEATURE_559  1253  -845.692348 -0.674934 -1.000000 -0.794805 -0.739286   \n",
              "34    FEATURE_39  1252   174.636337  0.139486 -0.577213  0.000244  0.132308   \n",
              "337  FEATURE_575  1253 -1163.021130 -0.928189 -1.000000 -0.981833 -0.976855   \n",
              "338  FEATURE_576  1253  -885.423031 -0.706642 -1.000000 -0.802352 -0.748483   \n",
              "196  FEATURE_296  1251  -956.581422 -0.764653 -1.000000 -0.872952 -0.805339   \n",
              "\n",
              "           Q3       MAX  VARIANCE  STANDARD_DEV UNIQUE_VALUES MISSING_VALUES  \\\n",
              "323 -0.646429  0.159001  0.052176      0.228420           334              0   \n",
              "34   0.231654  0.859538  0.051475      0.226882           309              1   \n",
              "337 -0.970985  0.026529  0.045171      0.212535           678              0   \n",
              "338 -0.665402  0.050355  0.035799      0.189207           522              0   \n",
              "196 -0.729083  0.117017  0.040685      0.201704          1204              2   \n",
              "\n",
              "     PERCENTAGE_NA OUTLIERS_3S  PERCENTAGE_O3S  NORM_STD  \n",
              "323       0.000000          65        5.187550  0.197084  \n",
              "34        0.079808          59        4.712460  0.157913  \n",
              "337       0.000000          59        4.708699  0.207042  \n",
              "338       0.000000          53        4.229848  0.180136  \n",
              "196       0.159617          51        4.076739  0.180574  "
            ],
            "text/html": [
              "\n",
              "  <div id=\"df-948b5617-970d-4fa9-afdf-95b54a3efb45\">\n",
              "    <div class=\"colab-df-container\">\n",
              "      <div>\n",
              "<style scoped>\n",
              "    .dataframe tbody tr th:only-of-type {\n",
              "        vertical-align: middle;\n",
              "    }\n",
              "\n",
              "    .dataframe tbody tr th {\n",
              "        vertical-align: top;\n",
              "    }\n",
              "\n",
              "    .dataframe thead th {\n",
              "        text-align: right;\n",
              "    }\n",
              "</style>\n",
              "<table border=\"1\" class=\"dataframe\">\n",
              "  <thead>\n",
              "    <tr style=\"text-align: right;\">\n",
              "      <th></th>\n",
              "      <th>FEATURE</th>\n",
              "      <th>COUNT</th>\n",
              "      <th>SUM</th>\n",
              "      <th>MEAN</th>\n",
              "      <th>MIN</th>\n",
              "      <th>Q1</th>\n",
              "      <th>MEDIAN</th>\n",
              "      <th>Q3</th>\n",
              "      <th>MAX</th>\n",
              "      <th>VARIANCE</th>\n",
              "      <th>STANDARD_DEV</th>\n",
              "      <th>UNIQUE_VALUES</th>\n",
              "      <th>MISSING_VALUES</th>\n",
              "      <th>PERCENTAGE_NA</th>\n",
              "      <th>OUTLIERS_3S</th>\n",
              "      <th>PERCENTAGE_O3S</th>\n",
              "      <th>NORM_STD</th>\n",
              "    </tr>\n",
              "  </thead>\n",
              "  <tbody>\n",
              "    <tr>\n",
              "      <th>323</th>\n",
              "      <td>FEATURE_559</td>\n",
              "      <td>1253</td>\n",
              "      <td>-845.692348</td>\n",
              "      <td>-0.674934</td>\n",
              "      <td>-1.000000</td>\n",
              "      <td>-0.794805</td>\n",
              "      <td>-0.739286</td>\n",
              "      <td>-0.646429</td>\n",
              "      <td>0.159001</td>\n",
              "      <td>0.052176</td>\n",
              "      <td>0.228420</td>\n",
              "      <td>334</td>\n",
              "      <td>0</td>\n",
              "      <td>0.000000</td>\n",
              "      <td>65</td>\n",
              "      <td>5.187550</td>\n",
              "      <td>0.197084</td>\n",
              "    </tr>\n",
              "    <tr>\n",
              "      <th>34</th>\n",
              "      <td>FEATURE_39</td>\n",
              "      <td>1252</td>\n",
              "      <td>174.636337</td>\n",
              "      <td>0.139486</td>\n",
              "      <td>-0.577213</td>\n",
              "      <td>0.000244</td>\n",
              "      <td>0.132308</td>\n",
              "      <td>0.231654</td>\n",
              "      <td>0.859538</td>\n",
              "      <td>0.051475</td>\n",
              "      <td>0.226882</td>\n",
              "      <td>309</td>\n",
              "      <td>1</td>\n",
              "      <td>0.079808</td>\n",
              "      <td>59</td>\n",
              "      <td>4.712460</td>\n",
              "      <td>0.157913</td>\n",
              "    </tr>\n",
              "    <tr>\n",
              "      <th>337</th>\n",
              "      <td>FEATURE_575</td>\n",
              "      <td>1253</td>\n",
              "      <td>-1163.021130</td>\n",
              "      <td>-0.928189</td>\n",
              "      <td>-1.000000</td>\n",
              "      <td>-0.981833</td>\n",
              "      <td>-0.976855</td>\n",
              "      <td>-0.970985</td>\n",
              "      <td>0.026529</td>\n",
              "      <td>0.045171</td>\n",
              "      <td>0.212535</td>\n",
              "      <td>678</td>\n",
              "      <td>0</td>\n",
              "      <td>0.000000</td>\n",
              "      <td>59</td>\n",
              "      <td>4.708699</td>\n",
              "      <td>0.207042</td>\n",
              "    </tr>\n",
              "    <tr>\n",
              "      <th>338</th>\n",
              "      <td>FEATURE_576</td>\n",
              "      <td>1253</td>\n",
              "      <td>-885.423031</td>\n",
              "      <td>-0.706642</td>\n",
              "      <td>-1.000000</td>\n",
              "      <td>-0.802352</td>\n",
              "      <td>-0.748483</td>\n",
              "      <td>-0.665402</td>\n",
              "      <td>0.050355</td>\n",
              "      <td>0.035799</td>\n",
              "      <td>0.189207</td>\n",
              "      <td>522</td>\n",
              "      <td>0</td>\n",
              "      <td>0.000000</td>\n",
              "      <td>53</td>\n",
              "      <td>4.229848</td>\n",
              "      <td>0.180136</td>\n",
              "    </tr>\n",
              "    <tr>\n",
              "      <th>196</th>\n",
              "      <td>FEATURE_296</td>\n",
              "      <td>1251</td>\n",
              "      <td>-956.581422</td>\n",
              "      <td>-0.764653</td>\n",
              "      <td>-1.000000</td>\n",
              "      <td>-0.872952</td>\n",
              "      <td>-0.805339</td>\n",
              "      <td>-0.729083</td>\n",
              "      <td>0.117017</td>\n",
              "      <td>0.040685</td>\n",
              "      <td>0.201704</td>\n",
              "      <td>1204</td>\n",
              "      <td>2</td>\n",
              "      <td>0.159617</td>\n",
              "      <td>51</td>\n",
              "      <td>4.076739</td>\n",
              "      <td>0.180574</td>\n",
              "    </tr>\n",
              "  </tbody>\n",
              "</table>\n",
              "</div>\n",
              "      <button class=\"colab-df-convert\" onclick=\"convertToInteractive('df-948b5617-970d-4fa9-afdf-95b54a3efb45')\"\n",
              "              title=\"Convert this dataframe to an interactive table.\"\n",
              "              style=\"display:none;\">\n",
              "        \n",
              "  <svg xmlns=\"http://www.w3.org/2000/svg\" height=\"24px\"viewBox=\"0 0 24 24\"\n",
              "       width=\"24px\">\n",
              "    <path d=\"M0 0h24v24H0V0z\" fill=\"none\"/>\n",
              "    <path d=\"M18.56 5.44l.94 2.06.94-2.06 2.06-.94-2.06-.94-.94-2.06-.94 2.06-2.06.94zm-11 1L8.5 8.5l.94-2.06 2.06-.94-2.06-.94L8.5 2.5l-.94 2.06-2.06.94zm10 10l.94 2.06.94-2.06 2.06-.94-2.06-.94-.94-2.06-.94 2.06-2.06.94z\"/><path d=\"M17.41 7.96l-1.37-1.37c-.4-.4-.92-.59-1.43-.59-.52 0-1.04.2-1.43.59L10.3 9.45l-7.72 7.72c-.78.78-.78 2.05 0 2.83L4 21.41c.39.39.9.59 1.41.59.51 0 1.02-.2 1.41-.59l7.78-7.78 2.81-2.81c.8-.78.8-2.07 0-2.86zM5.41 20L4 18.59l7.72-7.72 1.47 1.35L5.41 20z\"/>\n",
              "  </svg>\n",
              "      </button>\n",
              "      \n",
              "  <style>\n",
              "    .colab-df-container {\n",
              "      display:flex;\n",
              "      flex-wrap:wrap;\n",
              "      gap: 12px;\n",
              "    }\n",
              "\n",
              "    .colab-df-convert {\n",
              "      background-color: #E8F0FE;\n",
              "      border: none;\n",
              "      border-radius: 50%;\n",
              "      cursor: pointer;\n",
              "      display: none;\n",
              "      fill: #1967D2;\n",
              "      height: 32px;\n",
              "      padding: 0 0 0 0;\n",
              "      width: 32px;\n",
              "    }\n",
              "\n",
              "    .colab-df-convert:hover {\n",
              "      background-color: #E2EBFA;\n",
              "      box-shadow: 0px 1px 2px rgba(60, 64, 67, 0.3), 0px 1px 3px 1px rgba(60, 64, 67, 0.15);\n",
              "      fill: #174EA6;\n",
              "    }\n",
              "\n",
              "    [theme=dark] .colab-df-convert {\n",
              "      background-color: #3B4455;\n",
              "      fill: #D2E3FC;\n",
              "    }\n",
              "\n",
              "    [theme=dark] .colab-df-convert:hover {\n",
              "      background-color: #434B5C;\n",
              "      box-shadow: 0px 1px 3px 1px rgba(0, 0, 0, 0.15);\n",
              "      filter: drop-shadow(0px 1px 2px rgba(0, 0, 0, 0.3));\n",
              "      fill: #FFFFFF;\n",
              "    }\n",
              "  </style>\n",
              "\n",
              "      <script>\n",
              "        const buttonEl =\n",
              "          document.querySelector('#df-948b5617-970d-4fa9-afdf-95b54a3efb45 button.colab-df-convert');\n",
              "        buttonEl.style.display =\n",
              "          google.colab.kernel.accessAllowed ? 'block' : 'none';\n",
              "\n",
              "        async function convertToInteractive(key) {\n",
              "          const element = document.querySelector('#df-948b5617-970d-4fa9-afdf-95b54a3efb45');\n",
              "          const dataTable =\n",
              "            await google.colab.kernel.invokeFunction('convertToInteractive',\n",
              "                                                     [key], {});\n",
              "          if (!dataTable) return;\n",
              "\n",
              "          const docLinkHtml = 'Like what you see? Visit the ' +\n",
              "            '<a target=\"_blank\" href=https://colab.research.google.com/notebooks/data_table.ipynb>data table notebook</a>'\n",
              "            + ' to learn more about interactive tables.';\n",
              "          element.innerHTML = '';\n",
              "          dataTable['output_type'] = 'display_data';\n",
              "          await google.colab.output.renderOutput(dataTable, element);\n",
              "          const docLink = document.createElement('div');\n",
              "          docLink.innerHTML = docLinkHtml;\n",
              "          element.appendChild(docLink);\n",
              "        }\n",
              "      </script>\n",
              "    </div>\n",
              "  </div>\n",
              "  "
            ]
          },
          "metadata": {},
          "execution_count": 30
        }
      ]
    },
    {
      "cell_type": "markdown",
      "source": [
        "#Imputate missing values"
      ],
      "metadata": {
        "id": "hwMxeKsS6j3T"
      }
    },
    {
      "cell_type": "code",
      "source": [
        "#Copy the Dataset to easily go back if mistakes are made\n",
        "X_train_knn = X_train_df.copy()\n",
        "X_train_mice = X_train_df.copy()"
      ],
      "metadata": {
        "id": "TkacvcGB6iLo"
      },
      "execution_count": null,
      "outputs": []
    },
    {
      "cell_type": "markdown",
      "source": [
        "### KNN imputation"
      ],
      "metadata": {
        "id": "z9OVfljmQrSa"
      }
    },
    {
      "cell_type": "markdown",
      "source": [
        "KNN imputation method is distance-based and it requires the data to be normalized. If we do not normalize the data, the different scalings in our data will make the process of imputation generate biased replacements for the missing values. For SECOM project, we will use Scikit-Learn’s MinMaxScaler. This will scale our features to values between 0 and 1."
      ],
      "metadata": {
        "id": "dChq83lG-zV_"
      }
    },
    {
      "cell_type": "code",
      "source": [
        "scaler = MinMaxScaler(feature_range=(-1,1))\n",
        "X_train_knn = pd.DataFrame(scaler.fit_transform(X_train_knn), columns = X_train_knn.columns)\n",
        "print(\"PERCENTAGE OF MISSING VALUES :\",\n",
        "      round((X_train_knn.isnull().sum().sum()/(X_train_knn.isnull().sum().sum() \n",
        "      + X_train_knn.notnull().sum().sum()))*100, 2) , \" %\\n\")"
      ],
      "metadata": {
        "id": "Pw99f2zT9-LL",
        "colab": {
          "base_uri": "https://localhost:8080/"
        },
        "outputId": "7b7ac16d-c18d-41b5-ed58-e45058c39812"
      },
      "execution_count": null,
      "outputs": [
        {
          "output_type": "stream",
          "name": "stdout",
          "text": [
            "PERCENTAGE OF MISSING VALUES : 2.12  %\n",
            "\n"
          ]
        }
      ]
    },
    {
      "cell_type": "markdown",
      "source": [
        "Now we can move forward with the KNN Imputation. We import the Scikit-Learn’s Impute package and apply it. The number of N-neighbors will  be set at 3. This means, the missing values are being replaced by the mean of 3 nearest neighbors usint the Euclidean distance."
      ],
      "metadata": {
        "id": "-qeyYgVM_Vwx"
      }
    },
    {
      "cell_type": "code",
      "source": [
        "imputer = KNNImputer(n_neighbors=5)\n",
        "X_train_knn = pd.DataFrame(imputer.fit_transform(X_train_knn),columns = X_train_knn.columns)\n",
        "print(\"PERCENTAGE OF MISSING VALUES :\",\n",
        "      round((X_train_knn.isnull().sum().sum()/(X_train_knn.isnull().sum().sum() \n",
        "      + X_train_knn.notnull().sum().sum()))*100, 2) , \" %\")"
      ],
      "metadata": {
        "id": "zkbWKiKd6qfs",
        "colab": {
          "base_uri": "https://localhost:8080/"
        },
        "outputId": "6b8ac3fb-44ef-464e-98d8-a00924847cc9"
      },
      "execution_count": null,
      "outputs": [
        {
          "output_type": "stream",
          "name": "stdout",
          "text": [
            "PERCENTAGE OF MISSING VALUES : 0.0  %\n"
          ]
        }
      ]
    },
    {
      "cell_type": "markdown",
      "source": [
        "### MICE imputation \n",
        "aprox 18m 14s to run"
      ],
      "metadata": {
        "id": "PdZqQYIIQ2Wg"
      }
    },
    {
      "cell_type": "code",
      "source": [
        "print(\"PERCENTAGE OF MISSING VALUES BEFORE MICE:\",\n",
        "      round((X_train_mice.isnull().sum().sum()/(X_train_mice.isnull().sum().sum() \n",
        "      + X_train_mice.notnull().sum().sum()))*100, 2) , \" %\")"
      ],
      "metadata": {
        "id": "nkhWl_E8Q688",
        "colab": {
          "base_uri": "https://localhost:8080/"
        },
        "outputId": "6cbb3eb2-b4ac-499d-e8e4-0938ea180ff6"
      },
      "execution_count": null,
      "outputs": [
        {
          "output_type": "stream",
          "name": "stdout",
          "text": [
            "PERCENTAGE OF MISSING VALUES BEFORE MICE: 2.12  %\n"
          ]
        }
      ]
    },
    {
      "cell_type": "code",
      "source": [
        "X_train_mice_imputed = X_train_mice.copy(deep=True)\n",
        "mice_imputer = IterativeImputer()\n",
        "X_train_mice_imputed.iloc[:, :] = mice_imputer.fit_transform(X_train_mice)\n",
        "X_train_mice = X_train_mice_imputed"
      ],
      "metadata": {
        "id": "JFwixNdsxjA0"
      },
      "execution_count": null,
      "outputs": []
    },
    {
      "cell_type": "code",
      "source": [
        "print(\"PERCENTAGE OF MISSING VALUES AFTER MICE:\",round((X_train_mice.isnull().sum().sum()/(X_train_mice.isnull().sum().sum() \n",
        "      + X_train_mice.notnull().sum().sum()))*100, 2) , \" %\\n\")"
      ],
      "metadata": {
        "id": "D5MxdPwcxmax",
        "colab": {
          "base_uri": "https://localhost:8080/"
        },
        "outputId": "87ebe0c9-360b-419b-b5a1-05c0ca48825e"
      },
      "execution_count": null,
      "outputs": [
        {
          "output_type": "stream",
          "name": "stdout",
          "text": [
            "PERCENTAGE OF MISSING VALUES AFTER MICE: 0.0  %\n",
            "\n"
          ]
        }
      ]
    },
    {
      "cell_type": "markdown",
      "source": [
        "#Feature Selection"
      ],
      "metadata": {
        "id": "gHudEY_Yf3YP"
      }
    },
    {
      "cell_type": "markdown",
      "source": [
        "##Boruta"
      ],
      "metadata": {
        "id": "J_NRV3c3KIM5"
      }
    },
    {
      "cell_type": "code",
      "source": [
        "# define random forest classifier\n",
        "X_train_knn.STATUS = np.where(X_train_knn.STATUS < 0, -1, 1)\n",
        "forest = RandomForestClassifier(n_jobs=-1, class_weight='balanced', max_depth=5)\n",
        "X_train_knn_data = X_train_knn.iloc[: , :-1]\n",
        "forest.fit(np.array(X_train_knn_data), np.array(X_train_knn.STATUS))\n",
        "# define Boruta feature selection method\n",
        "feat_selector = BorutaPy(forest, n_estimators='auto', random_state=42)\n",
        "# find all relevant features\n",
        "feat_selector.fit(np.array(X_train_knn_data), np.array(X_train_knn.STATUS))\n",
        "# zip my names, ranks, and decisions in a single iterable\n",
        "feature_ranks = list(zip(X_train_knn_data.columns, \n",
        "                         feat_selector.ranking_, \n",
        "                         feat_selector.support_))\n",
        "# iterate through and print out the results\n",
        "for feat in feature_ranks:\n",
        "    print('Feature: {:<25} Rank: {},  Keep: {}'.format(feat[0], feat[1], feat[2]))\n",
        "# call transform() on X to filter it down to selected features\n",
        "X_filtered = feat_selector.transform(np.array(X_train_knn_data))"
      ],
      "metadata": {
        "id": "q-il5IZg14_W",
        "colab": {
          "base_uri": "https://localhost:8080/"
        },
        "outputId": "e27b9132-f703-4c49-b072-624573be3957"
      },
      "execution_count": null,
      "outputs": [
        {
          "output_type": "stream",
          "name": "stdout",
          "text": [
            "Feature: FEATURE_1                 Rank: 39,  Keep: False\n",
            "Feature: FEATURE_2                 Rank: 260,  Keep: False\n",
            "Feature: FEATURE_3                 Rank: 158,  Keep: False\n",
            "Feature: FEATURE_4                 Rank: 169,  Keep: False\n",
            "Feature: FEATURE_5                 Rank: 264,  Keep: False\n",
            "Feature: FEATURE_7                 Rank: 138,  Keep: False\n",
            "Feature: FEATURE_8                 Rank: 112,  Keep: False\n",
            "Feature: FEATURE_9                 Rank: 12,  Keep: False\n",
            "Feature: FEATURE_10                Rank: 209,  Keep: False\n",
            "Feature: FEATURE_11                Rank: 71,  Keep: False\n",
            "Feature: FEATURE_12                Rank: 86,  Keep: False\n",
            "Feature: FEATURE_13                Rank: 243,  Keep: False\n",
            "Feature: FEATURE_15                Rank: 61,  Keep: False\n",
            "Feature: FEATURE_16                Rank: 144,  Keep: False\n",
            "Feature: FEATURE_17                Rank: 96,  Keep: False\n",
            "Feature: FEATURE_19                Rank: 262,  Keep: False\n",
            "Feature: FEATURE_20                Rank: 28,  Keep: False\n",
            "Feature: FEATURE_21                Rank: 298,  Keep: False\n",
            "Feature: FEATURE_22                Rank: 9,  Keep: False\n",
            "Feature: FEATURE_23                Rank: 293,  Keep: False\n",
            "Feature: FEATURE_24                Rank: 280,  Keep: False\n",
            "Feature: FEATURE_25                Rank: 303,  Keep: False\n",
            "Feature: FEATURE_26                Rank: 130,  Keep: False\n",
            "Feature: FEATURE_27                Rank: 183,  Keep: False\n",
            "Feature: FEATURE_28                Rank: 144,  Keep: False\n",
            "Feature: FEATURE_29                Rank: 18,  Keep: False\n",
            "Feature: FEATURE_30                Rank: 314,  Keep: False\n",
            "Feature: FEATURE_31                Rank: 156,  Keep: False\n",
            "Feature: FEATURE_32                Rank: 2,  Keep: False\n",
            "Feature: FEATURE_33                Rank: 271,  Keep: False\n",
            "Feature: FEATURE_34                Rank: 1,  Keep: True\n",
            "Feature: FEATURE_36                Rank: 43,  Keep: False\n",
            "Feature: FEATURE_37                Rank: 167,  Keep: False\n",
            "Feature: FEATURE_38                Rank: 153,  Keep: False\n",
            "Feature: FEATURE_39                Rank: 136,  Keep: False\n",
            "Feature: FEATURE_40                Rank: 133,  Keep: False\n",
            "Feature: FEATURE_41                Rank: 37,  Keep: False\n",
            "Feature: FEATURE_42                Rank: 51,  Keep: False\n",
            "Feature: FEATURE_44                Rank: 103,  Keep: False\n",
            "Feature: FEATURE_45                Rank: 190,  Keep: False\n",
            "Feature: FEATURE_46                Rank: 96,  Keep: False\n",
            "Feature: FEATURE_47                Rank: 280,  Keep: False\n",
            "Feature: FEATURE_48                Rank: 91,  Keep: False\n",
            "Feature: FEATURE_49                Rank: 92,  Keep: False\n",
            "Feature: FEATURE_51                Rank: 241,  Keep: False\n",
            "Feature: FEATURE_52                Rank: 201,  Keep: False\n",
            "Feature: FEATURE_54                Rank: 288,  Keep: False\n",
            "Feature: FEATURE_55                Rank: 239,  Keep: False\n",
            "Feature: FEATURE_56                Rank: 30,  Keep: False\n",
            "Feature: FEATURE_57                Rank: 4,  Keep: False\n",
            "Feature: FEATURE_58                Rank: 250,  Keep: False\n",
            "Feature: FEATURE_59                Rank: 32,  Keep: False\n",
            "Feature: FEATURE_60                Rank: 1,  Keep: True\n",
            "Feature: FEATURE_61                Rank: 64,  Keep: False\n",
            "Feature: FEATURE_62                Rank: 278,  Keep: False\n",
            "Feature: FEATURE_63                Rank: 84,  Keep: False\n",
            "Feature: FEATURE_64                Rank: 76,  Keep: False\n",
            "Feature: FEATURE_65                Rank: 1,  Keep: True\n",
            "Feature: FEATURE_66                Rank: 1,  Keep: True\n",
            "Feature: FEATURE_67                Rank: 127,  Keep: False\n",
            "Feature: FEATURE_68                Rank: 37,  Keep: False\n",
            "Feature: FEATURE_69                Rank: 167,  Keep: False\n",
            "Feature: FEATURE_71                Rank: 116,  Keep: False\n",
            "Feature: FEATURE_72                Rank: 161,  Keep: False\n",
            "Feature: FEATURE_73                Rank: 277,  Keep: False\n",
            "Feature: FEATURE_74                Rank: 128,  Keep: False\n",
            "Feature: FEATURE_76                Rank: 112,  Keep: False\n",
            "Feature: FEATURE_77                Rank: 72,  Keep: False\n",
            "Feature: FEATURE_78                Rank: 146,  Keep: False\n",
            "Feature: FEATURE_79                Rank: 82,  Keep: False\n",
            "Feature: FEATURE_80                Rank: 45,  Keep: False\n",
            "Feature: FEATURE_81                Rank: 104,  Keep: False\n",
            "Feature: FEATURE_82                Rank: 66,  Keep: False\n",
            "Feature: FEATURE_83                Rank: 224,  Keep: False\n",
            "Feature: FEATURE_84                Rank: 151,  Keep: False\n",
            "Feature: FEATURE_85                Rank: 216,  Keep: False\n",
            "Feature: FEATURE_87                Rank: 134,  Keep: False\n",
            "Feature: FEATURE_88                Rank: 258,  Keep: False\n",
            "Feature: FEATURE_89                Rank: 61,  Keep: False\n",
            "Feature: FEATURE_90                Rank: 203,  Keep: False\n",
            "Feature: FEATURE_91                Rank: 1,  Keep: True\n",
            "Feature: FEATURE_92                Rank: 42,  Keep: False\n",
            "Feature: FEATURE_93                Rank: 318,  Keep: False\n",
            "Feature: FEATURE_94                Rank: 298,  Keep: False\n",
            "Feature: FEATURE_95                Rank: 328,  Keep: False\n",
            "Feature: FEATURE_96                Rank: 321,  Keep: False\n",
            "Feature: FEATURE_97                Rank: 149,  Keep: False\n",
            "Feature: FEATURE_99                Rank: 203,  Keep: False\n",
            "Feature: FEATURE_100               Rank: 223,  Keep: False\n",
            "Feature: FEATURE_101               Rank: 135,  Keep: False\n",
            "Feature: FEATURE_102               Rank: 323,  Keep: False\n",
            "Feature: FEATURE_103               Rank: 44,  Keep: False\n",
            "Feature: FEATURE_104               Rank: 1,  Keep: True\n",
            "Feature: FEATURE_105               Rank: 308,  Keep: False\n",
            "Feature: FEATURE_106               Rank: 227,  Keep: False\n",
            "Feature: FEATURE_108               Rank: 234,  Keep: False\n",
            "Feature: FEATURE_109               Rank: 252,  Keep: False\n",
            "Feature: FEATURE_113               Rank: 25,  Keep: False\n",
            "Feature: FEATURE_114               Rank: 172,  Keep: False\n",
            "Feature: FEATURE_115               Rank: 330,  Keep: False\n",
            "Feature: FEATURE_116               Rank: 26,  Keep: False\n",
            "Feature: FEATURE_117               Rank: 187,  Keep: False\n",
            "Feature: FEATURE_118               Rank: 60,  Keep: False\n",
            "Feature: FEATURE_119               Rank: 156,  Keep: False\n",
            "Feature: FEATURE_120               Rank: 250,  Keep: False\n",
            "Feature: FEATURE_121               Rank: 120,  Keep: False\n",
            "Feature: FEATURE_122               Rank: 1,  Keep: True\n",
            "Feature: FEATURE_123               Rank: 81,  Keep: False\n",
            "Feature: FEATURE_124               Rank: 69,  Keep: False\n",
            "Feature: FEATURE_125               Rank: 1,  Keep: True\n",
            "Feature: FEATURE_126               Rank: 7,  Keep: False\n",
            "Feature: FEATURE_127               Rank: 55,  Keep: False\n",
            "Feature: FEATURE_128               Rank: 110,  Keep: False\n",
            "Feature: FEATURE_129               Rank: 236,  Keep: False\n",
            "Feature: FEATURE_130               Rank: 1,  Keep: True\n",
            "Feature: FEATURE_131               Rank: 1,  Keep: True\n",
            "Feature: FEATURE_132               Rank: 114,  Keep: False\n",
            "Feature: FEATURE_133               Rank: 96,  Keep: False\n",
            "Feature: FEATURE_134               Rank: 27,  Keep: False\n",
            "Feature: FEATURE_135               Rank: 293,  Keep: False\n",
            "Feature: FEATURE_138               Rank: 102,  Keep: False\n",
            "Feature: FEATURE_139               Rank: 125,  Keep: False\n",
            "Feature: FEATURE_140               Rank: 265,  Keep: False\n",
            "Feature: FEATURE_144               Rank: 154,  Keep: False\n",
            "Feature: FEATURE_146               Rank: 285,  Keep: False\n",
            "Feature: FEATURE_147               Rank: 196,  Keep: False\n",
            "Feature: FEATURE_151               Rank: 280,  Keep: False\n",
            "Feature: FEATURE_152               Rank: 200,  Keep: False\n",
            "Feature: FEATURE_153               Rank: 4,  Keep: False\n",
            "Feature: FEATURE_156               Rank: 50,  Keep: False\n",
            "Feature: FEATURE_157               Rank: 73,  Keep: False\n",
            "Feature: FEATURE_162               Rank: 256,  Keep: False\n",
            "Feature: FEATURE_163               Rank: 177,  Keep: False\n",
            "Feature: FEATURE_168               Rank: 324,  Keep: False\n",
            "Feature: FEATURE_169               Rank: 305,  Keep: False\n",
            "Feature: FEATURE_170               Rank: 291,  Keep: False\n",
            "Feature: FEATURE_172               Rank: 302,  Keep: False\n",
            "Feature: FEATURE_176               Rank: 114,  Keep: False\n",
            "Feature: FEATURE_177               Rank: 317,  Keep: False\n",
            "Feature: FEATURE_178               Rank: 243,  Keep: False\n",
            "Feature: FEATURE_181               Rank: 11,  Keep: False\n",
            "Feature: FEATURE_182               Rank: 109,  Keep: False\n",
            "Feature: FEATURE_183               Rank: 37,  Keep: False\n",
            "Feature: FEATURE_189               Rank: 46,  Keep: False\n",
            "Feature: FEATURE_196               Rank: 96,  Keep: False\n",
            "Feature: FEATURE_197               Rank: 142,  Keep: False\n",
            "Feature: FEATURE_198               Rank: 83,  Keep: False\n",
            "Feature: FEATURE_199               Rank: 245,  Keep: False\n",
            "Feature: FEATURE_200               Rank: 247,  Keep: False\n",
            "Feature: FEATURE_201               Rank: 18,  Keep: False\n",
            "Feature: FEATURE_202               Rank: 205,  Keep: False\n",
            "Feature: FEATURE_204               Rank: 59,  Keep: False\n",
            "Feature: FEATURE_205               Rank: 175,  Keep: False\n",
            "Feature: FEATURE_206               Rank: 1,  Keep: True\n",
            "Feature: FEATURE_209               Rank: 160,  Keep: False\n",
            "Feature: FEATURE_211               Rank: 13,  Keep: False\n",
            "Feature: FEATURE_212               Rank: 256,  Keep: False\n",
            "Feature: FEATURE_213               Rank: 286,  Keep: False\n",
            "Feature: FEATURE_214               Rank: 48,  Keep: False\n",
            "Feature: FEATURE_215               Rank: 199,  Keep: False\n",
            "Feature: FEATURE_216               Rank: 138,  Keep: False\n",
            "Feature: FEATURE_217               Rank: 230,  Keep: False\n",
            "Feature: FEATURE_218               Rank: 147,  Keep: False\n",
            "Feature: FEATURE_219               Rank: 219,  Keep: False\n",
            "Feature: FEATURE_222               Rank: 289,  Keep: False\n",
            "Feature: FEATURE_225               Rank: 207,  Keep: False\n",
            "Feature: FEATURE_228               Rank: 69,  Keep: False\n",
            "Feature: FEATURE_229               Rank: 267,  Keep: False\n",
            "Feature: FEATURE_239               Rank: 237,  Keep: False\n",
            "Feature: FEATURE_240               Rank: 307,  Keep: False\n",
            "Feature: FEATURE_248               Rank: 1,  Keep: True\n",
            "Feature: FEATURE_249               Rank: 226,  Keep: False\n",
            "Feature: FEATURE_250               Rank: 329,  Keep: False\n",
            "Feature: FEATURE_251               Rank: 301,  Keep: False\n",
            "Feature: FEATURE_255               Rank: 166,  Keep: False\n",
            "Feature: FEATURE_256               Rank: 105,  Keep: False\n",
            "Feature: FEATURE_269               Rank: 275,  Keep: False\n",
            "Feature: FEATURE_270               Rank: 121,  Keep: False\n",
            "Feature: FEATURE_271               Rank: 92,  Keep: False\n",
            "Feature: FEATURE_272               Rank: 180,  Keep: False\n",
            "Feature: FEATURE_273               Rank: 119,  Keep: False\n",
            "Feature: FEATURE_274               Rank: 171,  Keep: False\n",
            "Feature: FEATURE_275               Rank: 247,  Keep: False\n",
            "Feature: FEATURE_278               Rank: 309,  Keep: False\n",
            "Feature: FEATURE_279               Rank: 295,  Keep: False\n",
            "Feature: FEATURE_280               Rank: 34,  Keep: False\n",
            "Feature: FEATURE_281               Rank: 107,  Keep: False\n",
            "Feature: FEATURE_282               Rank: 190,  Keep: False\n",
            "Feature: FEATURE_283               Rank: 47,  Keep: False\n",
            "Feature: FEATURE_284               Rank: 227,  Keep: False\n",
            "Feature: FEATURE_286               Rank: 188,  Keep: False\n",
            "Feature: FEATURE_287               Rank: 245,  Keep: False\n",
            "Feature: FEATURE_289               Rank: 54,  Keep: False\n",
            "Feature: FEATURE_290               Rank: 240,  Keep: False\n",
            "Feature: FEATURE_291               Rank: 15,  Keep: False\n",
            "Feature: FEATURE_295               Rank: 106,  Keep: False\n",
            "Feature: FEATURE_296               Rank: 16,  Keep: False\n",
            "Feature: FEATURE_298               Rank: 211,  Keep: False\n",
            "Feature: FEATURE_299               Rank: 33,  Keep: False\n",
            "Feature: FEATURE_300               Rank: 131,  Keep: False\n",
            "Feature: FEATURE_301               Rank: 312,  Keep: False\n",
            "Feature: FEATURE_302               Rank: 116,  Keep: False\n",
            "Feature: FEATURE_303               Rank: 184,  Keep: False\n",
            "Feature: FEATURE_304               Rank: 315,  Keep: False\n",
            "Feature: FEATURE_305               Rank: 254,  Keep: False\n",
            "Feature: FEATURE_306               Rank: 214,  Keep: False\n",
            "Feature: FEATURE_307               Rank: 271,  Keep: False\n",
            "Feature: FEATURE_308               Rank: 99,  Keep: False\n",
            "Feature: FEATURE_309               Rank: 132,  Keep: False\n",
            "Feature: FEATURE_311               Rank: 65,  Keep: False\n",
            "Feature: FEATURE_312               Rank: 291,  Keep: False\n",
            "Feature: FEATURE_317               Rank: 8,  Keep: False\n",
            "Feature: FEATURE_318               Rank: 56,  Keep: False\n",
            "Feature: FEATURE_319               Rank: 111,  Keep: False\n",
            "Feature: FEATURE_320               Rank: 13,  Keep: False\n",
            "Feature: FEATURE_325               Rank: 86,  Keep: False\n",
            "Feature: FEATURE_332               Rank: 41,  Keep: False\n",
            "Feature: FEATURE_334               Rank: 51,  Keep: False\n",
            "Feature: FEATURE_335               Rank: 230,  Keep: False\n",
            "Feature: FEATURE_336               Rank: 273,  Keep: False\n",
            "Feature: FEATURE_337               Rank: 10,  Keep: False\n",
            "Feature: FEATURE_338               Rank: 252,  Keep: False\n",
            "Feature: FEATURE_341               Rank: 107,  Keep: False\n",
            "Feature: FEATURE_344               Rank: 89,  Keep: False\n",
            "Feature: FEATURE_345               Rank: 147,  Keep: False\n",
            "Feature: FEATURE_346               Rank: 22,  Keep: False\n",
            "Feature: FEATURE_347               Rank: 126,  Keep: False\n",
            "Feature: FEATURE_349               Rank: 2,  Keep: False\n",
            "Feature: FEATURE_350               Rank: 193,  Keep: False\n",
            "Feature: FEATURE_353               Rank: 269,  Keep: False\n",
            "Feature: FEATURE_354               Rank: 151,  Keep: False\n",
            "Feature: FEATURE_355               Rank: 237,  Keep: False\n",
            "Feature: FEATURE_356               Rank: 161,  Keep: False\n",
            "Feature: FEATURE_357               Rank: 201,  Keep: False\n",
            "Feature: FEATURE_358               Rank: 322,  Keep: False\n",
            "Feature: FEATURE_360               Rank: 265,  Keep: False\n",
            "Feature: FEATURE_361               Rank: 296,  Keep: False\n",
            "Feature: FEATURE_364               Rank: 310,  Keep: False\n",
            "Feature: FEATURE_366               Rank: 101,  Keep: False\n",
            "Feature: FEATURE_367               Rank: 229,  Keep: False\n",
            "Feature: FEATURE_368               Rank: 282,  Keep: False\n",
            "Feature: FEATURE_369               Rank: 274,  Keep: False\n",
            "Feature: FEATURE_377               Rank: 297,  Keep: False\n",
            "Feature: FEATURE_378               Rank: 118,  Keep: False\n",
            "Feature: FEATURE_386               Rank: 30,  Keep: False\n",
            "Feature: FEATURE_389               Rank: 267,  Keep: False\n",
            "Feature: FEATURE_391               Rank: 74,  Keep: False\n",
            "Feature: FEATURE_392               Rank: 80,  Keep: False\n",
            "Feature: FEATURE_393               Rank: 217,  Keep: False\n",
            "Feature: FEATURE_394               Rank: 124,  Keep: False\n",
            "Feature: FEATURE_406               Rank: 138,  Keep: False\n",
            "Feature: FEATURE_407               Rank: 173,  Keep: False\n",
            "Feature: FEATURE_408               Rank: 170,  Keep: False\n",
            "Feature: FEATURE_409               Rank: 66,  Keep: False\n",
            "Feature: FEATURE_410               Rank: 306,  Keep: False\n",
            "Feature: FEATURE_413               Rank: 194,  Keep: False\n",
            "Feature: FEATURE_414               Rank: 222,  Keep: False\n",
            "Feature: FEATURE_416               Rank: 276,  Keep: False\n",
            "Feature: FEATURE_418               Rank: 16,  Keep: False\n",
            "Feature: FEATURE_419               Rank: 311,  Keep: False\n",
            "Feature: FEATURE_420               Rank: 325,  Keep: False\n",
            "Feature: FEATURE_422               Rank: 194,  Keep: False\n",
            "Feature: FEATURE_424               Rank: 53,  Keep: False\n",
            "Feature: FEATURE_425               Rank: 270,  Keep: False\n",
            "Feature: FEATURE_426               Rank: 3,  Keep: False\n",
            "Feature: FEATURE_428               Rank: 215,  Keep: False\n",
            "Feature: FEATURE_431               Rank: 90,  Keep: False\n",
            "Feature: FEATURE_432               Rank: 20,  Keep: False\n",
            "Feature: FEATURE_433               Rank: 259,  Keep: False\n",
            "Feature: FEATURE_434               Rank: 173,  Keep: False\n",
            "Feature: FEATURE_435               Rank: 185,  Keep: False\n",
            "Feature: FEATURE_438               Rank: 86,  Keep: False\n",
            "Feature: FEATURE_439               Rank: 256,  Keep: False\n",
            "Feature: FEATURE_440               Rank: 220,  Keep: False\n",
            "Feature: FEATURE_442               Rank: 143,  Keep: False\n",
            "Feature: FEATURE_443               Rank: 262,  Keep: False\n",
            "Feature: FEATURE_444               Rank: 58,  Keep: False\n",
            "Feature: FEATURE_445               Rank: 284,  Keep: False\n",
            "Feature: FEATURE_455               Rank: 57,  Keep: False\n",
            "Feature: FEATURE_456               Rank: 24,  Keep: False\n",
            "Feature: FEATURE_461               Rank: 2,  Keep: False\n",
            "Feature: FEATURE_469               Rank: 6,  Keep: False\n",
            "Feature: FEATURE_472               Rank: 164,  Keep: False\n",
            "Feature: FEATURE_473               Rank: 304,  Keep: False\n",
            "Feature: FEATURE_474               Rank: 189,  Keep: False\n",
            "Feature: FEATURE_475               Rank: 217,  Keep: False\n",
            "Feature: FEATURE_477               Rank: 179,  Keep: False\n",
            "Feature: FEATURE_480               Rank: 96,  Keep: False\n",
            "Feature: FEATURE_481               Rank: 186,  Keep: False\n",
            "Feature: FEATURE_483               Rank: 326,  Keep: False\n",
            "Feature: FEATURE_484               Rank: 233,  Keep: False\n",
            "Feature: FEATURE_485               Rank: 243,  Keep: False\n",
            "Feature: FEATURE_486               Rank: 192,  Keep: False\n",
            "Feature: FEATURE_487               Rank: 48,  Keep: False\n",
            "Feature: FEATURE_488               Rank: 159,  Keep: False\n",
            "Feature: FEATURE_489               Rank: 164,  Keep: False\n",
            "Feature: FEATURE_490               Rank: 141,  Keep: False\n",
            "Feature: FEATURE_491               Rank: 138,  Keep: False\n",
            "Feature: FEATURE_492               Rank: 221,  Keep: False\n",
            "Feature: FEATURE_497               Rank: 312,  Keep: False\n",
            "Feature: FEATURE_498               Rank: 181,  Keep: False\n",
            "Feature: FEATURE_500               Rank: 319,  Keep: False\n",
            "Feature: FEATURE_501               Rank: 300,  Keep: False\n",
            "Feature: FEATURE_511               Rank: 1,  Keep: True\n",
            "Feature: FEATURE_512               Rank: 77,  Keep: False\n",
            "Feature: FEATURE_522               Rank: 331,  Keep: False\n",
            "Feature: FEATURE_523               Rank: 151,  Keep: False\n",
            "Feature: FEATURE_524               Rank: 205,  Keep: False\n",
            "Feature: FEATURE_525               Rank: 176,  Keep: False\n",
            "Feature: FEATURE_526               Rank: 164,  Keep: False\n",
            "Feature: FEATURE_540               Rank: 235,  Keep: False\n",
            "Feature: FEATURE_542               Rank: 35,  Keep: False\n",
            "Feature: FEATURE_543               Rank: 249,  Keep: False\n",
            "Feature: FEATURE_544               Rank: 121,  Keep: False\n",
            "Feature: FEATURE_545               Rank: 327,  Keep: False\n",
            "Feature: FEATURE_547               Rank: 224,  Keep: False\n",
            "Feature: FEATURE_548               Rank: 21,  Keep: False\n",
            "Feature: FEATURE_549               Rank: 260,  Keep: False\n",
            "Feature: FEATURE_551               Rank: 99,  Keep: False\n",
            "Feature: FEATURE_552               Rank: 63,  Keep: False\n",
            "Feature: FEATURE_553               Rank: 207,  Keep: False\n",
            "Feature: FEATURE_554               Rank: 154,  Keep: False\n",
            "Feature: FEATURE_556               Rank: 178,  Keep: False\n",
            "Feature: FEATURE_559               Rank: 315,  Keep: False\n",
            "Feature: FEATURE_560               Rank: 211,  Keep: False\n",
            "Feature: FEATURE_561               Rank: 232,  Keep: False\n",
            "Feature: FEATURE_562               Rank: 198,  Keep: False\n",
            "Feature: FEATURE_563               Rank: 78,  Keep: False\n",
            "Feature: FEATURE_564               Rank: 1,  Keep: True\n",
            "Feature: FEATURE_566               Rank: 182,  Keep: False\n",
            "Feature: FEATURE_567               Rank: 289,  Keep: False\n",
            "Feature: FEATURE_568               Rank: 129,  Keep: False\n",
            "Feature: FEATURE_569               Rank: 196,  Keep: False\n",
            "Feature: FEATURE_570               Rank: 75,  Keep: False\n",
            "Feature: FEATURE_571               Rank: 283,  Keep: False\n",
            "Feature: FEATURE_572               Rank: 28,  Keep: False\n",
            "Feature: FEATURE_574               Rank: 39,  Keep: False\n",
            "Feature: FEATURE_575               Rank: 287,  Keep: False\n",
            "Feature: FEATURE_576               Rank: 69,  Keep: False\n",
            "Feature: FEATURE_578               Rank: 23,  Keep: False\n",
            "Feature: FEATURE_583               Rank: 78,  Keep: False\n",
            "Feature: FEATURE_585               Rank: 123,  Keep: False\n",
            "Feature: FEATURE_587               Rank: 213,  Keep: False\n",
            "Feature: FEATURE_588               Rank: 88,  Keep: False\n",
            "Feature: FEATURE_589               Rank: 209,  Keep: False\n",
            "Feature: FEATURE_590               Rank: 320,  Keep: False\n"
          ]
        }
      ]
    },
    {
      "cell_type": "code",
      "source": [
        "feature_ranks = pd.DataFrame (feature_ranks, columns = ['FEATURE', 'RANK', 'KEEP'])\n",
        "boruta_features = feature_ranks.query(\"KEEP == True\")\n",
        "boruta_features = boruta_features[\"FEATURE\"].unique()\n",
        "boruta_features = np.append(boruta_features, 'STATUS')\n",
        "X_train_knn_boruta = X_train_knn[boruta_features]\n",
        "print(\"FEATURES LEFT WITH BORUTA: \",X_train_knn_boruta.shape[1], \"\\n\")\n",
        "X_train_knn_boruta.head(1)"
      ],
      "metadata": {
        "colab": {
          "base_uri": "https://localhost:8080/",
          "height": 180
        },
        "id": "TtNP7cW6OJ5n",
        "outputId": "9ce83cc9-3d55-464f-cb06-316b643e5b58"
      },
      "execution_count": null,
      "outputs": [
        {
          "output_type": "stream",
          "name": "stdout",
          "text": [
            "FEATURES LEFT WITH BORUTA:  15 \n",
            "\n"
          ]
        },
        {
          "output_type": "execute_result",
          "data": {
            "text/plain": [
              "   FEATURE_34  FEATURE_60  FEATURE_65  FEATURE_66  FEATURE_91  FEATURE_104  \\\n",
              "0   -0.346626   -0.293893     0.31204    0.189196   -0.229387    -0.404101   \n",
              "\n",
              "   FEATURE_122  FEATURE_125  FEATURE_130  FEATURE_131  FEATURE_206  \\\n",
              "0     0.308174     0.235101     0.135963     0.608136    -0.650996   \n",
              "\n",
              "   FEATURE_248  FEATURE_511  FEATURE_564  STATUS  \n",
              "0    -0.374197    -0.429163    -0.319035       1  "
            ],
            "text/html": [
              "\n",
              "  <div id=\"df-181ceb1c-8e5c-4cfc-8309-8f0a8b259287\">\n",
              "    <div class=\"colab-df-container\">\n",
              "      <div>\n",
              "<style scoped>\n",
              "    .dataframe tbody tr th:only-of-type {\n",
              "        vertical-align: middle;\n",
              "    }\n",
              "\n",
              "    .dataframe tbody tr th {\n",
              "        vertical-align: top;\n",
              "    }\n",
              "\n",
              "    .dataframe thead th {\n",
              "        text-align: right;\n",
              "    }\n",
              "</style>\n",
              "<table border=\"1\" class=\"dataframe\">\n",
              "  <thead>\n",
              "    <tr style=\"text-align: right;\">\n",
              "      <th></th>\n",
              "      <th>FEATURE_34</th>\n",
              "      <th>FEATURE_60</th>\n",
              "      <th>FEATURE_65</th>\n",
              "      <th>FEATURE_66</th>\n",
              "      <th>FEATURE_91</th>\n",
              "      <th>FEATURE_104</th>\n",
              "      <th>FEATURE_122</th>\n",
              "      <th>FEATURE_125</th>\n",
              "      <th>FEATURE_130</th>\n",
              "      <th>FEATURE_131</th>\n",
              "      <th>FEATURE_206</th>\n",
              "      <th>FEATURE_248</th>\n",
              "      <th>FEATURE_511</th>\n",
              "      <th>FEATURE_564</th>\n",
              "      <th>STATUS</th>\n",
              "    </tr>\n",
              "  </thead>\n",
              "  <tbody>\n",
              "    <tr>\n",
              "      <th>0</th>\n",
              "      <td>-0.346626</td>\n",
              "      <td>-0.293893</td>\n",
              "      <td>0.31204</td>\n",
              "      <td>0.189196</td>\n",
              "      <td>-0.229387</td>\n",
              "      <td>-0.404101</td>\n",
              "      <td>0.308174</td>\n",
              "      <td>0.235101</td>\n",
              "      <td>0.135963</td>\n",
              "      <td>0.608136</td>\n",
              "      <td>-0.650996</td>\n",
              "      <td>-0.374197</td>\n",
              "      <td>-0.429163</td>\n",
              "      <td>-0.319035</td>\n",
              "      <td>1</td>\n",
              "    </tr>\n",
              "  </tbody>\n",
              "</table>\n",
              "</div>\n",
              "      <button class=\"colab-df-convert\" onclick=\"convertToInteractive('df-181ceb1c-8e5c-4cfc-8309-8f0a8b259287')\"\n",
              "              title=\"Convert this dataframe to an interactive table.\"\n",
              "              style=\"display:none;\">\n",
              "        \n",
              "  <svg xmlns=\"http://www.w3.org/2000/svg\" height=\"24px\"viewBox=\"0 0 24 24\"\n",
              "       width=\"24px\">\n",
              "    <path d=\"M0 0h24v24H0V0z\" fill=\"none\"/>\n",
              "    <path d=\"M18.56 5.44l.94 2.06.94-2.06 2.06-.94-2.06-.94-.94-2.06-.94 2.06-2.06.94zm-11 1L8.5 8.5l.94-2.06 2.06-.94-2.06-.94L8.5 2.5l-.94 2.06-2.06.94zm10 10l.94 2.06.94-2.06 2.06-.94-2.06-.94-.94-2.06-.94 2.06-2.06.94z\"/><path d=\"M17.41 7.96l-1.37-1.37c-.4-.4-.92-.59-1.43-.59-.52 0-1.04.2-1.43.59L10.3 9.45l-7.72 7.72c-.78.78-.78 2.05 0 2.83L4 21.41c.39.39.9.59 1.41.59.51 0 1.02-.2 1.41-.59l7.78-7.78 2.81-2.81c.8-.78.8-2.07 0-2.86zM5.41 20L4 18.59l7.72-7.72 1.47 1.35L5.41 20z\"/>\n",
              "  </svg>\n",
              "      </button>\n",
              "      \n",
              "  <style>\n",
              "    .colab-df-container {\n",
              "      display:flex;\n",
              "      flex-wrap:wrap;\n",
              "      gap: 12px;\n",
              "    }\n",
              "\n",
              "    .colab-df-convert {\n",
              "      background-color: #E8F0FE;\n",
              "      border: none;\n",
              "      border-radius: 50%;\n",
              "      cursor: pointer;\n",
              "      display: none;\n",
              "      fill: #1967D2;\n",
              "      height: 32px;\n",
              "      padding: 0 0 0 0;\n",
              "      width: 32px;\n",
              "    }\n",
              "\n",
              "    .colab-df-convert:hover {\n",
              "      background-color: #E2EBFA;\n",
              "      box-shadow: 0px 1px 2px rgba(60, 64, 67, 0.3), 0px 1px 3px 1px rgba(60, 64, 67, 0.15);\n",
              "      fill: #174EA6;\n",
              "    }\n",
              "\n",
              "    [theme=dark] .colab-df-convert {\n",
              "      background-color: #3B4455;\n",
              "      fill: #D2E3FC;\n",
              "    }\n",
              "\n",
              "    [theme=dark] .colab-df-convert:hover {\n",
              "      background-color: #434B5C;\n",
              "      box-shadow: 0px 1px 3px 1px rgba(0, 0, 0, 0.15);\n",
              "      filter: drop-shadow(0px 1px 2px rgba(0, 0, 0, 0.3));\n",
              "      fill: #FFFFFF;\n",
              "    }\n",
              "  </style>\n",
              "\n",
              "      <script>\n",
              "        const buttonEl =\n",
              "          document.querySelector('#df-181ceb1c-8e5c-4cfc-8309-8f0a8b259287 button.colab-df-convert');\n",
              "        buttonEl.style.display =\n",
              "          google.colab.kernel.accessAllowed ? 'block' : 'none';\n",
              "\n",
              "        async function convertToInteractive(key) {\n",
              "          const element = document.querySelector('#df-181ceb1c-8e5c-4cfc-8309-8f0a8b259287');\n",
              "          const dataTable =\n",
              "            await google.colab.kernel.invokeFunction('convertToInteractive',\n",
              "                                                     [key], {});\n",
              "          if (!dataTable) return;\n",
              "\n",
              "          const docLinkHtml = 'Like what you see? Visit the ' +\n",
              "            '<a target=\"_blank\" href=https://colab.research.google.com/notebooks/data_table.ipynb>data table notebook</a>'\n",
              "            + ' to learn more about interactive tables.';\n",
              "          element.innerHTML = '';\n",
              "          dataTable['output_type'] = 'display_data';\n",
              "          await google.colab.output.renderOutput(dataTable, element);\n",
              "          const docLink = document.createElement('div');\n",
              "          docLink.innerHTML = docLinkHtml;\n",
              "          element.appendChild(docLink);\n",
              "        }\n",
              "      </script>\n",
              "    </div>\n",
              "  </div>\n",
              "  "
            ]
          },
          "metadata": {},
          "execution_count": 56
        }
      ]
    },
    {
      "cell_type": "code",
      "source": [
        "sns.heatmap(X_train_knn_boruta.corr(), cmap = \"YlGnBu\")\n",
        "plt.title('Correlation Heatmap', fontsize = 20)"
      ],
      "metadata": {
        "colab": {
          "base_uri": "https://localhost:8080/",
          "height": 362
        },
        "id": "ZyvwvqFB6Dqu",
        "outputId": "a113df4c-2459-4069-ebeb-d0c4847b0c26"
      },
      "execution_count": null,
      "outputs": [
        {
          "output_type": "execute_result",
          "data": {
            "text/plain": [
              "Text(0.5, 1.0, 'Correlation Heatmap')"
            ]
          },
          "metadata": {},
          "execution_count": 57
        },
        {
          "output_type": "display_data",
          "data": {
            "text/plain": [
              "<Figure size 432x288 with 2 Axes>"
            ],
            "image/png": "[encoded data removed]"
          },
          "metadata": {
            "needs_background": "light"
          }
        }
      ]
    },
    {
      "cell_type": "markdown",
      "source": [
        "## Recursive Feature Elimination"
      ],
      "metadata": {
        "id": "euXjH0Rbs1kN"
      }
    },
    {
      "cell_type": "code",
      "source": [
        "# define random forest classifier\n",
        "forest = RandomForestClassifier(n_jobs=-1, class_weight='balanced', max_depth=5)\n",
        "X_train_knn_data = X_train_knn.iloc[: , :-1]\n",
        "X_train_knn.STATUS = np.where(X_train_knn.STATUS < 0, -1, 1)\n",
        "forest.fit(np.array(X_train_knn_data), np.array(X_train_knn.STATUS))\n",
        "# define RFE feature selection method\n",
        "feat_selector = RFE(forest, n_features_to_select = 25)\n",
        "# find all relevant features\n",
        "feat_selector.fit(np.array(X_train_knn_data), np.array(X_train_knn.STATUS))\n",
        "# zip my names, ranks, and decisions in a single iterable\n",
        "feature_ranks = list(zip(X_train_knn_data.columns, \n",
        "                         feat_selector.ranking_, \n",
        "                         feat_selector.support_))\n",
        "# iterate through and print out the results\n",
        "for feat in feature_ranks:\n",
        "    print('Feature: {:<25} Rank: {},  Keep: {}'.format(feat[0], feat[1], feat[2]))\n",
        "# call transform() on X to filter it down to selected features\n",
        "X_filtered_rfe = feat_selector.transform(np.array(X_train_knn_data))"
      ],
      "metadata": {
        "id": "4NSiRXoEv9jU",
        "colab": {
          "base_uri": "https://localhost:8080/"
        },
        "outputId": "b55ec6fe-22ad-46d6-a654-c720d333a6a1"
      },
      "execution_count": null,
      "outputs": [
        {
          "output_type": "stream",
          "name": "stdout",
          "text": [
            "Feature: FEATURE_1                 Rank: 9,  Keep: False\n",
            "Feature: FEATURE_2                 Rank: 148,  Keep: False\n",
            "Feature: FEATURE_3                 Rank: 113,  Keep: False\n",
            "Feature: FEATURE_4                 Rank: 166,  Keep: False\n",
            "Feature: FEATURE_5                 Rank: 140,  Keep: False\n",
            "Feature: FEATURE_7                 Rank: 133,  Keep: False\n",
            "Feature: FEATURE_8                 Rank: 250,  Keep: False\n",
            "Feature: FEATURE_9                 Rank: 25,  Keep: False\n",
            "Feature: FEATURE_10                Rank: 96,  Keep: False\n",
            "Feature: FEATURE_11                Rank: 303,  Keep: False\n",
            "Feature: FEATURE_12                Rank: 73,  Keep: False\n",
            "Feature: FEATURE_13                Rank: 272,  Keep: False\n",
            "Feature: FEATURE_15                Rank: 141,  Keep: False\n",
            "Feature: FEATURE_16                Rank: 69,  Keep: False\n",
            "Feature: FEATURE_17                Rank: 72,  Keep: False\n",
            "Feature: FEATURE_19                Rank: 152,  Keep: False\n",
            "Feature: FEATURE_20                Rank: 17,  Keep: False\n",
            "Feature: FEATURE_21                Rank: 265,  Keep: False\n",
            "Feature: FEATURE_22                Rank: 1,  Keep: True\n",
            "Feature: FEATURE_23                Rank: 204,  Keep: False\n",
            "Feature: FEATURE_24                Rank: 313,  Keep: False\n",
            "Feature: FEATURE_25                Rank: 285,  Keep: False\n",
            "Feature: FEATURE_26                Rank: 46,  Keep: False\n",
            "Feature: FEATURE_27                Rank: 49,  Keep: False\n",
            "Feature: FEATURE_28                Rank: 189,  Keep: False\n",
            "Feature: FEATURE_29                Rank: 23,  Keep: False\n",
            "Feature: FEATURE_30                Rank: 284,  Keep: False\n",
            "Feature: FEATURE_31                Rank: 294,  Keep: False\n",
            "Feature: FEATURE_32                Rank: 1,  Keep: True\n",
            "Feature: FEATURE_33                Rank: 150,  Keep: False\n",
            "Feature: FEATURE_34                Rank: 1,  Keep: True\n",
            "Feature: FEATURE_36                Rank: 41,  Keep: False\n",
            "Feature: FEATURE_37                Rank: 173,  Keep: False\n",
            "Feature: FEATURE_38                Rank: 67,  Keep: False\n",
            "Feature: FEATURE_39                Rank: 270,  Keep: False\n",
            "Feature: FEATURE_40                Rank: 174,  Keep: False\n",
            "Feature: FEATURE_41                Rank: 26,  Keep: False\n",
            "Feature: FEATURE_42                Rank: 43,  Keep: False\n",
            "Feature: FEATURE_44                Rank: 91,  Keep: False\n",
            "Feature: FEATURE_45                Rank: 198,  Keep: False\n",
            "Feature: FEATURE_46                Rank: 80,  Keep: False\n",
            "Feature: FEATURE_47                Rank: 241,  Keep: False\n",
            "Feature: FEATURE_48                Rank: 74,  Keep: False\n",
            "Feature: FEATURE_49                Rank: 205,  Keep: False\n",
            "Feature: FEATURE_51                Rank: 127,  Keep: False\n",
            "Feature: FEATURE_52                Rank: 220,  Keep: False\n",
            "Feature: FEATURE_54                Rank: 97,  Keep: False\n",
            "Feature: FEATURE_55                Rank: 175,  Keep: False\n",
            "Feature: FEATURE_56                Rank: 75,  Keep: False\n",
            "Feature: FEATURE_57                Rank: 2,  Keep: False\n",
            "Feature: FEATURE_58                Rank: 210,  Keep: False\n",
            "Feature: FEATURE_59                Rank: 54,  Keep: False\n",
            "Feature: FEATURE_60                Rank: 1,  Keep: True\n",
            "Feature: FEATURE_61                Rank: 314,  Keep: False\n",
            "Feature: FEATURE_62                Rank: 295,  Keep: False\n",
            "Feature: FEATURE_63                Rank: 157,  Keep: False\n",
            "Feature: FEATURE_64                Rank: 134,  Keep: False\n",
            "Feature: FEATURE_65                Rank: 1,  Keep: True\n",
            "Feature: FEATURE_66                Rank: 1,  Keep: True\n",
            "Feature: FEATURE_67                Rank: 317,  Keep: False\n",
            "Feature: FEATURE_68                Rank: 4,  Keep: False\n",
            "Feature: FEATURE_69                Rank: 125,  Keep: False\n",
            "Feature: FEATURE_71                Rank: 118,  Keep: False\n",
            "Feature: FEATURE_72                Rank: 169,  Keep: False\n",
            "Feature: FEATURE_73                Rank: 168,  Keep: False\n",
            "Feature: FEATURE_74                Rank: 64,  Keep: False\n",
            "Feature: FEATURE_76                Rank: 58,  Keep: False\n",
            "Feature: FEATURE_77                Rank: 101,  Keep: False\n",
            "Feature: FEATURE_78                Rank: 39,  Keep: False\n",
            "Feature: FEATURE_79                Rank: 262,  Keep: False\n",
            "Feature: FEATURE_80                Rank: 40,  Keep: False\n",
            "Feature: FEATURE_81                Rank: 211,  Keep: False\n",
            "Feature: FEATURE_82                Rank: 1,  Keep: True\n",
            "Feature: FEATURE_83                Rank: 206,  Keep: False\n",
            "Feature: FEATURE_84                Rank: 130,  Keep: False\n",
            "Feature: FEATURE_85                Rank: 156,  Keep: False\n",
            "Feature: FEATURE_87                Rank: 170,  Keep: False\n",
            "Feature: FEATURE_88                Rank: 242,  Keep: False\n",
            "Feature: FEATURE_89                Rank: 82,  Keep: False\n",
            "Feature: FEATURE_90                Rank: 178,  Keep: False\n",
            "Feature: FEATURE_91                Rank: 1,  Keep: True\n",
            "Feature: FEATURE_92                Rank: 10,  Keep: False\n",
            "Feature: FEATURE_93                Rank: 153,  Keep: False\n",
            "Feature: FEATURE_94                Rank: 180,  Keep: False\n",
            "Feature: FEATURE_95                Rank: 309,  Keep: False\n",
            "Feature: FEATURE_96                Rank: 245,  Keep: False\n",
            "Feature: FEATURE_97                Rank: 129,  Keep: False\n",
            "Feature: FEATURE_99                Rank: 252,  Keep: False\n",
            "Feature: FEATURE_100               Rank: 187,  Keep: False\n",
            "Feature: FEATURE_101               Rank: 84,  Keep: False\n",
            "Feature: FEATURE_102               Rank: 277,  Keep: False\n",
            "Feature: FEATURE_103               Rank: 3,  Keep: False\n",
            "Feature: FEATURE_104               Rank: 1,  Keep: True\n",
            "Feature: FEATURE_105               Rank: 237,  Keep: False\n",
            "Feature: FEATURE_106               Rank: 155,  Keep: False\n",
            "Feature: FEATURE_108               Rank: 243,  Keep: False\n",
            "Feature: FEATURE_109               Rank: 199,  Keep: False\n",
            "Feature: FEATURE_113               Rank: 53,  Keep: False\n",
            "Feature: FEATURE_114               Rank: 100,  Keep: False\n",
            "Feature: FEATURE_115               Rank: 319,  Keep: False\n",
            "Feature: FEATURE_116               Rank: 11,  Keep: False\n",
            "Feature: FEATURE_117               Rank: 146,  Keep: False\n",
            "Feature: FEATURE_118               Rank: 33,  Keep: False\n",
            "Feature: FEATURE_119               Rank: 70,  Keep: False\n",
            "Feature: FEATURE_120               Rank: 167,  Keep: False\n",
            "Feature: FEATURE_121               Rank: 83,  Keep: False\n",
            "Feature: FEATURE_122               Rank: 1,  Keep: True\n",
            "Feature: FEATURE_123               Rank: 57,  Keep: False\n",
            "Feature: FEATURE_124               Rank: 92,  Keep: False\n",
            "Feature: FEATURE_125               Rank: 1,  Keep: True\n",
            "Feature: FEATURE_126               Rank: 16,  Keep: False\n",
            "Feature: FEATURE_127               Rank: 95,  Keep: False\n",
            "Feature: FEATURE_128               Rank: 132,  Keep: False\n",
            "Feature: FEATURE_129               Rank: 320,  Keep: False\n",
            "Feature: FEATURE_130               Rank: 1,  Keep: True\n",
            "Feature: FEATURE_131               Rank: 1,  Keep: True\n",
            "Feature: FEATURE_132               Rank: 55,  Keep: False\n",
            "Feature: FEATURE_133               Rank: 47,  Keep: False\n",
            "Feature: FEATURE_134               Rank: 51,  Keep: False\n",
            "Feature: FEATURE_135               Rank: 312,  Keep: False\n",
            "Feature: FEATURE_138               Rank: 27,  Keep: False\n",
            "Feature: FEATURE_139               Rank: 234,  Keep: False\n",
            "Feature: FEATURE_140               Rank: 214,  Keep: False\n",
            "Feature: FEATURE_144               Rank: 119,  Keep: False\n",
            "Feature: FEATURE_146               Rank: 254,  Keep: False\n",
            "Feature: FEATURE_147               Rank: 94,  Keep: False\n",
            "Feature: FEATURE_151               Rank: 158,  Keep: False\n",
            "Feature: FEATURE_152               Rank: 223,  Keep: False\n",
            "Feature: FEATURE_153               Rank: 1,  Keep: True\n",
            "Feature: FEATURE_156               Rank: 48,  Keep: False\n",
            "Feature: FEATURE_157               Rank: 162,  Keep: False\n",
            "Feature: FEATURE_162               Rank: 139,  Keep: False\n",
            "Feature: FEATURE_163               Rank: 149,  Keep: False\n",
            "Feature: FEATURE_168               Rank: 280,  Keep: False\n",
            "Feature: FEATURE_169               Rank: 276,  Keep: False\n",
            "Feature: FEATURE_170               Rank: 279,  Keep: False\n",
            "Feature: FEATURE_172               Rank: 227,  Keep: False\n",
            "Feature: FEATURE_176               Rank: 281,  Keep: False\n",
            "Feature: FEATURE_177               Rank: 160,  Keep: False\n",
            "Feature: FEATURE_178               Rank: 161,  Keep: False\n",
            "Feature: FEATURE_181               Rank: 32,  Keep: False\n",
            "Feature: FEATURE_182               Rank: 86,  Keep: False\n",
            "Feature: FEATURE_183               Rank: 181,  Keep: False\n",
            "Feature: FEATURE_189               Rank: 24,  Keep: False\n",
            "Feature: FEATURE_196               Rank: 78,  Keep: False\n",
            "Feature: FEATURE_197               Rank: 30,  Keep: False\n",
            "Feature: FEATURE_198               Rank: 112,  Keep: False\n",
            "Feature: FEATURE_199               Rank: 207,  Keep: False\n",
            "Feature: FEATURE_200               Rank: 188,  Keep: False\n",
            "Feature: FEATURE_201               Rank: 63,  Keep: False\n",
            "Feature: FEATURE_202               Rank: 163,  Keep: False\n",
            "Feature: FEATURE_204               Rank: 85,  Keep: False\n",
            "Feature: FEATURE_205               Rank: 81,  Keep: False\n",
            "Feature: FEATURE_206               Rank: 1,  Keep: True\n",
            "Feature: FEATURE_209               Rank: 61,  Keep: False\n",
            "Feature: FEATURE_211               Rank: 19,  Keep: False\n",
            "Feature: FEATURE_212               Rank: 231,  Keep: False\n",
            "Feature: FEATURE_213               Rank: 136,  Keep: False\n",
            "Feature: FEATURE_214               Rank: 59,  Keep: False\n",
            "Feature: FEATURE_215               Rank: 144,  Keep: False\n",
            "Feature: FEATURE_216               Rank: 56,  Keep: False\n",
            "Feature: FEATURE_217               Rank: 103,  Keep: False\n",
            "Feature: FEATURE_218               Rank: 219,  Keep: False\n",
            "Feature: FEATURE_219               Rank: 77,  Keep: False\n",
            "Feature: FEATURE_222               Rank: 186,  Keep: False\n",
            "Feature: FEATURE_225               Rank: 275,  Keep: False\n",
            "Feature: FEATURE_228               Rank: 36,  Keep: False\n",
            "Feature: FEATURE_229               Rank: 233,  Keep: False\n",
            "Feature: FEATURE_239               Rank: 300,  Keep: False\n",
            "Feature: FEATURE_240               Rank: 216,  Keep: False\n",
            "Feature: FEATURE_248               Rank: 1,  Keep: True\n",
            "Feature: FEATURE_249               Rank: 213,  Keep: False\n",
            "Feature: FEATURE_250               Rank: 321,  Keep: False\n",
            "Feature: FEATURE_251               Rank: 120,  Keep: False\n",
            "Feature: FEATURE_255               Rank: 93,  Keep: False\n",
            "Feature: FEATURE_256               Rank: 212,  Keep: False\n",
            "Feature: FEATURE_269               Rank: 126,  Keep: False\n",
            "Feature: FEATURE_270               Rank: 62,  Keep: False\n",
            "Feature: FEATURE_271               Rank: 52,  Keep: False\n",
            "Feature: FEATURE_272               Rank: 307,  Keep: False\n",
            "Feature: FEATURE_273               Rank: 236,  Keep: False\n",
            "Feature: FEATURE_274               Rank: 123,  Keep: False\n",
            "Feature: FEATURE_275               Rank: 246,  Keep: False\n",
            "Feature: FEATURE_278               Rank: 202,  Keep: False\n",
            "Feature: FEATURE_279               Rank: 143,  Keep: False\n",
            "Feature: FEATURE_280               Rank: 12,  Keep: False\n",
            "Feature: FEATURE_281               Rank: 137,  Keep: False\n",
            "Feature: FEATURE_282               Rank: 165,  Keep: False\n",
            "Feature: FEATURE_283               Rank: 14,  Keep: False\n",
            "Feature: FEATURE_284               Rank: 151,  Keep: False\n",
            "Feature: FEATURE_286               Rank: 264,  Keep: False\n",
            "Feature: FEATURE_287               Rank: 104,  Keep: False\n",
            "Feature: FEATURE_289               Rank: 89,  Keep: False\n",
            "Feature: FEATURE_290               Rank: 311,  Keep: False\n",
            "Feature: FEATURE_291               Rank: 190,  Keep: False\n",
            "Feature: FEATURE_295               Rank: 105,  Keep: False\n",
            "Feature: FEATURE_296               Rank: 7,  Keep: False\n",
            "Feature: FEATURE_298               Rank: 87,  Keep: False\n",
            "Feature: FEATURE_299               Rank: 98,  Keep: False\n",
            "Feature: FEATURE_300               Rank: 90,  Keep: False\n",
            "Feature: FEATURE_301               Rank: 184,  Keep: False\n",
            "Feature: FEATURE_302               Rank: 230,  Keep: False\n",
            "Feature: FEATURE_303               Rank: 192,  Keep: False\n",
            "Feature: FEATURE_304               Rank: 232,  Keep: False\n",
            "Feature: FEATURE_305               Rank: 263,  Keep: False\n",
            "Feature: FEATURE_306               Rank: 235,  Keep: False\n",
            "Feature: FEATURE_307               Rank: 299,  Keep: False\n",
            "Feature: FEATURE_308               Rank: 124,  Keep: False\n",
            "Feature: FEATURE_309               Rank: 259,  Keep: False\n",
            "Feature: FEATURE_311               Rank: 255,  Keep: False\n",
            "Feature: FEATURE_312               Rank: 225,  Keep: False\n",
            "Feature: FEATURE_317               Rank: 15,  Keep: False\n",
            "Feature: FEATURE_318               Rank: 50,  Keep: False\n",
            "Feature: FEATURE_319               Rank: 111,  Keep: False\n",
            "Feature: FEATURE_320               Rank: 1,  Keep: True\n",
            "Feature: FEATURE_325               Rank: 37,  Keep: False\n",
            "Feature: FEATURE_332               Rank: 44,  Keep: False\n",
            "Feature: FEATURE_334               Rank: 21,  Keep: False\n",
            "Feature: FEATURE_335               Rank: 256,  Keep: False\n",
            "Feature: FEATURE_336               Rank: 239,  Keep: False\n",
            "Feature: FEATURE_337               Rank: 1,  Keep: True\n",
            "Feature: FEATURE_338               Rank: 131,  Keep: False\n",
            "Feature: FEATURE_341               Rank: 238,  Keep: False\n",
            "Feature: FEATURE_344               Rank: 171,  Keep: False\n",
            "Feature: FEATURE_345               Rank: 194,  Keep: False\n",
            "Feature: FEATURE_346               Rank: 22,  Keep: False\n",
            "Feature: FEATURE_347               Rank: 88,  Keep: False\n",
            "Feature: FEATURE_349               Rank: 1,  Keep: True\n",
            "Feature: FEATURE_350               Rank: 115,  Keep: False\n",
            "Feature: FEATURE_353               Rank: 222,  Keep: False\n",
            "Feature: FEATURE_354               Rank: 200,  Keep: False\n",
            "Feature: FEATURE_355               Rank: 217,  Keep: False\n",
            "Feature: FEATURE_356               Rank: 191,  Keep: False\n",
            "Feature: FEATURE_357               Rank: 286,  Keep: False\n",
            "Feature: FEATURE_358               Rank: 283,  Keep: False\n",
            "Feature: FEATURE_360               Rank: 248,  Keep: False\n",
            "Feature: FEATURE_361               Rank: 292,  Keep: False\n",
            "Feature: FEATURE_364               Rank: 108,  Keep: False\n",
            "Feature: FEATURE_366               Rank: 106,  Keep: False\n",
            "Feature: FEATURE_367               Rank: 138,  Keep: False\n",
            "Feature: FEATURE_368               Rank: 183,  Keep: False\n",
            "Feature: FEATURE_369               Rank: 271,  Keep: False\n",
            "Feature: FEATURE_377               Rank: 268,  Keep: False\n",
            "Feature: FEATURE_378               Rank: 318,  Keep: False\n",
            "Feature: FEATURE_386               Rank: 28,  Keep: False\n",
            "Feature: FEATURE_389               Rank: 253,  Keep: False\n",
            "Feature: FEATURE_391               Rank: 45,  Keep: False\n",
            "Feature: FEATURE_392               Rank: 209,  Keep: False\n",
            "Feature: FEATURE_393               Rank: 289,  Keep: False\n",
            "Feature: FEATURE_394               Rank: 102,  Keep: False\n",
            "Feature: FEATURE_406               Rank: 240,  Keep: False\n",
            "Feature: FEATURE_407               Rank: 66,  Keep: False\n",
            "Feature: FEATURE_408               Rank: 142,  Keep: False\n",
            "Feature: FEATURE_409               Rank: 29,  Keep: False\n",
            "Feature: FEATURE_410               Rank: 308,  Keep: False\n",
            "Feature: FEATURE_413               Rank: 266,  Keep: False\n",
            "Feature: FEATURE_414               Rank: 287,  Keep: False\n",
            "Feature: FEATURE_416               Rank: 195,  Keep: False\n",
            "Feature: FEATURE_418               Rank: 5,  Keep: False\n",
            "Feature: FEATURE_419               Rank: 305,  Keep: False\n",
            "Feature: FEATURE_420               Rank: 293,  Keep: False\n",
            "Feature: FEATURE_422               Rank: 203,  Keep: False\n",
            "Feature: FEATURE_424               Rank: 1,  Keep: True\n",
            "Feature: FEATURE_425               Rank: 296,  Keep: False\n",
            "Feature: FEATURE_426               Rank: 6,  Keep: False\n",
            "Feature: FEATURE_428               Rank: 249,  Keep: False\n",
            "Feature: FEATURE_431               Rank: 117,  Keep: False\n",
            "Feature: FEATURE_432               Rank: 13,  Keep: False\n",
            "Feature: FEATURE_433               Rank: 269,  Keep: False\n",
            "Feature: FEATURE_434               Rank: 221,  Keep: False\n",
            "Feature: FEATURE_435               Rank: 99,  Keep: False\n",
            "Feature: FEATURE_438               Rank: 110,  Keep: False\n",
            "Feature: FEATURE_439               Rank: 298,  Keep: False\n",
            "Feature: FEATURE_440               Rank: 196,  Keep: False\n",
            "Feature: FEATURE_442               Rank: 177,  Keep: False\n",
            "Feature: FEATURE_443               Rank: 164,  Keep: False\n",
            "Feature: FEATURE_444               Rank: 31,  Keep: False\n",
            "Feature: FEATURE_445               Rank: 260,  Keep: False\n",
            "Feature: FEATURE_455               Rank: 34,  Keep: False\n",
            "Feature: FEATURE_456               Rank: 121,  Keep: False\n",
            "Feature: FEATURE_461               Rank: 1,  Keep: True\n",
            "Feature: FEATURE_469               Rank: 1,  Keep: True\n",
            "Feature: FEATURE_472               Rank: 228,  Keep: False\n",
            "Feature: FEATURE_473               Rank: 226,  Keep: False\n",
            "Feature: FEATURE_474               Rank: 229,  Keep: False\n",
            "Feature: FEATURE_475               Rank: 185,  Keep: False\n",
            "Feature: FEATURE_477               Rank: 147,  Keep: False\n",
            "Feature: FEATURE_480               Rank: 251,  Keep: False\n",
            "Feature: FEATURE_481               Rank: 208,  Keep: False\n",
            "Feature: FEATURE_483               Rank: 282,  Keep: False\n",
            "Feature: FEATURE_484               Rank: 135,  Keep: False\n",
            "Feature: FEATURE_485               Rank: 306,  Keep: False\n",
            "Feature: FEATURE_486               Rank: 290,  Keep: False\n",
            "Feature: FEATURE_487               Rank: 68,  Keep: False\n",
            "Feature: FEATURE_488               Rank: 247,  Keep: False\n",
            "Feature: FEATURE_489               Rank: 65,  Keep: False\n",
            "Feature: FEATURE_490               Rank: 322,  Keep: False\n",
            "Feature: FEATURE_491               Rank: 116,  Keep: False\n",
            "Feature: FEATURE_492               Rank: 304,  Keep: False\n",
            "Feature: FEATURE_497               Rank: 257,  Keep: False\n",
            "Feature: FEATURE_498               Rank: 201,  Keep: False\n",
            "Feature: FEATURE_500               Rank: 261,  Keep: False\n",
            "Feature: FEATURE_501               Rank: 291,  Keep: False\n",
            "Feature: FEATURE_511               Rank: 1,  Keep: True\n",
            "Feature: FEATURE_512               Rank: 267,  Keep: False\n",
            "Feature: FEATURE_522               Rank: 301,  Keep: False\n",
            "Feature: FEATURE_523               Rank: 107,  Keep: False\n",
            "Feature: FEATURE_524               Rank: 224,  Keep: False\n",
            "Feature: FEATURE_525               Rank: 182,  Keep: False\n",
            "Feature: FEATURE_526               Rank: 215,  Keep: False\n",
            "Feature: FEATURE_540               Rank: 193,  Keep: False\n",
            "Feature: FEATURE_542               Rank: 8,  Keep: False\n",
            "Feature: FEATURE_543               Rank: 278,  Keep: False\n",
            "Feature: FEATURE_544               Rank: 310,  Keep: False\n",
            "Feature: FEATURE_545               Rank: 316,  Keep: False\n",
            "Feature: FEATURE_547               Rank: 172,  Keep: False\n",
            "Feature: FEATURE_548               Rank: 35,  Keep: False\n",
            "Feature: FEATURE_549               Rank: 288,  Keep: False\n",
            "Feature: FEATURE_551               Rank: 145,  Keep: False\n",
            "Feature: FEATURE_552               Rank: 38,  Keep: False\n",
            "Feature: FEATURE_553               Rank: 71,  Keep: False\n",
            "Feature: FEATURE_554               Rank: 159,  Keep: False\n",
            "Feature: FEATURE_556               Rank: 176,  Keep: False\n",
            "Feature: FEATURE_559               Rank: 273,  Keep: False\n",
            "Feature: FEATURE_560               Rank: 109,  Keep: False\n",
            "Feature: FEATURE_561               Rank: 154,  Keep: False\n",
            "Feature: FEATURE_562               Rank: 128,  Keep: False\n",
            "Feature: FEATURE_563               Rank: 76,  Keep: False\n",
            "Feature: FEATURE_564               Rank: 1,  Keep: True\n",
            "Feature: FEATURE_566               Rank: 114,  Keep: False\n",
            "Feature: FEATURE_567               Rank: 258,  Keep: False\n",
            "Feature: FEATURE_568               Rank: 297,  Keep: False\n",
            "Feature: FEATURE_569               Rank: 244,  Keep: False\n",
            "Feature: FEATURE_570               Rank: 60,  Keep: False\n",
            "Feature: FEATURE_571               Rank: 218,  Keep: False\n",
            "Feature: FEATURE_572               Rank: 20,  Keep: False\n",
            "Feature: FEATURE_574               Rank: 1,  Keep: True\n",
            "Feature: FEATURE_575               Rank: 274,  Keep: False\n",
            "Feature: FEATURE_576               Rank: 42,  Keep: False\n",
            "Feature: FEATURE_578               Rank: 18,  Keep: False\n",
            "Feature: FEATURE_583               Rank: 179,  Keep: False\n",
            "Feature: FEATURE_585               Rank: 122,  Keep: False\n",
            "Feature: FEATURE_587               Rank: 197,  Keep: False\n",
            "Feature: FEATURE_588               Rank: 79,  Keep: False\n",
            "Feature: FEATURE_589               Rank: 302,  Keep: False\n",
            "Feature: FEATURE_590               Rank: 315,  Keep: False\n"
          ]
        }
      ]
    },
    {
      "cell_type": "code",
      "source": [
        "feature_ranks = pd.DataFrame (feature_ranks, columns = ['FEATURE', 'RANK', 'KEEP'])\n",
        "rfe_features = feature_ranks.query(\"KEEP == True\")\n",
        "rfe_features = rfe_features[\"FEATURE\"].unique()\n",
        "rfe_features = np.append(rfe_features, 'STATUS')\n",
        "X_train_knn_rfe = X_train_knn[rfe_features]\n",
        "print(\"FEATURES LEFT WITH RFE: \",X_train_knn_rfe.shape[1], \"\\n\")\n",
        "X_train_knn_rfe.head(1)"
      ],
      "metadata": {
        "id": "EWgUsVSEDWbU",
        "colab": {
          "base_uri": "https://localhost:8080/",
          "height": 209
        },
        "outputId": "3d5b9f32-49d2-4d47-c057-b154b387c283"
      },
      "execution_count": null,
      "outputs": [
        {
          "output_type": "stream",
          "name": "stdout",
          "text": [
            "FEATURES LEFT WITH RFE:  26 \n",
            "\n"
          ]
        },
        {
          "output_type": "execute_result",
          "data": {
            "text/plain": [
              "   FEATURE_22  FEATURE_32  FEATURE_34  FEATURE_60  FEATURE_65  FEATURE_66  \\\n",
              "0    0.074841   -0.108673   -0.346626   -0.293893     0.31204    0.189196   \n",
              "\n",
              "   FEATURE_82  FEATURE_91  FEATURE_104  FEATURE_122  ...  FEATURE_320  \\\n",
              "0   -0.016035   -0.229387    -0.404101     0.308174  ...     0.307099   \n",
              "\n",
              "   FEATURE_337  FEATURE_349  FEATURE_424  FEATURE_461  FEATURE_469  \\\n",
              "0    -0.742954    -0.837624     0.383836    -0.163131    -0.765899   \n",
              "\n",
              "   FEATURE_511  FEATURE_564  FEATURE_574  STATUS  \n",
              "0    -0.429163    -0.319035    -0.588187       1  \n",
              "\n",
              "[1 rows x 26 columns]"
            ],
            "text/html": [
              "\n",
              "  <div id=\"df-e6d8c496-83e2-4469-af79-d0abce461a5e\">\n",
              "    <div class=\"colab-df-container\">\n",
              "      <div>\n",
              "<style scoped>\n",
              "    .dataframe tbody tr th:only-of-type {\n",
              "        vertical-align: middle;\n",
              "    }\n",
              "\n",
              "    .dataframe tbody tr th {\n",
              "        vertical-align: top;\n",
              "    }\n",
              "\n",
              "    .dataframe thead th {\n",
              "        text-align: right;\n",
              "    }\n",
              "</style>\n",
              "<table border=\"1\" class=\"dataframe\">\n",
              "  <thead>\n",
              "    <tr style=\"text-align: right;\">\n",
              "      <th></th>\n",
              "      <th>FEATURE_22</th>\n",
              "      <th>FEATURE_32</th>\n",
              "      <th>FEATURE_34</th>\n",
              "      <th>FEATURE_60</th>\n",
              "      <th>FEATURE_65</th>\n",
              "      <th>FEATURE_66</th>\n",
              "      <th>FEATURE_82</th>\n",
              "      <th>FEATURE_91</th>\n",
              "      <th>FEATURE_104</th>\n",
              "      <th>FEATURE_122</th>\n",
              "      <th>...</th>\n",
              "      <th>FEATURE_320</th>\n",
              "      <th>FEATURE_337</th>\n",
              "      <th>FEATURE_349</th>\n",
              "      <th>FEATURE_424</th>\n",
              "      <th>FEATURE_461</th>\n",
              "      <th>FEATURE_469</th>\n",
              "      <th>FEATURE_511</th>\n",
              "      <th>FEATURE_564</th>\n",
              "      <th>FEATURE_574</th>\n",
              "      <th>STATUS</th>\n",
              "    </tr>\n",
              "  </thead>\n",
              "  <tbody>\n",
              "    <tr>\n",
              "      <th>0</th>\n",
              "      <td>0.074841</td>\n",
              "      <td>-0.108673</td>\n",
              "      <td>-0.346626</td>\n",
              "      <td>-0.293893</td>\n",
              "      <td>0.31204</td>\n",
              "      <td>0.189196</td>\n",
              "      <td>-0.016035</td>\n",
              "      <td>-0.229387</td>\n",
              "      <td>-0.404101</td>\n",
              "      <td>0.308174</td>\n",
              "      <td>...</td>\n",
              "      <td>0.307099</td>\n",
              "      <td>-0.742954</td>\n",
              "      <td>-0.837624</td>\n",
              "      <td>0.383836</td>\n",
              "      <td>-0.163131</td>\n",
              "      <td>-0.765899</td>\n",
              "      <td>-0.429163</td>\n",
              "      <td>-0.319035</td>\n",
              "      <td>-0.588187</td>\n",
              "      <td>1</td>\n",
              "    </tr>\n",
              "  </tbody>\n",
              "</table>\n",
              "<p>1 rows × 26 columns</p>\n",
              "</div>\n",
              "      <button class=\"colab-df-convert\" onclick=\"convertToInteractive('df-e6d8c496-83e2-4469-af79-d0abce461a5e')\"\n",
              "              title=\"Convert this dataframe to an interactive table.\"\n",
              "              style=\"display:none;\">\n",
              "        \n",
              "  <svg xmlns=\"http://www.w3.org/2000/svg\" height=\"24px\"viewBox=\"0 0 24 24\"\n",
              "       width=\"24px\">\n",
              "    <path d=\"M0 0h24v24H0V0z\" fill=\"none\"/>\n",
              "    <path d=\"M18.56 5.44l.94 2.06.94-2.06 2.06-.94-2.06-.94-.94-2.06-.94 2.06-2.06.94zm-11 1L8.5 8.5l.94-2.06 2.06-.94-2.06-.94L8.5 2.5l-.94 2.06-2.06.94zm10 10l.94 2.06.94-2.06 2.06-.94-2.06-.94-.94-2.06-.94 2.06-2.06.94z\"/><path d=\"M17.41 7.96l-1.37-1.37c-.4-.4-.92-.59-1.43-.59-.52 0-1.04.2-1.43.59L10.3 9.45l-7.72 7.72c-.78.78-.78 2.05 0 2.83L4 21.41c.39.39.9.59 1.41.59.51 0 1.02-.2 1.41-.59l7.78-7.78 2.81-2.81c.8-.78.8-2.07 0-2.86zM5.41 20L4 18.59l7.72-7.72 1.47 1.35L5.41 20z\"/>\n",
              "  </svg>\n",
              "      </button>\n",
              "      \n",
              "  <style>\n",
              "    .colab-df-container {\n",
              "      display:flex;\n",
              "      flex-wrap:wrap;\n",
              "      gap: 12px;\n",
              "    }\n",
              "\n",
              "    .colab-df-convert {\n",
              "      background-color: #E8F0FE;\n",
              "      border: none;\n",
              "      border-radius: 50%;\n",
              "      cursor: pointer;\n",
              "      display: none;\n",
              "      fill: #1967D2;\n",
              "      height: 32px;\n",
              "      padding: 0 0 0 0;\n",
              "      width: 32px;\n",
              "    }\n",
              "\n",
              "    .colab-df-convert:hover {\n",
              "      background-color: #E2EBFA;\n",
              "      box-shadow: 0px 1px 2px rgba(60, 64, 67, 0.3), 0px 1px 3px 1px rgba(60, 64, 67, 0.15);\n",
              "      fill: #174EA6;\n",
              "    }\n",
              "\n",
              "    [theme=dark] .colab-df-convert {\n",
              "      background-color: #3B4455;\n",
              "      fill: #D2E3FC;\n",
              "    }\n",
              "\n",
              "    [theme=dark] .colab-df-convert:hover {\n",
              "      background-color: #434B5C;\n",
              "      box-shadow: 0px 1px 3px 1px rgba(0, 0, 0, 0.15);\n",
              "      filter: drop-shadow(0px 1px 2px rgba(0, 0, 0, 0.3));\n",
              "      fill: #FFFFFF;\n",
              "    }\n",
              "  </style>\n",
              "\n",
              "      <script>\n",
              "        const buttonEl =\n",
              "          document.querySelector('#df-e6d8c496-83e2-4469-af79-d0abce461a5e button.colab-df-convert');\n",
              "        buttonEl.style.display =\n",
              "          google.colab.kernel.accessAllowed ? 'block' : 'none';\n",
              "\n",
              "        async function convertToInteractive(key) {\n",
              "          const element = document.querySelector('#df-e6d8c496-83e2-4469-af79-d0abce461a5e');\n",
              "          const dataTable =\n",
              "            await google.colab.kernel.invokeFunction('convertToInteractive',\n",
              "                                                     [key], {});\n",
              "          if (!dataTable) return;\n",
              "\n",
              "          const docLinkHtml = 'Like what you see? Visit the ' +\n",
              "            '<a target=\"_blank\" href=https://colab.research.google.com/notebooks/data_table.ipynb>data table notebook</a>'\n",
              "            + ' to learn more about interactive tables.';\n",
              "          element.innerHTML = '';\n",
              "          dataTable['output_type'] = 'display_data';\n",
              "          await google.colab.output.renderOutput(dataTable, element);\n",
              "          const docLink = document.createElement('div');\n",
              "          docLink.innerHTML = docLinkHtml;\n",
              "          element.appendChild(docLink);\n",
              "        }\n",
              "      </script>\n",
              "    </div>\n",
              "  </div>\n",
              "  "
            ]
          },
          "metadata": {},
          "execution_count": 59
        }
      ]
    },
    {
      "cell_type": "code",
      "source": [
        "sns.heatmap(X_train_knn_rfe.corr(), cmap = \"YlGnBu\")\n",
        "plt.title('Correlation Heatmap', fontsize = 20)"
      ],
      "metadata": {
        "colab": {
          "base_uri": "https://localhost:8080/",
          "height": 362
        },
        "id": "cR-4lVlnhsii",
        "outputId": "456b3832-8764-4470-8cf4-1f2889f28508"
      },
      "execution_count": null,
      "outputs": [
        {
          "output_type": "execute_result",
          "data": {
            "text/plain": [
              "Text(0.5, 1.0, 'Correlation Heatmap')"
            ]
          },
          "metadata": {},
          "execution_count": 60
        },
        {
          "output_type": "display_data",
          "data": {
            "text/plain": [
              "<Figure size 432x288 with 2 Axes>"
            ],
            "image/png": "[encoded data removed]"
          },
          "metadata": {
            "needs_background": "light"
          }
        }
      ]
    },
    {
      "cell_type": "markdown",
      "source": [
        "#Balancing"
      ],
      "metadata": {
        "id": "iiHR1MCbVO3N"
      }
    },
    {
      "cell_type": "code",
      "source": [
        "X_train_knn_boruta.groupby(['STATUS']).size().reset_index().rename(columns={0:'count'})\n",
        "X_train_knn_boruta.STATUS.value_counts().plot.bar(color=['blue', 'red'])"
      ],
      "metadata": {
        "id": "aXmXfjWVf4sc",
        "colab": {
          "base_uri": "https://localhost:8080/",
          "height": 282
        },
        "outputId": "3fad231b-e99f-44ed-80b4-09e962373d8f"
      },
      "execution_count": null,
      "outputs": [
        {
          "output_type": "execute_result",
          "data": {
            "text/plain": [
              "<matplotlib.axes._subplots.AxesSubplot at 0x7f9c591a02d0>"
            ]
          },
          "metadata": {},
          "execution_count": 61
        },
        {
          "output_type": "display_data",
          "data": {
            "text/plain": [
              "<Figure size 432x288 with 1 Axes>"
            ],
            "image/png": "[encoded data removed]"
          },
          "metadata": {
            "needs_background": "light"
          }
        }
      ]
    },
    {
      "cell_type": "markdown",
      "source": [
        "##SMOTE"
      ],
      "metadata": {
        "id": "D7XOJZE43Wbf"
      }
    },
    {
      "cell_type": "code",
      "source": [
        "smote = SMOTE(random_state=42)\n",
        "X_train_knn_boruta_data = X_train_knn_boruta.iloc[: , :-1]\n",
        "X_train_knn_boruta_data_sm, X_train_knn_boruta_target_sm = smote.fit_resample(X_train_knn_boruta_data, X_train_knn_boruta.STATUS)\n",
        "X_train_knn_boruta_target_sm.value_counts().plot.bar(color=['blue', 'red'])"
      ],
      "metadata": {
        "colab": {
          "base_uri": "https://localhost:8080/",
          "height": 282
        },
        "id": "oB8R7aTyVTbE",
        "outputId": "31b43623-b4dd-4806-9711-626635a5a920"
      },
      "execution_count": null,
      "outputs": [
        {
          "output_type": "execute_result",
          "data": {
            "text/plain": [
              "<matplotlib.axes._subplots.AxesSubplot at 0x7f9c591885d0>"
            ]
          },
          "metadata": {},
          "execution_count": 62
        },
        {
          "output_type": "display_data",
          "data": {
            "text/plain": [
              "<Figure size 432x288 with 1 Axes>"
            ],
            "image/png": "[encoded data removed]"
          },
          "metadata": {
            "needs_background": "light"
          }
        }
      ]
    },
    {
      "cell_type": "markdown",
      "source": [
        "##ROSE"
      ],
      "metadata": {
        "id": "NKzUK7635r3N"
      }
    },
    {
      "cell_type": "code",
      "source": [
        "ros = RandomOverSampler(random_state=42)\n",
        "X_train_knn_boruta_data_ros, X_train_knn_boruta_target_ros = ros.fit_resample(X_train_knn_boruta_data, X_train_knn_boruta.STATUS)\n",
        "X_train_knn_boruta_target_ros.value_counts().plot.bar(color=['blue', 'red'])"
      ],
      "metadata": {
        "id": "RjxYkFLO4MvE",
        "colab": {
          "base_uri": "https://localhost:8080/",
          "height": 282
        },
        "outputId": "7eaa823b-deae-46d4-a639-971ce1b64162"
      },
      "execution_count": null,
      "outputs": [
        {
          "output_type": "execute_result",
          "data": {
            "text/plain": [
              "<matplotlib.axes._subplots.AxesSubplot at 0x7f9c590fc350>"
            ]
          },
          "metadata": {},
          "execution_count": 63
        },
        {
          "output_type": "display_data",
          "data": {
            "text/plain": [
              "<Figure size 432x288 with 1 Axes>"
            ],
            "image/png": "[encoded data removed]"
          },
          "metadata": {
            "needs_background": "light"
          }
        }
      ]
    },
    {
      "cell_type": "markdown",
      "source": [
        "#Model"
      ],
      "metadata": {
        "id": "hQfW56222O96"
      }
    },
    {
      "cell_type": "markdown",
      "source": [
        "##Logistic Regression"
      ],
      "metadata": {
        "id": "Tylaj5mOIxYd"
      }
    },
    {
      "cell_type": "code",
      "source": [
        "logreg = LogisticRegression()\n",
        "logreg.fit(X_train_knn_boruta_data_sm, X_train_knn_boruta_target_sm)"
      ],
      "metadata": {
        "colab": {
          "base_uri": "https://localhost:8080/"
        },
        "id": "xOCJUDGC5y_g",
        "outputId": "cb91709c-1f46-4a81-b44b-d63cda011a3d"
      },
      "execution_count": null,
      "outputs": [
        {
          "output_type": "execute_result",
          "data": {
            "text/plain": [
              "LogisticRegression()"
            ]
          },
          "metadata": {},
          "execution_count": 64
        }
      ]
    },
    {
      "cell_type": "code",
      "source": [
        "#Copy the Dataset to easily go back if mistakes are made\n",
        "X_test_df = X_test.copy()\n",
        "y_test = X_test_df.STATUS\n",
        "\n",
        "X_test_df = X_test_df.iloc[: , :-1]\n",
        "#Test data preparation_ outlier treatment and knn imputation\n",
        "#Outlier treatment\n",
        "for col in X_test_df.columns:\n",
        "    mean = X_test_df[col].mean()\n",
        "    std_dev = X_test_df[col].std(axis=0)\n",
        "    X_test_df[col] = np.where(X_test_df[col] > (mean + 3*std_dev) , (mean + 3*std_dev), X_test_df[col])\n",
        "    X_test_df[col] = np.where(X_test_df[col] < (mean - 3*std_dev) , (mean - 3*std_dev), X_test_df[col])\n",
        "#KNN imputation\n",
        "scaler = MinMaxScaler(feature_range=(-1,1))\n",
        "X_test_knn = pd.DataFrame(scaler.fit_transform(X_test_df), columns = X_test_df.columns)\n",
        "imputer = KNNImputer(n_neighbors=5)\n",
        "X_test_knn = pd.DataFrame(imputer.fit_transform(X_test_knn),columns = X_test_knn.columns)\n",
        "\n",
        "knn_boruta_features = X_train_knn_boruta.iloc[: , :-1]\n",
        "X_test_knn = X_test_knn[knn_boruta_features.columns]\n",
        "\n",
        "y_pred = logreg.predict(X_test_knn)\n",
        "print('Accuracy of logistic regression classifier on test set: {:.2f}'.format(logreg.score(X_test_knn, y_test)))\n",
        "\n",
        "print(classification_report(y_test, y_pred))"
      ],
      "metadata": {
        "colab": {
          "base_uri": "https://localhost:8080/"
        },
        "id": "UThxEW9-KHRM",
        "outputId": "aac35a9c-0d73-4056-9fed-8fa74f5b0360"
      },
      "execution_count": null,
      "outputs": [
        {
          "output_type": "stream",
          "name": "stdout",
          "text": [
            "Accuracy of logistic regression classifier on test set: 0.74\n",
            "              precision    recall  f1-score   support\n",
            "\n",
            "          -1       0.95      0.76      0.84       293\n",
            "           1       0.12      0.48      0.20        21\n",
            "\n",
            "    accuracy                           0.74       314\n",
            "   macro avg       0.54      0.62      0.52       314\n",
            "weighted avg       0.90      0.74      0.80       314\n",
            "\n"
          ]
        }
      ]
    },
    {
      "cell_type": "code",
      "source": [
        "logit_roc_auc = roc_auc_score(y_test, logreg.predict(X_test_knn))\n",
        "fpr, tpr, thresholds = roc_curve(y_test, logreg.predict_proba(X_test_knn)[:,1])\n",
        "plt.figure()\n",
        "plt.plot(fpr, tpr, label='Logistic Regression (area = %0.2f)' % logit_roc_auc)\n",
        "plt.plot([0, 1], [0, 1],'r--')\n",
        "plt.xlim([0.0, 1.0])\n",
        "plt.ylim([0.0, 1.05])\n",
        "plt.xlabel('False Positive Rate')\n",
        "plt.ylabel('True Positive Rate')\n",
        "plt.title('Receiver operating characteristic')\n",
        "plt.legend(loc=\"lower right\")\n",
        "plt.savefig('Log_ROC')\n",
        "plt.show()"
      ],
      "metadata": {
        "colab": {
          "base_uri": "https://localhost:8080/",
          "height": 295
        },
        "id": "qCar6_u6JWEc",
        "outputId": "d0938e12-e6ab-4578-c74b-5fbb6b54c3a7"
      },
      "execution_count": null,
      "outputs": [
        {
          "output_type": "display_data",
          "data": {
            "text/plain": [
              "<Figure size 432x288 with 1 Axes>"
            ],
            "image/png": "[encoded data removed]"
          },
          "metadata": {
            "needs_background": "light"
          }
        }
      ]
    },
    {
      "cell_type": "markdown",
      "source": [
        "#Evaluate\n",
        "In the following steps we will evaluate the different combinations of data preparation to get to the best combination for a simple model.\n",
        "\n",
        "Simple feature romoval will already be done:\n",
        "\n",
        "* Removing features with high percentage of missing values\n",
        "* Removing features with near 0 variance\n",
        "* Removing from the most correlated features the one that has the lowest correlation with the target variable\n",
        "\n",
        "We will try different combinations imputations methods, feature selection and balancing and examine the performance of a simple Logistic Regression."
      ],
      "metadata": {
        "id": "TGcaFM6T3Y2M"
      }
    },
    {
      "cell_type": "markdown",
      "source": [
        "##Starting point"
      ],
      "metadata": {
        "id": "YCWvGq5T4noT"
      }
    },
    {
      "cell_type": "code",
      "source": [
        "after_first_removal_columns  = X_train_df_columns"
      ],
      "metadata": {
        "id": "PJgRzaCGet_s"
      },
      "execution_count": null,
      "outputs": []
    },
    {
      "cell_type": "code",
      "source": [
        "print(\"TRAIN SET SHAPE: \", X_train.shape)\n",
        "print(\"TEST SET SHAPE: \", X_test.shape)\n",
        "print(\"NUMBER OF COLUMNS AFTER ROUGHT FEATURE REMOVAL\", len(after_first_removal_columns))\n",
        "X__train = X_train[after_first_removal_columns]\n",
        "X__test = X_test[after_first_removal_columns]\n",
        "print(\"TRAIN SET SHAPE: \", X__train.shape)\n",
        "print(\"TEST SET SHAPE: \", X__test.shape)\n",
        "print(\"\\nTRAIN SET:\")\n",
        "X__train = outlier_replacement(X__train)\n",
        "print(\"\\nTEST SET:\")\n",
        "X__test = outlier_replacement(X__test)"
      ],
      "metadata": {
        "colab": {
          "base_uri": "https://localhost:8080/"
        },
        "id": "-92cI7_a6OMk",
        "outputId": "01559993-0a5e-46e9-fc17-fe3d485aab29"
      },
      "execution_count": null,
      "outputs": [
        {
          "output_type": "stream",
          "name": "stdout",
          "text": [
            "TRAIN SET SHAPE:  (1253, 591)\n",
            "TEST SET SHAPE:  (314, 591)\n",
            "NUMBER OF COLUMNS AFTER ROUGHT FEATURE REMOVAL 347\n",
            "TRAIN SET SHAPE:  (1253, 347)\n",
            "TEST SET SHAPE:  (314, 347)\n",
            "\n",
            "TRAIN SET:\n",
            "TOTAL OF VALUES:  434791 \n",
            "TOTAL OF OUTLIERS:  4095 \n",
            "PERCENTAGE OF OUTLIERS REPLACED:  0.9418318226458229 %\n",
            "\n",
            "TEST SET:\n",
            "TOTAL OF VALUES:  108958 \n",
            "TOTAL OF OUTLIERS:  1022 \n",
            "PERCENTAGE OF OUTLIERS REPLACED:  0.9379761008829091 %\n"
          ]
        }
      ]
    },
    {
      "cell_type": "markdown",
      "source": [
        "###KNN IMPUTATION"
      ],
      "metadata": {
        "id": "5oPyeK-NQeO3"
      }
    },
    {
      "cell_type": "code",
      "source": [
        "print(\"\\nTRAIN SET:\")\n",
        "X__train__knn = knn_imputation(X__train)\n",
        "print(\"\\nTEST SET:\")\n",
        "X__test__knn = knn_imputation(X__test)"
      ],
      "metadata": {
        "colab": {
          "base_uri": "https://localhost:8080/"
        },
        "id": "f1yutTicaLJr",
        "outputId": "b6c1d959-b7cb-4015-de4f-6a9a68c5f014"
      },
      "execution_count": null,
      "outputs": [
        {
          "output_type": "stream",
          "name": "stdout",
          "text": [
            "\n",
            "TRAIN SET:\n",
            "PERCENTAGE OF MISSING VALUES: 2.12  %\n",
            "\n",
            "PERCENTAGE OF MISSING VALUES AFTER IMPUTATION: 0.0  %\n",
            "\n",
            "TEST SET:\n",
            "PERCENTAGE OF MISSING VALUES: 2.13  %\n",
            "\n",
            "PERCENTAGE OF MISSING VALUES AFTER IMPUTATION: 0.0  %\n"
          ]
        }
      ]
    },
    {
      "cell_type": "markdown",
      "source": [
        "###MICE IMPUTATION"
      ],
      "metadata": {
        "id": "jpZmTs6DafmT"
      }
    },
    {
      "cell_type": "code",
      "source": [
        "print(\"\\nTRAIN SET:\")\n",
        "X__train__mice = mice_imputation(X__train)\n",
        "print(\"\\nTEST SET:\")\n",
        "X__test__mice = mice_imputation(X__test)"
      ],
      "metadata": {
        "colab": {
          "base_uri": "https://localhost:8080/"
        },
        "id": "0cOawt27agAL",
        "outputId": "7ca65d22-913b-423f-cd24-e9370f88fd13"
      },
      "execution_count": null,
      "outputs": [
        {
          "output_type": "stream",
          "name": "stdout",
          "text": [
            "\n",
            "TRAIN SET:\n",
            "PERCENTAGE OF MISSING VALUES: 2.12  %\n",
            "PERCENTAGE OF MISSING VALUES AFTER MICE: 0.0  %\n",
            "\n",
            "\n",
            "TEST SET:\n",
            "PERCENTAGE OF MISSING VALUES: 2.13  %\n",
            "PERCENTAGE OF MISSING VALUES AFTER MICE: 0.0  %\n",
            "\n"
          ]
        }
      ]
    },
    {
      "cell_type": "markdown",
      "source": [
        "###BORUTA FEATURE SELECTION"
      ],
      "metadata": {
        "id": "kNcGPXnI00Z9"
      }
    },
    {
      "cell_type": "code",
      "source": [
        "print(\"\\nKNN TRAIN SET:\")\n",
        "X__train__knn__boruta = boruta_feature_selection(X__train__knn, target_var = 'STATUS')\n",
        "X__test__knn__boruta = X__test__knn[X__train__knn__boruta.columns]\n",
        "print(\"KNN BORUTA TRAIN SET SHAPE: \", X__train__knn__boruta.shape)\n",
        "print(\"KNN BORUTA TEST SET SHAPE: \", X__test__knn__boruta.shape)\n",
        "print(\"\\nMICE TRAIN SET:\")\n",
        "X__train__mice__boruta = boruta_feature_selection(X__train__mice, target_var = 'STATUS')\n",
        "X__test__mice__boruta = X__test__mice[X__train__mice__boruta.columns]\n",
        "print(\"MICE BORUTA TRAIN SET SHAPE: \", X__train__mice__boruta.shape)\n",
        "print(\"MICE BORUTA TEST SET SHAPE: \", X__test__mice__boruta.shape)"
      ],
      "metadata": {
        "colab": {
          "base_uri": "https://localhost:8080/"
        },
        "id": "OUEpUWcJ00wq",
        "outputId": "44b6d8f7-fa04-4c25-b3b2-6253bfbb486d"
      },
      "execution_count": null,
      "outputs": [
        {
          "output_type": "stream",
          "name": "stdout",
          "text": [
            "\n",
            "KNN TRAIN SET:\n",
            "FEATURES LEFT WITH BORUTA:  15 \n",
            "\n",
            "KNN BORUTA TRAIN SET SHAPE:  (1253, 15)\n",
            "KNN BORUTA TEST SET SHAPE:  (314, 15)\n",
            "\n",
            "MICE TRAIN SET:\n",
            "FEATURES LEFT WITH BORUTA:  13 \n",
            "\n",
            "MICE BORUTA TRAIN SET SHAPE:  (1253, 13)\n",
            "MICE BORUTA TEST SET SHAPE:  (314, 13)\n"
          ]
        }
      ]
    },
    {
      "cell_type": "markdown",
      "source": [
        "###RFE FEATURE SELECTION"
      ],
      "metadata": {
        "id": "GQSvwapp008_"
      }
    },
    {
      "cell_type": "code",
      "source": [
        "print(\"\\nKNN TRAIN SET:\")\n",
        "X__train__knn__rfe = rfe_feature_selection(X__train__knn, target_var = 'STATUS', n_features = 25)\n",
        "X__test__knn__rfe = X__test__knn[X__train__knn__rfe.columns]\n",
        "print(\"KNN RFE TRAIN SET SHAPE: \", X__train__knn__rfe.shape)\n",
        "print(\"KNN RFE TEST SET SHAPE: \", X__test__knn__rfe.shape)\n",
        "print(\"\\nMICE TRAIN SET:\")\n",
        "X__train__mice__rfe = rfe_feature_selection(X__train__mice, target_var = 'STATUS', n_features = 25)\n",
        "X__test__mice__rfe = X__test__mice[X__train__mice__rfe.columns]\n",
        "print(\"MICE RFE TRAIN SET SHAPE: \", X__train__mice__rfe.shape)\n",
        "print(\"MICE RFE TEST SET SHAPE: \", X__test__mice__rfe.shape)"
      ],
      "metadata": {
        "colab": {
          "base_uri": "https://localhost:8080/"
        },
        "id": "tg7V5NOI01H_",
        "outputId": "9d625ad5-529a-4280-b0cf-e82b5f8c142e"
      },
      "execution_count": null,
      "outputs": [
        {
          "output_type": "stream",
          "name": "stdout",
          "text": [
            "\n",
            "KNN TRAIN SET:\n",
            "FEATURES LEFT WITH RFE:  26 \n",
            "\n",
            "KNN RFE TRAIN SET SHAPE:  (1253, 26)\n",
            "KNN RFE TEST SET SHAPE:  (314, 26)\n",
            "\n",
            "MICE TRAIN SET:\n",
            "FEATURES LEFT WITH RFE:  26 \n",
            "\n",
            "MICE RFE TRAIN SET SHAPE:  (1253, 26)\n",
            "MICE RFE TEST SET SHAPE:  (314, 26)\n"
          ]
        }
      ]
    },
    {
      "cell_type": "markdown",
      "source": [
        "###SMOTE BALANCING"
      ],
      "metadata": {
        "id": "X8uSd6yYhS_l"
      }
    },
    {
      "cell_type": "code",
      "source": [
        "print(\"\\nKNN BORUTA TRAIN SET:\")\n",
        "X__train__knn__boruta__smote = smote_balancing(X__train__knn__boruta, target_var = 'STATUS')\n",
        "print(\"\\nMICE BORUTA TRAIN SET:\")\n",
        "X__train__mice__boruta__smote = smote_balancing(X__train__mice__boruta, target_var = 'STATUS')\n",
        "print(\"\\nKNN RFE TRAIN SET:\")\n",
        "X__train__knn__rfe__smote = smote_balancing(X__train__knn__rfe, target_var = 'STATUS')\n",
        "print(\"\\nMICE RFE TRAIN SET:\")\n",
        "X__train__mice__rfe__smote = smote_balancing(X__train__mice__rfe, target_var = 'STATUS')"
      ],
      "metadata": {
        "colab": {
          "base_uri": "https://localhost:8080/"
        },
        "id": "mL-tmGqNiAZ0",
        "outputId": "53b0b30b-dfc6-4ace-cc6b-966795a02a47"
      },
      "execution_count": null,
      "outputs": [
        {
          "output_type": "stream",
          "name": "stdout",
          "text": [
            "\n",
            "KNN BORUTA TRAIN SET:\n",
            "BEFORE BALANCING\n",
            "   STATUS  count\n",
            "0      -1   1170\n",
            "1       1     83\n",
            "AFTER SMOTE BALANCING\n",
            "   STATUS  count\n",
            "0      -1   1170\n",
            "1       1   1170\n",
            "\n",
            "MICE BORUTA TRAIN SET:\n",
            "BEFORE BALANCING\n",
            "   STATUS  count\n",
            "0      -1   1170\n",
            "1       1     83\n",
            "AFTER SMOTE BALANCING\n",
            "   STATUS  count\n",
            "0      -1   1170\n",
            "1       1   1170\n",
            "\n",
            "KNN RFE TRAIN SET:\n",
            "BEFORE BALANCING\n",
            "   STATUS  count\n",
            "0      -1   1170\n",
            "1       1     83\n",
            "AFTER SMOTE BALANCING\n",
            "   STATUS  count\n",
            "0      -1   1170\n",
            "1       1   1170\n",
            "\n",
            "MICE RFE TRAIN SET:\n",
            "BEFORE BALANCING\n",
            "   STATUS  count\n",
            "0      -1   1170\n",
            "1       1     83\n",
            "AFTER SMOTE BALANCING\n",
            "   STATUS  count\n",
            "0      -1   1170\n",
            "1       1   1170\n"
          ]
        }
      ]
    },
    {
      "cell_type": "markdown",
      "source": [
        "###ROSE BALANCING"
      ],
      "metadata": {
        "id": "3rAbtmhaiBLU"
      }
    },
    {
      "cell_type": "code",
      "source": [
        "print(\"\\nKNN BORUTA TRAIN SET:\")\n",
        "X__train__knn__boruta__rose =  rose_balancing(X__train__knn__boruta, target_var = 'STATUS')\n",
        "print(\"\\nMICE BORUTA TRAIN SET:\")\n",
        "X__train__mice__boruta__rose = rose_balancing(X__train__mice__boruta, target_var = 'STATUS')\n",
        "print(\"\\nKNN RFE TRAIN SET:\")\n",
        "X__train__knn__rfe__rose = rose_balancing(X__train__knn__rfe, target_var = 'STATUS')\n",
        "print(\"\\nMICE RFE TRAIN SET:\")\n",
        "X__train__mice__rfe__rose = rose_balancing(X__train__mice__rfe, target_var = 'STATUS')"
      ],
      "metadata": {
        "colab": {
          "base_uri": "https://localhost:8080/"
        },
        "id": "uyQE5qPBhrhs",
        "outputId": "a079ed4b-8931-4d21-8abe-3f42ab599845"
      },
      "execution_count": null,
      "outputs": [
        {
          "output_type": "stream",
          "name": "stdout",
          "text": [
            "\n",
            "KNN BORUTA TRAIN SET:\n",
            "BEFORE BALANCING\n",
            "   STATUS  count\n",
            "0      -1   1170\n",
            "1       1     83\n",
            "AFTER ROSE BALANCING\n",
            "   STATUS  count\n",
            "0      -1   1170\n",
            "1       1   1170\n",
            "\n",
            "MICE BORUTA TRAIN SET:\n",
            "BEFORE BALANCING\n",
            "   STATUS  count\n",
            "0      -1   1170\n",
            "1       1     83\n",
            "AFTER ROSE BALANCING\n",
            "   STATUS  count\n",
            "0      -1   1170\n",
            "1       1   1170\n",
            "\n",
            "KNN RFE TRAIN SET:\n",
            "BEFORE BALANCING\n",
            "   STATUS  count\n",
            "0      -1   1170\n",
            "1       1     83\n",
            "AFTER ROSE BALANCING\n",
            "   STATUS  count\n",
            "0      -1   1170\n",
            "1       1   1170\n",
            "\n",
            "MICE RFE TRAIN SET:\n",
            "BEFORE BALANCING\n",
            "   STATUS  count\n",
            "0      -1   1170\n",
            "1       1     83\n",
            "AFTER ROSE BALANCING\n",
            "   STATUS  count\n",
            "0      -1   1170\n",
            "1       1   1170\n"
          ]
        }
      ]
    },
    {
      "cell_type": "markdown",
      "source": [
        "##EVALUATE DIFFERENT COMBINATIONS"
      ],
      "metadata": {
        "id": "xNPvJkyEq0v_"
      }
    },
    {
      "cell_type": "markdown",
      "source": [
        "###KNN BORUTA SMOTE LOGREG"
      ],
      "metadata": {
        "id": "gcOjpUVUNnm8"
      }
    },
    {
      "cell_type": "code",
      "source": [
        "logistic_regression(X__train__knn__boruta__smote, X__test__knn__boruta, target_var = 'STATUS')"
      ],
      "metadata": {
        "colab": {
          "base_uri": "https://localhost:8080/",
          "height": 486
        },
        "id": "wt4WE3tDOMzA",
        "outputId": "8e410432-4469-45cd-8335-45a737f6dab5"
      },
      "execution_count": null,
      "outputs": [
        {
          "output_type": "stream",
          "name": "stdout",
          "text": [
            "Accuracy of logistic regression classifier on test set: 0.74\n",
            "              precision    recall  f1-score   support\n",
            "\n",
            "          -1       0.95      0.76      0.84       293\n",
            "           1       0.12      0.48      0.20        21\n",
            "\n",
            "    accuracy                           0.74       314\n",
            "   macro avg       0.54      0.62      0.52       314\n",
            "weighted avg       0.90      0.74      0.80       314\n",
            "\n",
            "Average Accuracy: 0.7388535031847133\n"
          ]
        },
        {
          "output_type": "display_data",
          "data": {
            "text/plain": [
              "<Figure size 432x288 with 1 Axes>"
            ],
            "image/png": "[encoded data removed]"
          },
          "metadata": {
            "needs_background": "light"
          }
        }
      ]
    },
    {
      "cell_type": "markdown",
      "source": [
        "###KNN BORUTA ROSE LOGREG"
      ],
      "metadata": {
        "id": "2yHigybqONzg"
      }
    },
    {
      "cell_type": "code",
      "source": [
        "logistic_regression(X__train__knn__boruta__rose, X__test__knn__boruta, target_var = 'STATUS')"
      ],
      "metadata": {
        "colab": {
          "base_uri": "https://localhost:8080/",
          "height": 486
        },
        "id": "qGIS8jK5OQ_4",
        "outputId": "a283f04b-110c-41fe-bd4c-2c08814ed7cc"
      },
      "execution_count": null,
      "outputs": [
        {
          "output_type": "stream",
          "name": "stdout",
          "text": [
            "Accuracy of logistic regression classifier on test set: 0.75\n",
            "              precision    recall  f1-score   support\n",
            "\n",
            "          -1       0.95      0.76      0.85       293\n",
            "           1       0.13      0.48      0.20        21\n",
            "\n",
            "    accuracy                           0.75       314\n",
            "   macro avg       0.54      0.62      0.52       314\n",
            "weighted avg       0.90      0.75      0.81       314\n",
            "\n",
            "Average Accuracy: 0.7452229299363057\n"
          ]
        },
        {
          "output_type": "display_data",
          "data": {
            "text/plain": [
              "<Figure size 432x288 with 1 Axes>"
            ],
            "image/png": "[encoded data removed]"
          },
          "metadata": {
            "needs_background": "light"
          }
        }
      ]
    },
    {
      "cell_type": "markdown",
      "source": [
        "###KNN RFE SMOTE LOGREG"
      ],
      "metadata": {
        "id": "B4o4tTZkOSTp"
      }
    },
    {
      "cell_type": "code",
      "source": [
        "logistic_regression(X__train__knn__rfe__smote, X__test__knn__rfe, target_var = 'STATUS')"
      ],
      "metadata": {
        "colab": {
          "base_uri": "https://localhost:8080/",
          "height": 486
        },
        "id": "S0p6lb6lOpaY",
        "outputId": "9327b137-6fc6-4e99-de07-17810b3c9942"
      },
      "execution_count": null,
      "outputs": [
        {
          "output_type": "stream",
          "name": "stdout",
          "text": [
            "Accuracy of logistic regression classifier on test set: 0.69\n",
            "              precision    recall  f1-score   support\n",
            "\n",
            "          -1       0.97      0.69      0.81       293\n",
            "           1       0.14      0.71      0.24        21\n",
            "\n",
            "    accuracy                           0.69       314\n",
            "   macro avg       0.56      0.70      0.52       314\n",
            "weighted avg       0.92      0.69      0.77       314\n",
            "\n",
            "Average Accuracy: 0.6942675159235668\n"
          ]
        },
        {
          "output_type": "display_data",
          "data": {
            "text/plain": [
              "<Figure size 432x288 with 1 Axes>"
            ],
            "image/png": "[encoded data removed]"
          },
          "metadata": {
            "needs_background": "light"
          }
        }
      ]
    },
    {
      "cell_type": "markdown",
      "source": [
        "###KNN RFE ROSE LOGREG"
      ],
      "metadata": {
        "id": "YkCABiqSOrxI"
      }
    },
    {
      "cell_type": "code",
      "source": [
        "logistic_regression(X__train__knn__rfe__rose, X__test__knn__rfe, target_var = 'STATUS')"
      ],
      "metadata": {
        "colab": {
          "base_uri": "https://localhost:8080/",
          "height": 486
        },
        "id": "YI5XJbMSOr7w",
        "outputId": "36a32f5e-0f90-40c2-83f3-33745b16a0ca"
      },
      "execution_count": null,
      "outputs": [
        {
          "output_type": "stream",
          "name": "stdout",
          "text": [
            "Accuracy of logistic regression classifier on test set: 0.71\n",
            "              precision    recall  f1-score   support\n",
            "\n",
            "          -1       0.96      0.72      0.82       293\n",
            "           1       0.14      0.62      0.22        21\n",
            "\n",
            "    accuracy                           0.71       314\n",
            "   macro avg       0.55      0.67      0.52       314\n",
            "weighted avg       0.91      0.71      0.78       314\n",
            "\n",
            "Average Accuracy: 0.7133757961783439\n"
          ]
        },
        {
          "output_type": "display_data",
          "data": {
            "text/plain": [
              "<Figure size 432x288 with 1 Axes>"
            ],
            "image/png": "[encoded data removed]"
          },
          "metadata": {
            "needs_background": "light"
          }
        }
      ]
    },
    {
      "cell_type": "markdown",
      "source": [
        "###MICE BORUTA SMOTE LOGREG"
      ],
      "metadata": {
        "id": "srSYIoaSOsGI"
      }
    },
    {
      "cell_type": "code",
      "source": [
        "logistic_regression(X__train__mice__boruta__smote, X__test__mice__boruta, target_var = 'STATUS')"
      ],
      "metadata": {
        "colab": {
          "base_uri": "https://localhost:8080/",
          "height": 486
        },
        "id": "dZmD3eCNOsPA",
        "outputId": "c8fcc223-8a23-4de1-cae3-8243fa602c03"
      },
      "execution_count": null,
      "outputs": [
        {
          "output_type": "stream",
          "name": "stdout",
          "text": [
            "Accuracy of logistic regression classifier on test set: 0.70\n",
            "              precision    recall  f1-score   support\n",
            "\n",
            "          -1       0.94      0.73      0.82       293\n",
            "           1       0.09      0.38      0.15        21\n",
            "\n",
            "    accuracy                           0.70       314\n",
            "   macro avg       0.52      0.55      0.48       314\n",
            "weighted avg       0.89      0.70      0.78       314\n",
            "\n",
            "Average Accuracy: 0.7038216560509554\n"
          ]
        },
        {
          "output_type": "display_data",
          "data": {
            "text/plain": [
              "<Figure size 432x288 with 1 Axes>"
            ],
            "image/png": "[encoded data removed]"
          },
          "metadata": {
            "needs_background": "light"
          }
        }
      ]
    },
    {
      "cell_type": "code",
      "source": [
        "print(\"MICE BORUTA SMOTE LOGREG WITH SCALER\")\n",
        "logistic_regression_with_scaler(X__train__mice__boruta__smote, X__test__mice__boruta, target_var = 'STATUS')"
      ],
      "metadata": {
        "colab": {
          "base_uri": "https://localhost:8080/",
          "height": 503
        },
        "id": "7LbCs5HCY1JQ",
        "outputId": "98b04153-2a22-42ed-b3db-fe38f6f51d54"
      },
      "execution_count": null,
      "outputs": [
        {
          "output_type": "stream",
          "name": "stdout",
          "text": [
            "MICE BORUTA SMOTE LOGREG WITH SCALER\n",
            "Accuracy of logistic regression classifier on test set: 0.09\n",
            "              precision    recall  f1-score   support\n",
            "\n",
            "          -1       1.00      0.02      0.05       293\n",
            "           1       0.07      1.00      0.13        21\n",
            "\n",
            "    accuracy                           0.09       314\n",
            "   macro avg       0.53      0.51      0.09       314\n",
            "weighted avg       0.94      0.09      0.05       314\n",
            "\n",
            "Average Accuracy: 0.08917197452229299\n"
          ]
        },
        {
          "output_type": "display_data",
          "data": {
            "text/plain": [
              "<Figure size 432x288 with 1 Axes>"
            ],
            "image/png": "[encoded data removed]"
          },
          "metadata": {
            "needs_background": "light"
          }
        }
      ]
    },
    {
      "cell_type": "markdown",
      "source": [
        "###MICE BORUTA ROSE LOGREG"
      ],
      "metadata": {
        "id": "bFV3iR3qOsmo"
      }
    },
    {
      "cell_type": "code",
      "source": [
        "logistic_regression(X__train__mice__boruta__rose, X__test__mice__boruta, target_var = 'STATUS')"
      ],
      "metadata": {
        "colab": {
          "base_uri": "https://localhost:8080/",
          "height": 486
        },
        "id": "DFDABIFuOsvY",
        "outputId": "563315d9-63d2-4402-b0aa-75f56b1d4a34"
      },
      "execution_count": null,
      "outputs": [
        {
          "output_type": "stream",
          "name": "stdout",
          "text": [
            "Accuracy of logistic regression classifier on test set: 0.71\n",
            "              precision    recall  f1-score   support\n",
            "\n",
            "          -1       0.95      0.73      0.83       293\n",
            "           1       0.10      0.43      0.17        21\n",
            "\n",
            "    accuracy                           0.71       314\n",
            "   macro avg       0.53      0.58      0.50       314\n",
            "weighted avg       0.89      0.71      0.78       314\n",
            "\n",
            "Average Accuracy: 0.7133757961783439\n"
          ]
        },
        {
          "output_type": "display_data",
          "data": {
            "text/plain": [
              "<Figure size 432x288 with 1 Axes>"
            ],
            "image/png": "[encoded data removed]"
          },
          "metadata": {
            "needs_background": "light"
          }
        }
      ]
    },
    {
      "cell_type": "markdown",
      "source": [
        "###MICE RFE SMOTE LOGREG"
      ],
      "metadata": {
        "id": "j3fJhUgYOs3J"
      }
    },
    {
      "cell_type": "code",
      "source": [
        "logistic_regression(X__train__mice__rfe__smote, X__test__mice__rfe , target_var = 'STATUS')"
      ],
      "metadata": {
        "colab": {
          "base_uri": "https://localhost:8080/",
          "height": 486
        },
        "id": "XIzWEKWkrSDb",
        "outputId": "e5e3ae40-df10-4f91-a5c2-a2394070e33d"
      },
      "execution_count": null,
      "outputs": [
        {
          "output_type": "stream",
          "name": "stdout",
          "text": [
            "Accuracy of logistic regression classifier on test set: 0.74\n",
            "              precision    recall  f1-score   support\n",
            "\n",
            "          -1       0.96      0.75      0.84       293\n",
            "           1       0.14      0.57      0.23        21\n",
            "\n",
            "    accuracy                           0.74       314\n",
            "   macro avg       0.55      0.66      0.53       314\n",
            "weighted avg       0.91      0.74      0.80       314\n",
            "\n",
            "Average Accuracy: 0.7388535031847133\n"
          ]
        },
        {
          "output_type": "display_data",
          "data": {
            "text/plain": [
              "<Figure size 432x288 with 1 Axes>"
            ],
            "image/png": "[encoded data removed]"
          },
          "metadata": {
            "needs_background": "light"
          }
        }
      ]
    },
    {
      "cell_type": "markdown",
      "source": [
        "###MICE RFE ROSE LOGREG"
      ],
      "metadata": {
        "id": "M7CoFkX2PI9X"
      }
    },
    {
      "cell_type": "code",
      "source": [
        "logistic_regression(X__train__mice__rfe__rose, X__test__mice__rfe , target_var = 'STATUS')"
      ],
      "metadata": {
        "colab": {
          "base_uri": "https://localhost:8080/",
          "height": 486
        },
        "id": "Nu5EEdm9PJeY",
        "outputId": "0f0e2442-991c-48db-a5fe-233ebc77baca"
      },
      "execution_count": null,
      "outputs": [
        {
          "output_type": "stream",
          "name": "stdout",
          "text": [
            "Accuracy of logistic regression classifier on test set: 0.77\n",
            "              precision    recall  f1-score   support\n",
            "\n",
            "          -1       0.96      0.79      0.87       293\n",
            "           1       0.15      0.52      0.24        21\n",
            "\n",
            "    accuracy                           0.77       314\n",
            "   macro avg       0.56      0.66      0.55       314\n",
            "weighted avg       0.90      0.77      0.83       314\n",
            "\n",
            "Average Accuracy: 0.7738853503184714\n"
          ]
        },
        {
          "output_type": "display_data",
          "data": {
            "text/plain": [
              "<Figure size 432x288 with 1 Axes>"
            ],
            "image/png": "[encoded data removed]"
          },
          "metadata": {
            "needs_background": "light"
          }
        }
      ]
    }
  ]
}